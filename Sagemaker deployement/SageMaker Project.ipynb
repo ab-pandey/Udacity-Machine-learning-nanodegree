{
 "cells": [
  {
   "cell_type": "markdown",
   "metadata": {},
   "source": [
    "# Creating a Sentiment Analysis Web App\n",
    "## Using PyTorch and SageMaker\n",
    "\n",
    "_Deep Learning Nanodegree Program | Deployment_\n",
    "\n",
    "---\n",
    "\n",
    "Now that we have a basic understanding of how SageMaker works we will try to use it to construct a complete project from end to end. Our goal will be to have a simple web page which a user can use to enter a movie review. The web page will then send the review off to our deployed model which will predict the sentiment of the entered review.\n",
    "\n",
    "## Instructions\n",
    "\n",
    "Some template code has already been provided for you, and you will need to implement additional functionality to successfully complete this notebook. You will not need to modify the included code beyond what is requested. Sections that begin with '**TODO**' in the header indicate that you need to complete or implement some portion within them. Instructions will be provided for each section and the specifics of the implementation are marked in the code block with a `# TODO: ...` comment. Please be sure to read the instructions carefully!\n",
    "\n",
    "In addition to implementing code, there will be questions for you to answer which relate to the task and your implementation. Each section where you will answer a question is preceded by a '**Question:**' header. Carefully read each question and provide your answer below the '**Answer:**' header by editing the Markdown cell.\n",
    "\n",
    "> **Note**: Code and Markdown cells can be executed using the **Shift+Enter** keyboard shortcut. In addition, a cell can be edited by typically clicking it (double-click for Markdown cells) or by pressing **Enter** while it is highlighted.\n",
    "\n",
    "## General Outline\n",
    "\n",
    "Recall the general outline for SageMaker projects using a notebook instance.\n",
    "\n",
    "1. Download or otherwise retrieve the data.\n",
    "2. Process / Prepare the data.\n",
    "3. Upload the processed data to S3.\n",
    "4. Train a chosen model.\n",
    "5. Test the trained model (typically using a batch transform job).\n",
    "6. Deploy the trained model.\n",
    "7. Use the deployed model.\n",
    "\n",
    "For this project, you will be following the steps in the general outline with some modifications. \n",
    "\n",
    "First, you will not be testing the model in its own step. You will still be testing the model, however, you will do it by deploying your model and then using the deployed model by sending the test data to it. One of the reasons for doing this is so that you can make sure that your deployed model is working correctly before moving forward.\n",
    "\n",
    "In addition, you will deploy and use your trained model a second time. In the second iteration you will customize the way that your trained model is deployed by including some of your own code. In addition, your newly deployed model will be used in the sentiment analysis web app."
   ]
  },
  {
   "cell_type": "markdown",
   "metadata": {},
   "source": [
    "## Step 1: Downloading the data\n",
    "\n",
    "As in the XGBoost in SageMaker notebook, we will be using the [IMDb dataset](http://ai.stanford.edu/~amaas/data/sentiment/)\n",
    "\n",
    "> Maas, Andrew L., et al. [Learning Word Vectors for Sentiment Analysis](http://ai.stanford.edu/~amaas/data/sentiment/). In _Proceedings of the 49th Annual Meeting of the Association for Computational Linguistics: Human Language Technologies_. Association for Computational Linguistics, 2011."
   ]
  },
  {
   "cell_type": "code",
   "execution_count": 1,
   "metadata": {},
   "outputs": [
    {
     "name": "stdout",
     "output_type": "stream",
     "text": [
      "--2019-10-25 04:13:34--  http://ai.stanford.edu/~amaas/data/sentiment/aclImdb_v1.tar.gz\n",
      "Resolving ai.stanford.edu (ai.stanford.edu)... 171.64.68.10\n",
      "Connecting to ai.stanford.edu (ai.stanford.edu)|171.64.68.10|:80... connected.\n",
      "HTTP request sent, awaiting response... 200 OK\n",
      "Length: 84125825 (80M) [application/x-gzip]\n",
      "Saving to: ‘../data/aclImdb_v1.tar.gz’\n",
      "\n",
      "../data/aclImdb_v1. 100%[===================>]  80.23M  23.5MB/s    in 4.2s    \n",
      "\n",
      "2019-10-25 04:13:39 (19.1 MB/s) - ‘../data/aclImdb_v1.tar.gz’ saved [84125825/84125825]\n",
      "\n"
     ]
    }
   ],
   "source": [
    "%mkdir ../data\n",
    "!wget -O ../data/aclImdb_v1.tar.gz http://ai.stanford.edu/~amaas/data/sentiment/aclImdb_v1.tar.gz\n",
    "!tar -zxf ../data/aclImdb_v1.tar.gz -C ../data"
   ]
  },
  {
   "cell_type": "markdown",
   "metadata": {},
   "source": [
    "## Step 2: Preparing and Processing the data\n",
    "\n",
    "Also, as in the XGBoost notebook, we will be doing some initial data processing. The first few steps are the same as in the XGBoost example. To begin with, we will read in each of the reviews and combine them into a single input structure. Then, we will split the dataset into a training set and a testing set."
   ]
  },
  {
   "cell_type": "code",
   "execution_count": 2,
   "metadata": {},
   "outputs": [],
   "source": [
    "import os\n",
    "import glob\n",
    "\n",
    "def read_imdb_data(data_dir='../data/aclImdb'):\n",
    "    data = {}\n",
    "    labels = {}\n",
    "    \n",
    "    for data_type in ['train', 'test']:\n",
    "        data[data_type] = {}\n",
    "        labels[data_type] = {}\n",
    "        \n",
    "        for sentiment in ['pos', 'neg']:\n",
    "            data[data_type][sentiment] = []\n",
    "            labels[data_type][sentiment] = []\n",
    "            \n",
    "            path = os.path.join(data_dir, data_type, sentiment, '*.txt')\n",
    "            files = glob.glob(path)\n",
    "            \n",
    "            for f in files:\n",
    "                with open(f) as review:\n",
    "                    data[data_type][sentiment].append(review.read())\n",
    "                    # Here we represent a positive review by '1' and a negative review by '0'\n",
    "                    labels[data_type][sentiment].append(1 if sentiment == 'pos' else 0)\n",
    "                    \n",
    "            assert len(data[data_type][sentiment]) == len(labels[data_type][sentiment]), \\\n",
    "                    \"{}/{} data size does not match labels size\".format(data_type, sentiment)\n",
    "                \n",
    "    return data, labels"
   ]
  },
  {
   "cell_type": "code",
   "execution_count": 3,
   "metadata": {},
   "outputs": [
    {
     "name": "stdout",
     "output_type": "stream",
     "text": [
      "IMDB reviews: train = 12500 pos / 12500 neg, test = 12500 pos / 12500 neg\n"
     ]
    }
   ],
   "source": [
    "data, labels = read_imdb_data()\n",
    "print(\"IMDB reviews: train = {} pos / {} neg, test = {} pos / {} neg\".format(\n",
    "            len(data['train']['pos']), len(data['train']['neg']),\n",
    "            len(data['test']['pos']), len(data['test']['neg'])))"
   ]
  },
  {
   "cell_type": "markdown",
   "metadata": {},
   "source": [
    "Now that we've read the raw training and testing data from the downloaded dataset, we will combine the positive and negative reviews and shuffle the resulting records."
   ]
  },
  {
   "cell_type": "code",
   "execution_count": 4,
   "metadata": {},
   "outputs": [],
   "source": [
    "from sklearn.utils import shuffle\n",
    "\n",
    "def prepare_imdb_data(data, labels):\n",
    "    \"\"\"Prepare training and test sets from IMDb movie reviews.\"\"\"\n",
    "    \n",
    "    #Combine positive and negative reviews and labels\n",
    "    data_train = data['train']['pos'] + data['train']['neg']\n",
    "    data_test = data['test']['pos'] + data['test']['neg']\n",
    "    labels_train = labels['train']['pos'] + labels['train']['neg']\n",
    "    labels_test = labels['test']['pos'] + labels['test']['neg']\n",
    "    \n",
    "    #Shuffle reviews and corresponding labels within training and test sets\n",
    "    data_train, labels_train = shuffle(data_train, labels_train)\n",
    "    data_test, labels_test = shuffle(data_test, labels_test)\n",
    "    \n",
    "    # Return a unified training data, test data, training labels, test labets\n",
    "    return data_train, data_test, labels_train, labels_test"
   ]
  },
  {
   "cell_type": "code",
   "execution_count": 5,
   "metadata": {},
   "outputs": [
    {
     "name": "stdout",
     "output_type": "stream",
     "text": [
      "IMDb reviews (combined): train = 25000, test = 25000\n"
     ]
    }
   ],
   "source": [
    "train_X, test_X, train_y, test_y = prepare_imdb_data(data, labels)\n",
    "print(\"IMDb reviews (combined): train = {}, test = {}\".format(len(train_X), len(test_X)))"
   ]
  },
  {
   "cell_type": "markdown",
   "metadata": {},
   "source": [
    "Now that we have our training and testing sets unified and prepared, we should do a quick check and see an example of the data our model will be trained on. This is generally a good idea as it allows you to see how each of the further processing steps affects the reviews and it also ensures that the data has been loaded correctly."
   ]
  },
  {
   "cell_type": "code",
   "execution_count": 6,
   "metadata": {},
   "outputs": [
    {
     "name": "stdout",
     "output_type": "stream",
     "text": [
      "This is the biggest load of crap that I have seen in a long time. The last time I hated a movie so much was whilst watching \"28 Days later\" and \"Magnolia\". There is absolutely no point to this movie, except to see some really sick and twisted sex/rape scenes, Gillian Anderson relieving herself on the side of the road, and every single sentence of dialog having to use the \"F\" word at least a couple of times in it. It has extremely cheap acting and is very low budget. My friend and I eventually turned off the movie after about half an hour. We had tried to give it a chance, but nothing could save this crud. DO NOT WATCH IT!!!\n",
      "0\n"
     ]
    }
   ],
   "source": [
    "print(train_X[100])\n",
    "print(train_y[100])"
   ]
  },
  {
   "cell_type": "markdown",
   "metadata": {},
   "source": [
    "The first step in processing the reviews is to make sure that any html tags that appear should be removed. In addition we wish to tokenize our input, that way words such as *entertained* and *entertaining* are considered the same with regard to sentiment analysis."
   ]
  },
  {
   "cell_type": "code",
   "execution_count": 7,
   "metadata": {},
   "outputs": [],
   "source": [
    "import nltk\n",
    "from nltk.corpus import stopwords\n",
    "from nltk.stem.porter import *\n",
    "\n",
    "import re\n",
    "from bs4 import BeautifulSoup\n",
    "\n",
    "def review_to_words(review):\n",
    "    nltk.download(\"stopwords\", quiet=True)\n",
    "    stemmer = PorterStemmer()\n",
    "    \n",
    "    text = BeautifulSoup(review, \"html.parser\").get_text() # Remove HTML tags\n",
    "    text = re.sub(r\"[^a-zA-Z0-9]\", \" \", text.lower()) # Convert to lower case\n",
    "    words = text.split() # Split string into words\n",
    "    words = [w for w in words if w not in stopwords.words(\"english\")] # Remove stopwords\n",
    "    words = [PorterStemmer().stem(w) for w in words] # stem\n",
    "    \n",
    "    return words"
   ]
  },
  {
   "cell_type": "markdown",
   "metadata": {},
   "source": [
    "The `review_to_words` method defined above uses `BeautifulSoup` to remove any html tags that appear and uses the `nltk` package to tokenize the reviews. As a check to ensure we know how everything is working, try applying `review_to_words` to one of the reviews in the training set."
   ]
  },
  {
   "cell_type": "code",
   "execution_count": 9,
   "metadata": {},
   "outputs": [
    {
     "data": {
      "text/plain": [
       "['biggest',\n",
       " 'load',\n",
       " 'crap',\n",
       " 'seen',\n",
       " 'long',\n",
       " 'time',\n",
       " 'last',\n",
       " 'time',\n",
       " 'hate',\n",
       " 'movi',\n",
       " 'much',\n",
       " 'whilst',\n",
       " 'watch',\n",
       " '28',\n",
       " 'day',\n",
       " 'later',\n",
       " 'magnolia',\n",
       " 'absolut',\n",
       " 'point',\n",
       " 'movi',\n",
       " 'except',\n",
       " 'see',\n",
       " 'realli',\n",
       " 'sick',\n",
       " 'twist',\n",
       " 'sex',\n",
       " 'rape',\n",
       " 'scene',\n",
       " 'gillian',\n",
       " 'anderson',\n",
       " 'reliev',\n",
       " 'side',\n",
       " 'road',\n",
       " 'everi',\n",
       " 'singl',\n",
       " 'sentenc',\n",
       " 'dialog',\n",
       " 'use',\n",
       " 'f',\n",
       " 'word',\n",
       " 'least',\n",
       " 'coupl',\n",
       " 'time',\n",
       " 'extrem',\n",
       " 'cheap',\n",
       " 'act',\n",
       " 'low',\n",
       " 'budget',\n",
       " 'friend',\n",
       " 'eventu',\n",
       " 'turn',\n",
       " 'movi',\n",
       " 'half',\n",
       " 'hour',\n",
       " 'tri',\n",
       " 'give',\n",
       " 'chanc',\n",
       " 'noth',\n",
       " 'could',\n",
       " 'save',\n",
       " 'crud',\n",
       " 'watch']"
      ]
     },
     "execution_count": 9,
     "metadata": {},
     "output_type": "execute_result"
    }
   ],
   "source": [
    "# TODO: Apply review_to_words to a review (train_X[100] or any other review)\n",
    "review_to_words(train_X[100])"
   ]
  },
  {
   "cell_type": "markdown",
   "metadata": {},
   "source": [
    "**Question:** Above we mentioned that `review_to_words` method removes html formatting and allows us to tokenize the words found in a review, for example, converting *entertained* and *entertaining* into *entertain* so that they are treated as though they are the same word. What else, if anything, does this method do to the input?"
   ]
  },
  {
   "cell_type": "markdown",
   "metadata": {},
   "source": [
    "**Answer:** Apart from removing html tags and stemming the words, review_to_words() function converts text to string, splits strings to words and removes stopwords such as 'is', 'are', 'the', 'a', 'an', etc"
   ]
  },
  {
   "cell_type": "markdown",
   "metadata": {},
   "source": [
    "The method below applies the `review_to_words` method to each of the reviews in the training and testing datasets. In addition it caches the results. This is because performing this processing step can take a long time. This way if you are unable to complete the notebook in the current session, you can come back without needing to process the data a second time."
   ]
  },
  {
   "cell_type": "code",
   "execution_count": 10,
   "metadata": {},
   "outputs": [],
   "source": [
    "import pickle\n",
    "\n",
    "cache_dir = os.path.join(\"../cache\", \"sentiment_analysis\")  # where to store cache files\n",
    "os.makedirs(cache_dir, exist_ok=True)  # ensure cache directory exists\n",
    "\n",
    "def preprocess_data(data_train, data_test, labels_train, labels_test,\n",
    "                    cache_dir=cache_dir, cache_file=\"preprocessed_data.pkl\"):\n",
    "    \"\"\"Convert each review to words; read from cache if available.\"\"\"\n",
    "\n",
    "    # If cache_file is not None, try to read from it first\n",
    "    cache_data = None\n",
    "    if cache_file is not None:\n",
    "        try:\n",
    "            with open(os.path.join(cache_dir, cache_file), \"rb\") as f:\n",
    "                cache_data = pickle.load(f)\n",
    "            print(\"Read preprocessed data from cache file:\", cache_file)\n",
    "        except:\n",
    "            pass  # unable to read from cache, but that's okay\n",
    "    \n",
    "    # If cache is missing, then do the heavy lifting\n",
    "    if cache_data is None:\n",
    "        # Preprocess training and test data to obtain words for each review\n",
    "        #words_train = list(map(review_to_words, data_train))\n",
    "        #words_test = list(map(review_to_words, data_test))\n",
    "        words_train = [review_to_words(review) for review in data_train]\n",
    "        words_test = [review_to_words(review) for review in data_test]\n",
    "        \n",
    "        # Write to cache file for future runs\n",
    "        if cache_file is not None:\n",
    "            cache_data = dict(words_train=words_train, words_test=words_test,\n",
    "                              labels_train=labels_train, labels_test=labels_test)\n",
    "            with open(os.path.join(cache_dir, cache_file), \"wb\") as f:\n",
    "                pickle.dump(cache_data, f)\n",
    "            print(\"Wrote preprocessed data to cache file:\", cache_file)\n",
    "    else:\n",
    "        # Unpack data loaded from cache file\n",
    "        words_train, words_test, labels_train, labels_test = (cache_data['words_train'],\n",
    "                cache_data['words_test'], cache_data['labels_train'], cache_data['labels_test'])\n",
    "    \n",
    "    return words_train, words_test, labels_train, labels_test"
   ]
  },
  {
   "cell_type": "code",
   "execution_count": 11,
   "metadata": {},
   "outputs": [
    {
     "name": "stdout",
     "output_type": "stream",
     "text": [
      "Wrote preprocessed data to cache file: preprocessed_data.pkl\n"
     ]
    }
   ],
   "source": [
    "# Preprocess data\n",
    "train_X, test_X, train_y, test_y = preprocess_data(train_X, test_X, train_y, test_y)"
   ]
  },
  {
   "cell_type": "code",
   "execution_count": 75,
   "metadata": {},
   "outputs": [
    {
     "name": "stdout",
     "output_type": "stream",
     "text": [
      "[[   2  173  806 ...    0    0    0]\n",
      " [ 374    3    3 ...    0    0    0]\n",
      " [2108  875  270 ...    0    0    0]\n",
      " ...\n",
      " [1679 2703   75 ...    0    0    0]\n",
      " [ 393   16   24 ...    0    0    0]\n",
      " [ 744   28  669 ...    0    0    0]]\n"
     ]
    }
   ],
   "source": [
    "print(train_X)"
   ]
  },
  {
   "cell_type": "markdown",
   "metadata": {},
   "source": [
    "## Transform the data\n",
    "\n",
    "In the XGBoost notebook we transformed the data from its word representation to a bag-of-words feature representation. For the model we are going to construct in this notebook we will construct a feature representation which is very similar. To start, we will represent each word as an integer. Of course, some of the words that appear in the reviews occur very infrequently and so likely don't contain much information for the purposes of sentiment analysis. The way we will deal with this problem is that we will fix the size of our working vocabulary and we will only include the words that appear most frequently. We will then combine all of the infrequent words into a single category and, in our case, we will label it as `1`.\n",
    "\n",
    "Since we will be using a recurrent neural network, it will be convenient if the length of each review is the same. To do this, we will fix a size for our reviews and then pad short reviews with the category 'no word' (which we will label `0`) and truncate long reviews."
   ]
  },
  {
   "cell_type": "markdown",
   "metadata": {},
   "source": [
    "### (TODO) Create a word dictionary\n",
    "\n",
    "To begin with, we need to construct a way to map words that appear in the reviews to integers. Here we fix the size of our vocabulary (including the 'no word' and 'infrequent' categories) to be `5000` but you may wish to change this to see how it affects the model.\n",
    "\n",
    "> **TODO:** Complete the implementation for the `build_dict()` method below. Note that even though the vocab_size is set to `5000`, we only want to construct a mapping for the most frequently appearing `4998` words. This is because we want to reserve the special labels `0` for 'no word' and `1` for 'infrequent word'."
   ]
  },
  {
   "cell_type": "code",
   "execution_count": 20,
   "metadata": {},
   "outputs": [],
   "source": [
    "import numpy as np\n",
    "from collections import Counter\n",
    "\n",
    "def build_dict(data, vocab_size = 5000):\n",
    "    \"\"\"Construct and return a dictionary mapping each of the most frequently appearing words to a unique integer.\"\"\"\n",
    "    \n",
    "    # TODO: Determine how often each word appears in `data`. Note that `data` is a list of sentences and that a\n",
    "    #       sentence is a list of words.\n",
    "    word_count = Counter() # A dict storing the words that appear in the reviews along with how often they occur\n",
    "    for sentence in data:\n",
    "        for word in sentence:\n",
    "            word_count[word] += 1\n",
    "        \n",
    "    # TODO: Sort the words found in `data` so that sorted_words[0] is the most frequently appearing word and\n",
    "    #       sorted_words[-1] is the least frequently appearing word.\n",
    "    \n",
    "    sorted_words = sorted(word_count, key=word_count.get, reverse=True)\n",
    "    \n",
    "    word_dict = {} # This is what we are building, a dictionary that translates words into integers\n",
    "    for idx, word in enumerate(sorted_words[:vocab_size - 2]): # The -2 is so that we save room for the 'no word'\n",
    "        word_dict[word] = idx + 2                              # 'infrequent' labels\n",
    "        \n",
    "    return word_dict"
   ]
  },
  {
   "cell_type": "code",
   "execution_count": 21,
   "metadata": {},
   "outputs": [],
   "source": [
    "word_dict = build_dict(train_X)"
   ]
  },
  {
   "cell_type": "markdown",
   "metadata": {},
   "source": [
    "**Question:** What are the five most frequently appearing (tokenized) words in the training set? Does it makes sense that these words appear frequently in the training set?"
   ]
  },
  {
   "cell_type": "markdown",
   "metadata": {},
   "source": [
    "**Answer:** as evident by printing word_dict, five most frequently appearing words in training set are [movi, film, one, like, time]"
   ]
  },
  {
   "cell_type": "code",
   "execution_count": 27,
   "metadata": {},
   "outputs": [
    {
     "name": "stdout",
     "output_type": "stream",
     "text": [
      "{'movi': 2, 'film': 3, 'one': 4, 'like': 5, 'time': 6, 'good': 7, 'make': 8, 'charact': 9, 'get': 10, 'see': 11, 'watch': 12, 'stori': 13, 'even': 14, 'would': 15, 'realli': 16, 'well': 17, 'scene': 18, 'look': 19, 'show': 20, 'much': 21, 'end': 22, 'peopl': 23, 'bad': 24, 'go': 25, 'great': 26, 'also': 27, 'first': 28, 'love': 29, 'think': 30, 'way': 31, 'act': 32, 'play': 33, 'made': 34, 'thing': 35, 'could': 36, 'know': 37, 'say': 38, 'seem': 39, 'work': 40, 'plot': 41, 'two': 42, 'actor': 43, 'year': 44, 'come': 45, 'mani': 46, 'seen': 47, 'take': 48, 'want': 49, 'life': 50, 'never': 51, 'littl': 52, 'best': 53, 'tri': 54, 'man': 55, 'ever': 56, 'give': 57, 'better': 58, 'still': 59, 'perform': 60, 'find': 61, 'feel': 62, 'part': 63, 'back': 64, 'use': 65, 'someth': 66, 'director': 67, 'actual': 68, 'interest': 69, 'lot': 70, 'real': 71, 'old': 72, 'cast': 73, 'though': 74, 'live': 75, 'star': 76, 'enjoy': 77, 'guy': 78, 'anoth': 79, 'new': 80, 'role': 81, 'noth': 82, '10': 83, 'funni': 84, 'music': 85, 'point': 86, 'start': 87, 'set': 88, 'girl': 89, 'origin': 90, 'day': 91, 'world': 92, 'everi': 93, 'believ': 94, 'turn': 95, 'quit': 96, 'direct': 97, 'us': 98, 'thought': 99, 'fact': 100, 'minut': 101, 'horror': 102, 'kill': 103, 'action': 104, 'comedi': 105, 'pretti': 106, 'young': 107, 'wonder': 108, 'happen': 109, 'around': 110, 'got': 111, 'effect': 112, 'right': 113, 'long': 114, 'howev': 115, 'big': 116, 'line': 117, 'famili': 118, 'enough': 119, 'seri': 120, 'may': 121, 'need': 122, 'fan': 123, 'bit': 124, 'script': 125, 'beauti': 126, 'person': 127, 'becom': 128, 'without': 129, 'must': 130, 'alway': 131, 'friend': 132, 'tell': 133, 'reason': 134, 'saw': 135, 'last': 136, 'final': 137, 'kid': 138, 'almost': 139, 'put': 140, 'least': 141, 'sure': 142, 'done': 143, 'whole': 144, 'place': 145, 'complet': 146, 'kind': 147, 'expect': 148, 'differ': 149, 'shot': 150, 'far': 151, 'mean': 152, 'anyth': 153, 'book': 154, 'laugh': 155, 'might': 156, 'name': 157, 'sinc': 158, 'begin': 159, '2': 160, 'probabl': 161, 'woman': 162, 'help': 163, 'entertain': 164, 'let': 165, 'screen': 166, 'call': 167, 'tv': 168, 'moment': 169, 'away': 170, 'read': 171, 'yet': 172, 'rather': 173, 'worst': 174, 'run': 175, 'fun': 176, 'lead': 177, 'hard': 178, 'audienc': 179, 'idea': 180, 'anyon': 181, 'episod': 182, 'american': 183, 'found': 184, 'appear': 185, 'bore': 186, 'especi': 187, 'although': 188, 'hope': 189, 'cours': 190, 'keep': 191, 'anim': 192, 'job': 193, 'goe': 194, 'move': 195, 'sens': 196, 'version': 197, 'dvd': 198, 'war': 199, 'money': 200, 'someon': 201, 'mind': 202, 'mayb': 203, 'problem': 204, 'true': 205, 'hous': 206, 'everyth': 207, 'nice': 208, 'second': 209, 'rate': 210, 'three': 211, 'night': 212, 'follow': 213, 'face': 214, 'recommend': 215, 'main': 216, 'product': 217, 'worth': 218, 'leav': 219, 'human': 220, 'special': 221, 'excel': 222, 'togeth': 223, 'wast': 224, 'everyon': 225, 'sound': 226, 'john': 227, 'hand': 228, '1': 229, 'father': 230, 'later': 231, 'eye': 232, 'said': 233, 'view': 234, 'instead': 235, 'review': 236, 'boy': 237, 'high': 238, 'hour': 239, 'miss': 240, 'classic': 241, 'talk': 242, 'wife': 243, 'understand': 244, 'left': 245, 'care': 246, 'black': 247, 'death': 248, 'open': 249, 'murder': 250, 'write': 251, 'half': 252, 'head': 253, 'rememb': 254, 'chang': 255, 'viewer': 256, 'fight': 257, 'gener': 258, 'surpris': 259, 'short': 260, 'includ': 261, 'die': 262, 'fall': 263, 'less': 264, 'els': 265, 'entir': 266, 'piec': 267, 'involv': 268, 'pictur': 269, 'simpli': 270, 'top': 271, 'home': 272, 'power': 273, 'total': 274, 'usual': 275, 'budget': 276, 'attempt': 277, 'suppos': 278, 'releas': 279, 'hollywood': 280, 'terribl': 281, 'song': 282, 'men': 283, 'possibl': 284, 'featur': 285, 'portray': 286, 'disappoint': 287, 'poor': 288, '3': 289, 'coupl': 290, 'camera': 291, 'stupid': 292, 'dead': 293, 'wrong': 294, 'produc': 295, 'low': 296, 'either': 297, 'video': 298, 'aw': 299, 'definit': 300, 'except': 301, 'rest': 302, 'given': 303, 'absolut': 304, 'women': 305, 'lack': 306, 'word': 307, 'writer': 308, 'titl': 309, 'talent': 310, 'decid': 311, 'full': 312, 'perfect': 313, 'along': 314, 'style': 315, 'close': 316, 'truli': 317, 'school': 318, 'emot': 319, 'save': 320, 'sex': 321, 'age': 322, 'next': 323, 'bring': 324, 'mr': 325, 'case': 326, 'killer': 327, 'heart': 328, 'comment': 329, 'sort': 330, 'creat': 331, 'perhap': 332, 'came': 333, 'brother': 334, 'sever': 335, 'joke': 336, 'art': 337, 'dialogu': 338, 'game': 339, 'small': 340, 'base': 341, 'flick': 342, 'written': 343, 'sequenc': 344, 'meet': 345, 'earli': 346, 'often': 347, 'other': 348, 'mother': 349, 'develop': 350, 'humor': 351, 'actress': 352, 'consid': 353, 'dark': 354, 'guess': 355, 'amaz': 356, 'unfortun': 357, 'lost': 358, 'light': 359, 'exampl': 360, 'cinema': 361, 'drama': 362, 'white': 363, 'ye': 364, 'experi': 365, 'imagin': 366, 'mention': 367, 'stop': 368, 'natur': 369, 'forc': 370, 'manag': 371, 'felt': 372, 'present': 373, 'cut': 374, 'children': 375, 'fail': 376, 'son': 377, 'car': 378, 'qualiti': 379, 'support': 380, 'ask': 381, 'hit': 382, 'side': 383, 'voic': 384, 'extrem': 385, 'impress': 386, 'wors': 387, 'evil': 388, 'went': 389, 'stand': 390, 'certainli': 391, 'basic': 392, 'oh': 393, 'overal': 394, 'favorit': 395, 'horribl': 396, 'mysteri': 397, 'number': 398, 'type': 399, 'danc': 400, 'wait': 401, 'hero': 402, 'alreadi': 403, '5': 404, 'learn': 405, 'matter': 406, '4': 407, 'michael': 408, 'genr': 409, 'fine': 410, 'despit': 411, 'throughout': 412, 'walk': 413, 'success': 414, 'histori': 415, 'question': 416, 'zombi': 417, 'town': 418, 'relationship': 419, 'realiz': 420, 'past': 421, 'child': 422, 'daughter': 423, 'late': 424, 'b': 425, 'wish': 426, 'hate': 427, 'credit': 428, 'event': 429, 'theme': 430, 'touch': 431, 'citi': 432, 'today': 433, 'sometim': 434, 'behind': 435, 'god': 436, 'twist': 437, 'sit': 438, 'stay': 439, 'deal': 440, 'annoy': 441, 'abl': 442, 'rent': 443, 'pleas': 444, 'edit': 445, 'blood': 446, 'deserv': 447, 'anyway': 448, 'comic': 449, 'appar': 450, 'soon': 451, 'gave': 452, 'etc': 453, 'level': 454, 'slow': 455, 'chanc': 456, 'score': 457, 'bodi': 458, 'brilliant': 459, 'incred': 460, 'figur': 461, 'situat': 462, 'self': 463, 'major': 464, 'stuff': 465, 'decent': 466, 'element': 467, 'return': 468, 'dream': 469, 'obvious': 470, 'order': 471, 'continu': 472, 'pace': 473, 'ridicul': 474, 'happi': 475, 'highli': 476, 'add': 477, 'group': 478, 'thank': 479, 'ladi': 480, 'novel': 481, 'speak': 482, 'pain': 483, 'career': 484, 'shoot': 485, 'strang': 486, 'heard': 487, 'sad': 488, 'polic': 489, 'husband': 490, 'import': 491, 'break': 492, 'took': 493, 'strong': 494, 'cannot': 495, 'predict': 496, 'robert': 497, 'violenc': 498, 'hilari': 499, 'recent': 500, 'countri': 501, 'known': 502, 'particularli': 503, 'pick': 504, 'documentari': 505, 'season': 506, 'critic': 507, 'jame': 508, 'compar': 509, 'obviou': 510, 'alon': 511, 'told': 512, 'state': 513, 'rock': 514, 'visual': 515, 'offer': 516, 'theater': 517, 'exist': 518, 'opinion': 519, 'gore': 520, 'hold': 521, 'crap': 522, 'result': 523, 'realiti': 524, 'hear': 525, 'room': 526, 'effort': 527, 'clich': 528, 'thriller': 529, 'caus': 530, 'serious': 531, 'explain': 532, 'sequel': 533, 'king': 534, 'local': 535, 'ago': 536, 'hell': 537, 'none': 538, 'note': 539, 'allow': 540, 'sister': 541, 'david': 542, 'simpl': 543, 'femal': 544, 'deliv': 545, 'ok': 546, 'convinc': 547, 'class': 548, 'check': 549, 'suspens': 550, 'win': 551, 'oscar': 552, 'buy': 553, 'huge': 554, 'valu': 555, 'sexual': 556, 'scari': 557, 'cool': 558, 'excit': 559, 'similar': 560, 'exactli': 561, 'apart': 562, 'provid': 563, 'shown': 564, 'avoid': 565, 'seriou': 566, 'english': 567, 'taken': 568, 'whose': 569, 'cinematographi': 570, 'shock': 571, 'polit': 572, 'spoiler': 573, 'offic': 574, 'across': 575, 'middl': 576, 'street': 577, 'pass': 578, 'messag': 579, 'charm': 580, 'somewhat': 581, 'silli': 582, 'modern': 583, 'confus': 584, 'filmmak': 585, 'form': 586, 'tale': 587, 'singl': 588, 'jack': 589, 'mostli': 590, 'william': 591, 'carri': 592, 'attent': 593, 'sing': 594, 'five': 595, 'subject': 596, 'richard': 597, 'prove': 598, 'stage': 599, 'team': 600, 'cop': 601, 'unlik': 602, 'georg': 603, 'monster': 604, 'televis': 605, 'earth': 606, 'cover': 607, 'villain': 608, 'pay': 609, 'marri': 610, 'toward': 611, 'build': 612, 'pull': 613, 'parent': 614, 'due': 615, 'respect': 616, 'fill': 617, 'dialog': 618, 'four': 619, 'remind': 620, 'futur': 621, 'typic': 622, 'weak': 623, '7': 624, 'cheap': 625, 'intellig': 626, 'atmospher': 627, 'british': 628, 'clearli': 629, '80': 630, 'non': 631, 'dog': 632, 'paul': 633, 'fast': 634, 'knew': 635, '8': 636, 'artist': 637, 'crime': 638, 'easili': 639, 'escap': 640, 'doubt': 641, 'adult': 642, 'detail': 643, 'date': 644, 'romant': 645, 'member': 646, 'fire': 647, 'gun': 648, 'drive': 649, 'straight': 650, 'fit': 651, 'beyond': 652, 'attack': 653, 'imag': 654, 'upon': 655, 'posit': 656, 'whether': 657, 'peter': 658, 'fantast': 659, 'aspect': 660, 'captur': 661, 'appreci': 662, 'ten': 663, 'plan': 664, 'discov': 665, 'remain': 666, 'period': 667, 'near': 668, 'air': 669, 'realist': 670, 'mark': 671, 'red': 672, 'dull': 673, 'adapt': 674, 'within': 675, 'lose': 676, 'spend': 677, 'color': 678, 'materi': 679, 'chase': 680, 'mari': 681, 'storylin': 682, 'forget': 683, 'bunch': 684, 'clear': 685, 'lee': 686, 'victim': 687, 'nearli': 688, 'box': 689, 'york': 690, 'match': 691, 'inspir': 692, 'mess': 693, 'finish': 694, 'standard': 695, 'easi': 696, 'truth': 697, 'suffer': 698, 'busi': 699, 'space': 700, 'dramat': 701, 'bill': 702, 'western': 703, 'e': 704, 'list': 705, 'battl': 706, 'notic': 707, 'de': 708, 'french': 709, 'ad': 710, '9': 711, 'tom': 712, 'larg': 713, 'among': 714, 'eventu': 715, 'train': 716, 'accept': 717, 'agre': 718, 'spirit': 719, 'soundtrack': 720, 'third': 721, 'teenag': 722, 'adventur': 723, 'soldier': 724, 'famou': 725, 'drug': 726, 'suggest': 727, 'sorri': 728, 'normal': 729, 'cri': 730, 'babi': 731, 'ultim': 732, 'troubl': 733, 'contain': 734, 'certain': 735, 'cultur': 736, 'romanc': 737, 'rare': 738, 'lame': 739, 'somehow': 740, 'disney': 741, 'mix': 742, 'gone': 743, 'cartoon': 744, 'student': 745, 'reveal': 746, 'fear': 747, 'suck': 748, 'kept': 749, 'attract': 750, 'appeal': 751, 'premis': 752, 'secret': 753, 'greatest': 754, 'design': 755, 'shame': 756, 'throw': 757, 'scare': 758, 'copi': 759, 'wit': 760, 'america': 761, 'admit': 762, 'brought': 763, 'particular': 764, 'relat': 765, 'screenplay': 766, 'whatev': 767, 'pure': 768, '70': 769, 'averag': 770, 'harri': 771, 'master': 772, 'describ': 773, 'male': 774, 'treat': 775, '20': 776, 'fantasi': 777, 'issu': 778, 'warn': 779, 'inde': 780, 'forward': 781, 'background': 782, 'project': 783, 'free': 784, 'memor': 785, 'japanes': 786, 'poorli': 787, 'award': 788, 'locat': 789, 'potenti': 790, 'amus': 791, 'struggl': 792, 'magic': 793, 'weird': 794, 'societi': 795, 'okay': 796, 'accent': 797, 'imdb': 798, 'doctor': 799, 'hot': 800, 'water': 801, 'alien': 802, '30': 803, 'express': 804, 'dr': 805, 'odd': 806, 'choic': 807, 'crazi': 808, 'fiction': 809, 'studio': 810, 'becam': 811, 'control': 812, 'masterpiec': 813, 'difficult': 814, 'fli': 815, 'joe': 816, 'scream': 817, 'costum': 818, 'lover': 819, 'refer': 820, 'uniqu': 821, 'remak': 822, 'girlfriend': 823, 'vampir': 824, 'prison': 825, 'execut': 826, 'wear': 827, 'jump': 828, 'unless': 829, 'wood': 830, 'creepi': 831, 'cheesi': 832, 'superb': 833, 'otherwis': 834, 'parti': 835, 'ghost': 836, 'roll': 837, 'public': 838, 'mad': 839, 'depict': 840, 'moral': 841, 'earlier': 842, 'badli': 843, 'week': 844, 'jane': 845, 'fi': 846, 'dumb': 847, 'flaw': 848, 'grow': 849, 'sci': 850, 'deep': 851, 'maker': 852, 'cat': 853, 'footag': 854, 'older': 855, 'connect': 856, 'bother': 857, 'plenti': 858, 'outsid': 859, 'stick': 860, 'gay': 861, 'catch': 862, 'co': 863, 'plu': 864, 'popular': 865, 'equal': 866, 'social': 867, 'disturb': 868, 'quickli': 869, 'perfectli': 870, 'dress': 871, '90': 872, 'era': 873, 'mistak': 874, 'lie': 875, 'previou': 876, 'ride': 877, 'combin': 878, 'concept': 879, 'band': 880, 'rich': 881, 'surviv': 882, 'answer': 883, 'front': 884, 'christma': 885, 'sweet': 886, 'insid': 887, 'eat': 888, 'concern': 889, 'bare': 890, 'ben': 891, 'listen': 892, 'beat': 893, 'c': 894, 'serv': 895, 'term': 896, 'german': 897, 'la': 898, 'meant': 899, 'stereotyp': 900, 'hardli': 901, 'law': 902, 'innoc': 903, 'desper': 904, 'promis': 905, 'memori': 906, 'intent': 907, 'cute': 908, 'steal': 909, 'inform': 910, 'variou': 911, 'brain': 912, 'post': 913, 'tone': 914, 'island': 915, 'amount': 916, 'compani': 917, 'nuditi': 918, 'track': 919, 'store': 920, 'claim': 921, 'hair': 922, '50': 923, 'flat': 924, 'univers': 925, 'land': 926, 'scott': 927, 'fairli': 928, 'kick': 929, 'danger': 930, 'player': 931, 'crew': 932, 'plain': 933, 'step': 934, 'toni': 935, 'share': 936, 'tast': 937, 'centuri': 938, 'engag': 939, 'achiev': 940, 'travel': 941, 'cold': 942, 'suit': 943, 'rip': 944, 'record': 945, 'sadli': 946, 'manner': 947, 'tension': 948, 'wrote': 949, 'spot': 950, 'intens': 951, 'fascin': 952, 'familiar': 953, 'depth': 954, 'burn': 955, 'remark': 956, 'histor': 957, 'destroy': 958, 'sleep': 959, 'purpos': 960, 'languag': 961, 'ignor': 962, 'ruin': 963, 'delight': 964, 'unbeliev': 965, 'italian': 966, 'abil': 967, 'soul': 968, 'collect': 969, 'clever': 970, 'detect': 971, 'violent': 972, 'rape': 973, 'reach': 974, 'door': 975, 'liter': 976, 'scienc': 977, 'trash': 978, 'reveng': 979, 'caught': 980, 'commun': 981, 'creatur': 982, 'trip': 983, 'approach': 984, 'intrigu': 985, 'fashion': 986, 'paint': 987, 'introduc': 988, 'skill': 989, 'channel': 990, 'complex': 991, 'camp': 992, 'christian': 993, 'hole': 994, 'extra': 995, 'mental': 996, 'limit': 997, 'ann': 998, 'immedi': 999, '6': 1000, 'million': 1001, 'slightli': 1002, 'comput': 1003, 'mere': 1004, 'conclus': 1005, 'slasher': 1006, 'imposs': 1007, 'suddenli': 1008, 'teen': 1009, 'neither': 1010, 'crimin': 1011, 'physic': 1012, 'nation': 1013, 'spent': 1014, 'respons': 1015, 'planet': 1016, 'receiv': 1017, 'fake': 1018, 'blue': 1019, 'sick': 1020, 'bizarr': 1021, 'embarrass': 1022, 'indian': 1023, 'ring': 1024, '15': 1025, 'drop': 1026, 'pop': 1027, 'drag': 1028, 'haunt': 1029, 'pointless': 1030, 'suspect': 1031, 'edg': 1032, 'search': 1033, 'handl': 1034, 'common': 1035, 'biggest': 1036, 'faith': 1037, 'arriv': 1038, 'hurt': 1039, 'technic': 1040, 'angel': 1041, 'dad': 1042, 'genuin': 1043, 'solid': 1044, 'awesom': 1045, 'f': 1046, 'former': 1047, 'colleg': 1048, 'van': 1049, 'focu': 1050, 'count': 1051, 'heavi': 1052, 'tear': 1053, 'wall': 1054, 'rais': 1055, 'laughabl': 1056, 'visit': 1057, 'younger': 1058, 'sign': 1059, 'excus': 1060, 'fair': 1061, 'cult': 1062, 'motion': 1063, 'tough': 1064, 'key': 1065, 'desir': 1066, 'super': 1067, 'addit': 1068, 'stun': 1069, 'cloth': 1070, 'exploit': 1071, 'smith': 1072, 'tortur': 1073, 'davi': 1074, 'race': 1075, 'cross': 1076, 'author': 1077, 'jim': 1078, 'focus': 1079, 'compel': 1080, 'consist': 1081, 'minor': 1082, 'commit': 1083, 'chemistri': 1084, 'pathet': 1085, 'park': 1086, 'frank': 1087, 'obsess': 1088, 'tradit': 1089, 'grade': 1090, '60': 1091, 'asid': 1092, 'brutal': 1093, 'steve': 1094, 'somewher': 1095, 'depress': 1096, 'opportun': 1097, 'rule': 1098, 'grant': 1099, 'u': 1100, 'explor': 1101, 'honest': 1102, 'besid': 1103, 'anti': 1104, 'dub': 1105, 'intend': 1106, 'trailer': 1107, 'bar': 1108, 'longer': 1109, 'west': 1110, 'regard': 1111, 'scientist': 1112, 'judg': 1113, 'decad': 1114, 'silent': 1115, 'creativ': 1116, 'armi': 1117, 'wild': 1118, 'g': 1119, 'south': 1120, 'stewart': 1121, 'draw': 1122, 'road': 1123, 'govern': 1124, 'boss': 1125, 'ex': 1126, 'practic': 1127, 'surprisingli': 1128, 'club': 1129, 'festiv': 1130, 'motiv': 1131, 'gang': 1132, 'london': 1133, 'page': 1134, 'redeem': 1135, 'green': 1136, 'aliv': 1137, 'machin': 1138, 'display': 1139, 'militari': 1140, 'idiot': 1141, 'thrill': 1142, 'repeat': 1143, 'folk': 1144, '100': 1145, 'yeah': 1146, 'nobodi': 1147, '40': 1148, 'garbag': 1149, 'journey': 1150, 'ground': 1151, 'tire': 1152, 'smile': 1153, 'bought': 1154, 'mood': 1155, 'sam': 1156, 'cost': 1157, 'stone': 1158, 'noir': 1159, 'mouth': 1160, 'terrif': 1161, 'agent': 1162, 'requir': 1163, 'utterli': 1164, 'honestli': 1165, 'area': 1166, 'sexi': 1167, 'geniu': 1168, 'report': 1169, 'glad': 1170, 'investig': 1171, 'enter': 1172, 'humour': 1173, 'serial': 1174, 'narr': 1175, 'occasion': 1176, 'passion': 1177, 'marriag': 1178, 'climax': 1179, 'industri': 1180, 'studi': 1181, 'center': 1182, 'demon': 1183, 'nowher': 1184, 'ship': 1185, 'charli': 1186, 'loos': 1187, 'hors': 1188, 'bear': 1189, 'hang': 1190, 'wow': 1191, 'graphic': 1192, 'admir': 1193, 'giant': 1194, 'send': 1195, 'damn': 1196, 'loud': 1197, 'rel': 1198, 'nake': 1199, 'profession': 1200, 'subtl': 1201, 'blow': 1202, 'bottom': 1203, 'batman': 1204, 'insult': 1205, 'kelli': 1206, 'boyfriend': 1207, 'r': 1208, 'doubl': 1209, 'initi': 1210, 'frame': 1211, 'gem': 1212, 'opera': 1213, 'drawn': 1214, 'church': 1215, 'affect': 1216, 'cinemat': 1217, 'challeng': 1218, 'j': 1219, 'l': 1220, 'evid': 1221, 'nightmar': 1222, 'fulli': 1223, 'seek': 1224, 'conflict': 1225, 'essenti': 1226, 'arm': 1227, 'henri': 1228, 'wind': 1229, 'grace': 1230, 'christoph': 1231, 'assum': 1232, 'narrat': 1233, 'witch': 1234, 'hunt': 1235, 'push': 1236, 'chri': 1237, 'wise': 1238, 'repres': 1239, 'nomin': 1240, 'month': 1241, 'affair': 1242, 'hide': 1243, 'sceneri': 1244, 'avail': 1245, 'smart': 1246, 'thu': 1247, 'justic': 1248, 'bond': 1249, 'flashback': 1250, 'outstand': 1251, 'interview': 1252, 'presenc': 1253, 'constantli': 1254, 'satisfi': 1255, 'central': 1256, 'bed': 1257, 'iron': 1258, 'content': 1259, 'sell': 1260, 'everybodi': 1261, 'gag': 1262, 'slowli': 1263, 'hotel': 1264, 'hire': 1265, 'system': 1266, 'thrown': 1267, 'adam': 1268, 'hey': 1269, 'individu': 1270, 'charl': 1271, 'jone': 1272, 'mediocr': 1273, 'allen': 1274, 'billi': 1275, 'ray': 1276, 'lesson': 1277, 'cameo': 1278, 'photographi': 1279, 'fellow': 1280, 'pari': 1281, 'strike': 1282, 'rise': 1283, 'independ': 1284, 'absurd': 1285, 'brief': 1286, 'neg': 1287, 'impact': 1288, 'phone': 1289, 'ill': 1290, 'born': 1291, 'model': 1292, 'angl': 1293, 'fresh': 1294, 'spoil': 1295, 'abus': 1296, 'likabl': 1297, 'discuss': 1298, 'hill': 1299, 'sight': 1300, 'ahead': 1301, 'sent': 1302, 'photograph': 1303, 'blame': 1304, 'shine': 1305, 'occur': 1306, 'logic': 1307, 'mainli': 1308, 'bruce': 1309, 'forev': 1310, 'commerci': 1311, 'skip': 1312, 'teacher': 1313, 'segment': 1314, 'surround': 1315, 'held': 1316, 'blond': 1317, 'zero': 1318, 'summer': 1319, 'resembl': 1320, 'satir': 1321, 'trap': 1322, 'fool': 1323, 'ball': 1324, 'queen': 1325, 'six': 1326, 'sub': 1327, 'twice': 1328, 'tragedi': 1329, 'reaction': 1330, 'pack': 1331, 'bomb': 1332, 'protagonist': 1333, 'will': 1334, 'hospit': 1335, 'mile': 1336, 'sport': 1337, 'drink': 1338, 'jerri': 1339, 'trust': 1340, 'mom': 1341, 'vote': 1342, 'encount': 1343, 'plane': 1344, 'station': 1345, 'program': 1346, 'al': 1347, 'current': 1348, 'martin': 1349, 'celebr': 1350, 'choos': 1351, 'join': 1352, 'lord': 1353, 'field': 1354, 'favourit': 1355, 'round': 1356, 'tragic': 1357, 'robot': 1358, 'vision': 1359, 'jean': 1360, 'tie': 1361, 'arthur': 1362, 'roger': 1363, 'random': 1364, 'fortun': 1365, 'dread': 1366, 'intern': 1367, 'psycholog': 1368, 'improv': 1369, 'nonsens': 1370, 'epic': 1371, 'prefer': 1372, 'highlight': 1373, 'formula': 1374, 'legend': 1375, 'pleasur': 1376, '11': 1377, 'tape': 1378, 'dollar': 1379, 'object': 1380, 'wide': 1381, 'fox': 1382, 'gorgeou': 1383, 'thin': 1384, 'porn': 1385, 'buddi': 1386, 'ugli': 1387, 'influenc': 1388, 'nasti': 1389, 'prepar': 1390, 'ii': 1391, 'progress': 1392, 'warm': 1393, 'reflect': 1394, 'supposedli': 1395, 'youth': 1396, 'worthi': 1397, 'latter': 1398, 'length': 1399, 'unusu': 1400, 'crash': 1401, 'childhood': 1402, 'superior': 1403, 'shop': 1404, 'seven': 1405, 'remot': 1406, 'theatr': 1407, 'pilot': 1408, 'funniest': 1409, 'disgust': 1410, 'paid': 1411, 'fell': 1412, 'trick': 1413, 'convers': 1414, 'castl': 1415, 'establish': 1416, 'gangster': 1417, 'rob': 1418, 'disast': 1419, 'ident': 1420, 'mine': 1421, 'heaven': 1422, 'suicid': 1423, 'disappear': 1424, 'mask': 1425, 'singer': 1426, 'decis': 1427, 'heroin': 1428, 'forgotten': 1429, 'tend': 1430, 'partner': 1431, 'brian': 1432, 'desert': 1433, 'alan': 1434, 'recogn': 1435, 'thoroughli': 1436, 'stuck': 1437, 'ms': 1438, 'sky': 1439, 'p': 1440, 'accur': 1441, 'replac': 1442, 'market': 1443, 'uncl': 1444, 'clue': 1445, 'seemingli': 1446, 'andi': 1447, 'eddi': 1448, 'danni': 1449, 'commentari': 1450, 'devil': 1451, 'jackson': 1452, 'pair': 1453, 'refus': 1454, 'that': 1455, 'therefor': 1456, 'fault': 1457, 'unit': 1458, 'accid': 1459, 'fate': 1460, 'river': 1461, 'ed': 1462, 'tune': 1463, 'afraid': 1464, 'clean': 1465, 'hidden': 1466, 'stephen': 1467, 'russian': 1468, 'test': 1469, 'quick': 1470, 'captain': 1471, 'readi': 1472, 'irrit': 1473, 'instanc': 1474, 'convey': 1475, 'european': 1476, 'frustrat': 1477, 'insan': 1478, 'daniel': 1479, 'wed': 1480, '1950': 1481, 'rescu': 1482, 'food': 1483, 'chines': 1484, 'lock': 1485, 'dirti': 1486, 'angri': 1487, 'joy': 1488, 'price': 1489, 'steven': 1490, 'bland': 1491, 'cage': 1492, 'anymor': 1493, 'rang': 1494, 'wooden': 1495, 'rush': 1496, 'jason': 1497, 'news': 1498, 'n': 1499, 'twenti': 1500, 'martial': 1501, 'worri': 1502, '12': 1503, 'board': 1504, 'led': 1505, 'symbol': 1506, 'transform': 1507, 'hunter': 1508, 'cgi': 1509, 'onto': 1510, 'x': 1511, 'johnni': 1512, 'invent': 1513, 'piti': 1514, 'sentiment': 1515, 'explan': 1516, 'attitud': 1517, 'process': 1518, 'awar': 1519, 'owner': 1520, 'aim': 1521, 'necessari': 1522, 'favor': 1523, 'energi': 1524, 'floor': 1525, 'target': 1526, 'opposit': 1527, 'religi': 1528, 'window': 1529, 'chick': 1530, 'insight': 1531, 'blind': 1532, 'movement': 1533, 'research': 1534, 'mountain': 1535, 'comparison': 1536, 'deepli': 1537, 'possess': 1538, 'rain': 1539, 'whatsoev': 1540, 'comed': 1541, 'grand': 1542, 'shadow': 1543, 'began': 1544, 'mid': 1545, 'bank': 1546, 'parodi': 1547, 'princ': 1548, 'weapon': 1549, 'pre': 1550, 'taylor': 1551, 'friendship': 1552, 'credibl': 1553, 'flesh': 1554, 'teach': 1555, 'dougla': 1556, 'protect': 1557, 'bloodi': 1558, 'terror': 1559, 'hint': 1560, 'marvel': 1561, 'watchabl': 1562, 'load': 1563, 'anybodi': 1564, 'accord': 1565, 'leader': 1566, 'drunk': 1567, 'superman': 1568, 'brown': 1569, 'freddi': 1570, 'seat': 1571, 'appropri': 1572, 'jeff': 1573, 'hitler': 1574, 'tim': 1575, 'unknown': 1576, 'knock': 1577, 'villag': 1578, 'keaton': 1579, 'charg': 1580, 'unnecessari': 1581, 'england': 1582, 'empti': 1583, 'media': 1584, 'enemi': 1585, 'perspect': 1586, 'dare': 1587, 'wave': 1588, 'strength': 1589, 'utter': 1590, 'craft': 1591, 'buck': 1592, 'kiss': 1593, 'nativ': 1594, 'ford': 1595, 'correct': 1596, 'contrast': 1597, 'distract': 1598, 'anywher': 1599, 'nazi': 1600, 'chill': 1601, 'speed': 1602, 'soap': 1603, 'knowledg': 1604, 'magnific': 1605, 'fred': 1606, 'mission': 1607, 'breath': 1608, '1980': 1609, 'ice': 1610, 'jr': 1611, 'crowd': 1612, 'moon': 1613, 'joan': 1614, 'kate': 1615, '000': 1616, 'frighten': 1617, 'soft': 1618, 'dan': 1619, 'dick': 1620, 'nick': 1621, 'hundr': 1622, 'simon': 1623, 'somebodi': 1624, 'dozen': 1625, 'radio': 1626, 'academi': 1627, 'andrew': 1628, 'thousand': 1629, 'shakespear': 1630, 'loss': 1631, 'sum': 1632, 'account': 1633, 'root': 1634, 'vehicl': 1635, 'quot': 1636, 'leg': 1637, 'convent': 1638, '1970': 1639, 'behavior': 1640, 'gold': 1641, 'regular': 1642, 'demand': 1643, 'compet': 1644, 'worker': 1645, 'pretenti': 1646, 'notabl': 1647, 'stretch': 1648, 'explos': 1649, 'japan': 1650, 'privat': 1651, 'lynch': 1652, 'candi': 1653, 'interpret': 1654, 'constant': 1655, 'tarzan': 1656, 'debut': 1657, 'translat': 1658, 'spi': 1659, 'prais': 1660, 'sea': 1661, 'revolv': 1662, 'threaten': 1663, 'technolog': 1664, 'quiet': 1665, 'failur': 1666, 'ass': 1667, 'jesu': 1668, 'franc': 1669, 'sat': 1670, 'higher': 1671, 'punch': 1672, 'met': 1673, 'toy': 1674, 'kevin': 1675, 'aid': 1676, 'interact': 1677, 'vh': 1678, 'mike': 1679, 'abandon': 1680, 'confront': 1681, 'separ': 1682, 'command': 1683, 'bet': 1684, 'recal': 1685, 'servic': 1686, 'techniqu': 1687, 'belong': 1688, 'stunt': 1689, 'gotten': 1690, 'site': 1691, 'bug': 1692, 'freak': 1693, 'cabl': 1694, 'foot': 1695, 'jimmi': 1696, 'african': 1697, 'capabl': 1698, 'bright': 1699, 'fu': 1700, 'stock': 1701, 'presid': 1702, 'succeed': 1703, 'boat': 1704, 'clark': 1705, 'fat': 1706, 'gene': 1707, 'structur': 1708, 'spanish': 1709, 'kidnap': 1710, 'paper': 1711, 'whilst': 1712, 'factor': 1713, 'belief': 1714, 'realis': 1715, 'bob': 1716, 'attend': 1717, 'complic': 1718, 'witti': 1719, 'realism': 1720, 'educ': 1721, 'tree': 1722, 'assist': 1723, 'santa': 1724, 'broken': 1725, 'finest': 1726, 'observ': 1727, 'up': 1728, 'smoke': 1729, 'depart': 1730, 'determin': 1731, 'v': 1732, 'hat': 1733, 'oper': 1734, 'rubbish': 1735, 'domin': 1736, 'routin': 1737, 'fame': 1738, 'lewi': 1739, 'advanc': 1740, 'lone': 1741, 'kinda': 1742, 'safe': 1743, 'morgan': 1744, 'hook': 1745, 'foreign': 1746, 'rank': 1747, 'numer': 1748, 'civil': 1749, 'shape': 1750, 'shallow': 1751, 'rose': 1752, 'vs': 1753, 'werewolf': 1754, 'washington': 1755, 'gari': 1756, 'morn': 1757, 'kong': 1758, 'ordinari': 1759, 'winner': 1760, 'accomplish': 1761, 'whenev': 1762, 'grab': 1763, 'peac': 1764, 'virtual': 1765, 'h': 1766, 'offens': 1767, 'luck': 1768, 'contriv': 1769, 'complain': 1770, 'bigger': 1771, 'patient': 1772, 'welcom': 1773, 'activ': 1774, 'unfunni': 1775, 'dimension': 1776, 'pretend': 1777, 'con': 1778, 'trek': 1779, 'eric': 1780, 'flash': 1781, 'lesbian': 1782, 'dri': 1783, 'code': 1784, 'cain': 1785, 'wake': 1786, 'guard': 1787, 'dancer': 1788, 'statu': 1789, 'manipul': 1790, 'corrupt': 1791, 'albert': 1792, 'speech': 1793, 'awkward': 1794, 'sourc': 1795, 'gain': 1796, 'context': 1797, 'signific': 1798, 'corni': 1799, 'sean': 1800, 'psycho': 1801, 'anthoni': 1802, 'clip': 1803, '13': 1804, 'w': 1805, 'priest': 1806, 'advic': 1807, 'theatric': 1808, 'reli': 1809, 'curiou': 1810, 'religion': 1811, 'flow': 1812, 'addict': 1813, 'secur': 1814, 'jennif': 1815, 'howard': 1816, 'specif': 1817, 'asian': 1818, 'skin': 1819, 'comfort': 1820, 'golden': 1821, 'organ': 1822, 'promot': 1823, 'core': 1824, 'luke': 1825, 'lucki': 1826, 'cheat': 1827, 'cash': 1828, 'dislik': 1829, 'associ': 1830, 'lower': 1831, 'contribut': 1832, 'spell': 1833, 'regret': 1834, 'frequent': 1835, 'degre': 1836, 'wing': 1837, 'frankli': 1838, 'devic': 1839, 'balanc': 1840, 'lake': 1841, 'sake': 1842, 'print': 1843, 'forgiv': 1844, 'thoma': 1845, 'mass': 1846, 'betti': 1847, 'unexpect': 1848, 'crack': 1849, 'gordon': 1850, 'amateur': 1851, 'depend': 1852, 'grown': 1853, 'unfold': 1854, 'construct': 1855, 'invit': 1856, 'categori': 1857, 'condit': 1858, 'intellectu': 1859, 'anna': 1860, 'grew': 1861, 'walter': 1862, 'matur': 1863, 'honor': 1864, 'mirror': 1865, 'sudden': 1866, 'veteran': 1867, 'sole': 1868, 'spectacular': 1869, 'overli': 1870, 'gift': 1871, 'liner': 1872, 'experienc': 1873, 'grip': 1874, 'freedom': 1875, 'meanwhil': 1876, 'demonstr': 1877, 'card': 1878, 'robin': 1879, 'colour': 1880, 'theori': 1881, 'sheriff': 1882, 'section': 1883, 'drew': 1884, 'subtitl': 1885, 'unabl': 1886, 'brilliantli': 1887, 'crappi': 1888, 'circumst': 1889, 'oliv': 1890, 'altern': 1891, 'matt': 1892, 'laughter': 1893, 'cook': 1894, 'path': 1895, 'parker': 1896, 'pile': 1897, 'sheer': 1898, 'sinatra': 1899, 'accident': 1900, 'treatment': 1901, 'wander': 1902, 'hall': 1903, 'lawyer': 1904, 'defin': 1905, 'relief': 1906, 'captiv': 1907, 'dragon': 1908, 'hank': 1909, 'gratuit': 1910, 'halloween': 1911, 'moor': 1912, 'broadway': 1913, 'unintent': 1914, 'barbara': 1915, 'wayn': 1916, 'cowboy': 1917, 'wound': 1918, 'k': 1919, 'jacki': 1920, 'kung': 1921, 'winter': 1922, 'statement': 1923, 'spoof': 1924, 'canadian': 1925, 'surreal': 1926, 'cheer': 1927, 'fare': 1928, 'compos': 1929, 'treasur': 1930, 'gonna': 1931, 'fish': 1932, 'woodi': 1933, 'emerg': 1934, 'unrealist': 1935, 'victor': 1936, 'sensit': 1937, 'driven': 1938, 'sympathet': 1939, 'ran': 1940, 'neighbor': 1941, 'menac': 1942, 'authent': 1943, 'overlook': 1944, 'topic': 1945, 'expos': 1946, 'glass': 1947, 'ancient': 1948, 'handsom': 1949, 'michel': 1950, 'chief': 1951, 'gross': 1952, 'pleasant': 1953, 'contemporari': 1954, 'built': 1955, 'feet': 1956, 'network': 1957, 'nevertheless': 1958, 'stranger': 1959, 'comedian': 1960, 'russel': 1961, 'cinderella': 1962, 'consider': 1963, 'letter': 1964, 'underr': 1965, 'blockbust': 1966, 'endless': 1967, 'miser': 1968, 'earn': 1969, 'gori': 1970, 'solv': 1971, 'switch': 1972, 'brook': 1973, 'convict': 1974, 'joseph': 1975, 'virgin': 1976, 'bullet': 1977, 'edward': 1978, 'victoria': 1979, 'scale': 1980, 'alex': 1981, 'chosen': 1982, 'cynic': 1983, 'scenario': 1984, '0': 1985, 'outrag': 1986, 'curs': 1987, 'sword': 1988, 'gut': 1989, 'com': 1990, 'monkey': 1991, 'wrap': 1992, 'uk': 1993, 'screenwrit': 1994, 'driver': 1995, 'substanc': 1996, 'juli': 1997, 'proper': 1998, 'remov': 1999, 'par': 2000, 'court': 2001, 'bird': 2002, 'indic': 2003, 'consequ': 2004, 'rental': 2005, 'loser': 2006, 'naiv': 2007, 'inevit': 2008, 'grave': 2009, 'roy': 2010, 'nanci': 2011, 'advertis': 2012, 'slap': 2013, 'brave': 2014, 'fatal': 2015, 'bridg': 2016, 'invis': 2017, 'germani': 2018, 'le': 2019, 'provok': 2020, 'anger': 2021, 'footbal': 2022, 'ador': 2023, 'loui': 2024, 'anderson': 2025, 'alcohol': 2026, 'chan': 2027, 'willi': 2028, 'professor': 2029, 'stumbl': 2030, 'ryan': 2031, 'australian': 2032, 'sharp': 2033, 'assassin': 2034, 'bat': 2035, '1930': 2036, 'patrick': 2037, 'trilog': 2038, 'liber': 2039, 'ape': 2040, 'heck': 2041, 'amateurish': 2042, 'refresh': 2043, 'cell': 2044, 'strongli': 2045, 'eight': 2046, 'lousi': 2047, 'deni': 2048, 'saturday': 2049, 'sin': 2050, 'justifi': 2051, 'san': 2052, 'vagu': 2053, 'resid': 2054, 'reput': 2055, 'creator': 2056, 'mini': 2057, 'indi': 2058, 'terrifi': 2059, 'defeat': 2060, 'sympathi': 2061, 'prevent': 2062, 'task': 2063, 'endur': 2064, 'expert': 2065, 'tediou': 2066, 'tabl': 2067, 'employ': 2068, 'trial': 2069, 'rival': 2070, 'offend': 2071, 'basebal': 2072, 'imit': 2073, 'che': 2074, 'beach': 2075, 'weekend': 2076, 'complaint': 2077, 'dig': 2078, 'europ': 2079, 'max': 2080, 'pitch': 2081, 'fairi': 2082, 'risk': 2083, 'purchas': 2084, 'murphi': 2085, 'format': 2086, 'reminisc': 2087, 'harsh': 2088, 'glimps': 2089, 'hype': 2090, 'tini': 2091, 'nois': 2092, 'bite': 2093, 'powel': 2094, 'titan': 2095, 'strip': 2096, 'till': 2097, 'north': 2098, 'fals': 2099, 'asleep': 2100, '14': 2101, 'prime': 2102, 'descript': 2103, 'texa': 2104, 'africa': 2105, 'revel': 2106, 'destruct': 2107, 'surfac': 2108, 'semi': 2109, 'inner': 2110, 'spin': 2111, 'excess': 2112, 'arrest': 2113, 'uninterest': 2114, 'sitcom': 2115, 'makeup': 2116, 'controversi': 2117, 'maintain': 2118, 'argu': 2119, 'dinosaur': 2120, 'twin': 2121, 'hitchcock': 2122, 'massiv': 2123, 'reject': 2124, 'ludicr': 2125, 'expens': 2126, 'kim': 2127, 'melodrama': 2128, 'ideal': 2129, 'stare': 2130, 'insist': 2131, 'supernatur': 2132, 'ala': 2133, 'host': 2134, 'erot': 2135, 'subplot': 2136, 'forest': 2137, 'press': 2138, 'atroci': 2139, 'nail': 2140, 'ga': 2141, 'columbo': 2142, 'presum': 2143, 'identifi': 2144, 'dude': 2145, 'cant': 2146, 'notch': 2147, 'guest': 2148, 'forgett': 2149, 'character': 2150, 'plagu': 2151, 'crude': 2152, 'method': 2153, 'closer': 2154, 'ear': 2155, 'beast': 2156, 'lion': 2157, 'border': 2158, 'landscap': 2159, 'princess': 2160, 'foster': 2161, 'damag': 2162, 'storytel': 2163, 'accus': 2164, 'pacino': 2165, 'birth': 2166, 'aunt': 2167, 'jungl': 2168, 'urban': 2169, 'previous': 2170, 'bound': 2171, 'jess': 2172, 'thirti': 2173, 'guid': 2174, 'chose': 2175, 'emma': 2176, 'propaganda': 2177, 'doll': 2178, 'nude': 2179, 'whoever': 2180, 'pet': 2181, 'mate': 2182, 'mainstream': 2183, '25': 2184, 'warrior': 2185, 'deadli': 2186, 'latest': 2187, 'friday': 2188, 'exact': 2189, 'size': 2190, 'upset': 2191, 'merit': 2192, 'cooper': 2193, 'poster': 2194, 'gritti': 2195, 'popul': 2196, 'buff': 2197, 'citizen': 2198, 'warner': 2199, 'sun': 2200, 'corps': 2201, 'ton': 2202, 'wilson': 2203, 'contact': 2204, 'contest': 2205, 'rough': 2206, 'blend': 2207, '1990': 2208, 'settl': 2209, 'environ': 2210, 'mgm': 2211, 'select': 2212, 'bu': 2213, 'pitt': 2214, 'overcom': 2215, 'metal': 2216, 'rat': 2217, 'widow': 2218, 'alic': 2219, 'guilti': 2220, 'lift': 2221, 'link': 2222, 'ted': 2223, 'revolut': 2224, 'particip': 2225, 'accompani': 2226, 'johnson': 2227, '1960': 2228, 'exagger': 2229, 'corpor': 2230, 'corner': 2231, 'matrix': 2232, 'afternoon': 2233, 'moron': 2234, 'prostitut': 2235, 'instal': 2236, 'multipl': 2237, 'friendli': 2238, 'hood': 2239, 'sincer': 2240, 'doom': 2241, 'clair': 2242, 'leagu': 2243, 'holm': 2244, 'blah': 2245, 'hip': 2246, 'defend': 2247, 'campi': 2248, 'aka': 2249, 'grim': 2250, 'irish': 2251, 'examin': 2252, 'advis': 2253, 'sunday': 2254, 'lugosi': 2255, 'string': 2256, 'junk': 2257, 'confid': 2258, 'icon': 2259, 'rachel': 2260, 'shake': 2261, 'shut': 2262, 'tight': 2263, 'varieti': 2264, 'pro': 2265, 'goal': 2266, 'sullivan': 2267, 'jaw': 2268, 'directli': 2269, 'denni': 2270, 'attach': 2271, 'mexican': 2272, 'medic': 2273, 'bourn': 2274, 'legendari': 2275, 'sentenc': 2276, 'sarah': 2277, 'terrorist': 2278, 'dean': 2279, 'vietnam': 2280, 'breast': 2281, 'prior': 2282, 'truck': 2283, 'duke': 2284, 'courag': 2285, 'donald': 2286, 'split': 2287, 'hong': 2288, 'behav': 2289, 'entri': 2290, 'yell': 2291, 'un': 2292, 'proceed': 2293, 'nose': 2294, 'jerk': 2295, 'stolen': 2296, 'borrow': 2297, 'concentr': 2298, 'confess': 2299, 'unconvinc': 2300, 'gather': 2301, 'lifetim': 2302, 'forth': 2303, 'crush': 2304, 'swim': 2305, 'buri': 2306, 'everywher': 2307, 'lip': 2308, 'deliveri': 2309, 'california': 2310, 'pan': 2311, 'turkey': 2312, 'julia': 2313, 'spite': 2314, 'quest': 2315, 'flight': 2316, 'downright': 2317, 'hoffman': 2318, 'freeman': 2319, 'reward': 2320, 'offici': 2321, 'china': 2322, 'proud': 2323, 'worthwhil': 2324, 'jail': 2325, 'encourag': 2326, 'fade': 2327, 'notori': 2328, 'sink': 2329, 'inept': 2330, 'fabul': 2331, 'betray': 2332, 'lazi': 2333, 'jon': 2334, 'sir': 2335, 'storm': 2336, 'shower': 2337, 'survivor': 2338, 'susan': 2339, 'bag': 2340, 'lisa': 2341, 'retard': 2342, 'relev': 2343, 'cousin': 2344, 'branagh': 2345, 'imageri': 2346, 'teeth': 2347, 'bell': 2348, 'quirki': 2349, 'facial': 2350, 'bride': 2351, 'toler': 2352, 'stab': 2353, 'summari': 2354, 'mexico': 2355, 'shark': 2356, 'alright': 2357, 'hugh': 2358, 'trade': 2359, 'tremend': 2360, 'finger': 2361, 'pose': 2362, 'bitter': 2363, 'hyster': 2364, 'ha': 2365, 'von': 2366, 'blown': 2367, 'cruel': 2368, 'afterward': 2369, 'address': 2370, 'scheme': 2371, 'ned': 2372, 'ron': 2373, 'bone': 2374, 'larri': 2375, 'christ': 2376, 'tour': 2377, 'distinct': 2378, 'snake': 2379, 'feed': 2380, 'thumb': 2381, 'pursu': 2382, 'swear': 2383, 'traci': 2384, 'screw': 2385, 'beg': 2386, 'mechan': 2387, 'photo': 2388, 'occas': 2389, 'chair': 2390, 'obscur': 2391, 'stomach': 2392, 'raw': 2393, 'gruesom': 2394, 'holiday': 2395, 'necessarili': 2396, 'chain': 2397, 'heavili': 2398, 'cabin': 2399, 'resist': 2400, 'render': 2401, 'argument': 2402, 'sidney': 2403, 'southern': 2404, 'hardi': 2405, 'satan': 2406, 'racist': 2407, 'india': 2408, 'philip': 2409, 'indulg': 2410, 'understood': 2411, 'belov': 2412, 'outfit': 2413, 'fourth': 2414, 'tongu': 2415, 'stalk': 2416, 'forgot': 2417, 'pregnant': 2418, 'obnoxi': 2419, 'lay': 2420, 'integr': 2421, 'midnight': 2422, 'inhabit': 2423, 'slapstick': 2424, '17': 2425, 'restor': 2426, 'magazin': 2427, 'garden': 2428, 'carol': 2429, 'ticket': 2430, 'deeper': 2431, 'brad': 2432, 'incid': 2433, 'devot': 2434, 'shoe': 2435, 'lincoln': 2436, 'lili': 2437, 'anticip': 2438, 'divorc': 2439, 'elizabeth': 2440, 'disbelief': 2441, 'guarante': 2442, 'benefit': 2443, 'underground': 2444, 'sandler': 2445, 'maria': 2446, 'amazingli': 2447, 'greater': 2448, 'explod': 2449, 'creation': 2450, 'cring': 2451, 'capit': 2452, 'princip': 2453, 'slave': 2454, 'mildli': 2455, 'bbc': 2456, 'halfway': 2457, 'extraordinari': 2458, 'introduct': 2459, 'lesli': 2460, 'funnier': 2461, 'advantag': 2462, 'transfer': 2463, 'punish': 2464, 'overwhelm': 2465, 'tap': 2466, 'wreck': 2467, 'enhanc': 2468, 'text': 2469, 'extent': 2470, 'deliber': 2471, 'lo': 2472, 'preview': 2473, 'horrif': 2474, 'east': 2475, 'jessica': 2476, 'error': 2477, 'lane': 2478, 'plant': 2479, 'dynam': 2480, 'ensu': 2481, 'miller': 2482, 'vacat': 2483, '2000': 2484, 'basi': 2485, 'miscast': 2486, 'vincent': 2487, 'appli': 2488, 'homosexu': 2489, 'sophist': 2490, 'measur': 2491, 'extend': 2492, 'uncomfort': 2493, 'steel': 2494, 'spoken': 2495, 'sleazi': 2496, 'mansion': 2497, 'reed': 2498, 'elev': 2499, 'via': 2500, 'bollywood': 2501, 'overact': 2502, 'mous': 2503, 'melt': 2504, 'cathol': 2505, 'assign': 2506, 'blair': 2507, 'stanley': 2508, 'fix': 2509, 'goofi': 2510, 'daili': 2511, 'alter': 2512, 'conceiv': 2513, 'breathtak': 2514, 'savag': 2515, 'hippi': 2516, 'beer': 2517, 'dentist': 2518, 'inspector': 2519, 'oppos': 2520, 'properli': 2521, 'carpent': 2522, 'succe': 2523, 'subsequ': 2524, 'everyday': 2525, 'nowaday': 2526, 'burt': 2527, 'sacrific': 2528, 'massacr': 2529, 'laura': 2530, 'neck': 2531, 'circl': 2532, 'block': 2533, 'fallen': 2534, 'portrait': 2535, 'access': 2536, 'grey': 2537, 'seagal': 2538, 'pool': 2539, 'concert': 2540, 'lesser': 2541, 'fay': 2542, 'mob': 2543, 'christi': 2544, 'sinist': 2545, 'jewish': 2546, 'chees': 2547, 'relax': 2548, 'react': 2549, 'competit': 2550, 'usa': 2551, 'isol': 2552, 'jake': 2553, 'ironi': 2554, 'chop': 2555, 'lyric': 2556, 'appal': 2557, 'suitabl': 2558, 'spiritu': 2559, 'nine': 2560, 'immens': 2561, '2006': 2562, 'creep': 2563, 'stink': 2564, 'nonetheless': 2565, 'navi': 2566, 'needless': 2567, 'reduc': 2568, 'rage': 2569, 'retir': 2570, 'nut': 2571, 'spring': 2572, 'sold': 2573, 'luci': 2574, 'adopt': 2575, 'franchis': 2576, 'user': 2577, 'shirt': 2578, 'showcas': 2579, 'asham': 2580, 'stanwyck': 2581, 'uninspir': 2582, 'zone': 2583, 'nurs': 2584, 'jay': 2585, 'bath': 2586, 'digit': 2587, 'bulli': 2588, 'per': 2589, 'amongst': 2590, 'sutherland': 2591, 'upper': 2592, 'broadcast': 2593, 'oddli': 2594, '1940': 2595, '2001': 2596, 'laid': 2597, 'illustr': 2598, 'baker': 2599, 'throat': 2600, 'disguis': 2601, 'stylish': 2602, 'aspir': 2603, 'brando': 2604, 'fulfil': 2605, 'wwii': 2606, 'wanna': 2607, 'pound': 2608, 'impli': 2609, '18': 2610, 'em': 2611, 'pride': 2612, 'neighborhood': 2613, 'nobl': 2614, 'endear': 2615, 'thief': 2616, 'dinner': 2617, 'prop': 2618, 'diseas': 2619, 'shift': 2620, 'cinematograph': 2621, 'bett': 2622, 'shoulder': 2623, 'albeit': 2624, '16': 2625, 'rochest': 2626, 'tens': 2627, 'distribut': 2628, 'bo': 2629, 'coher': 2630, 'dawn': 2631, 'knife': 2632, 'function': 2633, 'contract': 2634, 'forti': 2635, 'rebel': 2636, 'poignant': 2637, 'snow': 2638, 'wash': 2639, 'surf': 2640, 'shout': 2641, 'matthau': 2642, 'silenc': 2643, 'duti': 2644, 'reunion': 2645, 'silver': 2646, 'heat': 2647, 'proof': 2648, 'cancel': 2649, 'internet': 2650, 'henc': 2651, 'eeri': 2652, 'mindless': 2653, 'horrend': 2654, 'cannib': 2655, 'elvira': 2656, 'chuck': 2657, 'derek': 2658, 'height': 2659, 'instinct': 2660, 'widmark': 2661, 'innov': 2662, 'mill': 2663, 'greatli': 2664, 'alik': 2665, 'incoher': 2666, 'absorb': 2667, 'pie': 2668, 'neat': 2669, 'premier': 2670, 'glori': 2671, 'musician': 2672, 'spielberg': 2673, 'etern': 2674, 'repetit': 2675, 'torn': 2676, 'elvi': 2677, 'wealthi': 2678, 'racism': 2679, 'announc': 2680, 'nelson': 2681, 'infam': 2682, 'trite': 2683, 'itali': 2684, 'fbi': 2685, 'diamond': 2686, 'homag': 2687, 'bang': 2688, 'crisi': 2689, 'lovabl': 2690, 'redempt': 2691, 'horrifi': 2692, 'blank': 2693, 'burton': 2694, 'britain': 2695, 'precis': 2696, 'resolut': 2697, 'wilder': 2698, 'pat': 2699, 'parallel': 2700, 'happili': 2701, 'flop': 2702, 'hammer': 2703, 'streisand': 2704, 'ensembl': 2705, 'helen': 2706, 'chaplin': 2707, 'dedic': 2708, 'conclud': 2709, 'mar': 2710, 'cube': 2711, 'st': 2712, 'triumph': 2713, 'broke': 2714, 'factori': 2715, 'oil': 2716, 'carter': 2717, 'disagre': 2718, 'plastic': 2719, 'rocket': 2720, 'own': 2721, 'weight': 2722, 'bush': 2723, 'march': 2724, 'fighter': 2725, 'vega': 2726, 'climb': 2727, 'row': 2728, 'chuckl': 2729, 'mst3k': 2730, 'sensibl': 2731, 'wherea': 2732, 'lust': 2733, 'unforgett': 2734, 'meaning': 2735, 'boot': 2736, 'luca': 2737, 'spare': 2738, 'thug': 2739, 'enorm': 2740, 'dump': 2741, 'dane': 2742, 'kurt': 2743, 'stress': 2744, 'dear': 2745, 'threat': 2746, 'rap': 2747, 'bobbi': 2748, 'fifti': 2749, 'engin': 2750, 'difficulti': 2751, 'arnold': 2752, 'caricatur': 2753, 'butt': 2754, 'karloff': 2755, 'brand': 2756, 'adequ': 2757, 'swing': 2758, 'polish': 2759, 'secretari': 2760, 'arrog': 2761, 'journalist': 2762, 'ego': 2763, 'barri': 2764, 'ralph': 2765, 'elabor': 2766, 'homeless': 2767, 'fest': 2768, 'hamlet': 2769, 'flynn': 2770, 'tool': 2771, 'arrang': 2772, 'unbear': 2773, 'float': 2774, 'grate': 2775, 'puppet': 2776, 'simpson': 2777, 'resort': 2778, 'fanci': 2779, 'induc': 2780, 'conspiraci': 2781, 'spike': 2782, 'guilt': 2783, 'basement': 2784, 'boll': 2785, 'pig': 2786, 'phillip': 2787, 'tribut': 2788, 'cruis': 2789, 'exercis': 2790, 'muppet': 2791, 'choreograph': 2792, 'layer': 2793, 'slip': 2794, '24': 2795, 'stan': 2796, 'scarecrow': 2797, 'editor': 2798, 'ward': 2799, 'fianc': 2800, 'puzzl': 2801, 'babe': 2802, 'ham': 2803, 'item': 2804, 'medium': 2805, 'document': 2806, 'toilet': 2807, 'file': 2808, 'korean': 2809, 'tower': 2810, 'superfici': 2811, 'persona': 2812, 'territori': 2813, 'librari': 2814, 'slaughter': 2815, 'portion': 2816, 'assur': 2817, 'inexplic': 2818, 'spark': 2819, 'minim': 2820, 'glover': 2821, 'larger': 2822, 'orient': 2823, 'denzel': 2824, 'catherin': 2825, 'philosoph': 2826, 'doc': 2827, 'transit': 2828, 'curti': 2829, 'dorothi': 2830, 'financi': 2831, 'boredom': 2832, 'pg': 2833, 'jet': 2834, 'shi': 2835, 'ban': 2836, 'sneak': 2837, 'walken': 2838, 'owe': 2839, 'wolf': 2840, 'jeremi': 2841, 'eleph': 2842, 'ambigu': 2843, 'multi': 2844, 'hudson': 2845, 'metaphor': 2846, 'backdrop': 2847, 'whale': 2848, 'profound': 2849, 'cusack': 2850, 'elsewher': 2851, '2005': 2852, 'rave': 2853, 'birthday': 2854, 'implaus': 2855, 'notion': 2856, 'stiff': 2857, 'viru': 2858, 'union': 2859, 'hack': 2860, 'ultra': 2861, 'gadget': 2862, 'poison': 2863, 'slight': 2864, 'squar': 2865, 'pad': 2866, 'afford': 2867, 'canada': 2868, 'superhero': 2869, 'bibl': 2870, 'distanc': 2871, 'reader': 2872, 'lloyd': 2873, 'urg': 2874, 'newspap': 2875, 'hawk': 2876, 'deriv': 2877, 'eastwood': 2878, '1st': 2879, 'eva': 2880, 'disc': 2881, 'button': 2882, 'montag': 2883, 'drown': 2884, 'essenc': 2885, 'sadist': 2886, 'spread': 2887, 'huh': 2888, 'charisma': 2889, 'heston': 2890, 'health': 2891, 'restaur': 2892, 'cure': 2893, 'skit': 2894, 'dealt': 2895, 'muslim': 2896, 'godfath': 2897, 'invest': 2898, 'companion': 2899, 'fetch': 2900, 'estat': 2901, 'peak': 2902, 'maniac': 2903, 'scoobi': 2904, 'gradual': 2905, 'lab': 2906, 'tea': 2907, 'gothic': 2908, 'kane': 2909, 'subtleti': 2910, 'countless': 2911, 'servant': 2912, 'cup': 2913, 'miik': 2914, 'ritter': 2915, 'alli': 2916, 'salli': 2917, 'briefli': 2918, 'heroic': 2919, 'electr': 2920, 'charismat': 2921, 'elect': 2922, 'iii': 2923, 'cole': 2924, 'toss': 2925, 'grandmoth': 2926, 'bud': 2927, 'resourc': 2928, 'tender': 2929, 'wannab': 2930, 'reel': 2931, 'admittedli': 2932, 'ingredi': 2933, 'nuanc': 2934, 'neil': 2935, 'shall': 2936, 'mild': 2937, 'pit': 2938, 'label': 2939, 'dawson': 2940, 'kubrick': 2941, 'stronger': 2942, 'reev': 2943, 'stood': 2944, 'mafia': 2945, 'poverti': 2946, 'carrey': 2947, 'punk': 2948, 'gate': 2949, 'pauli': 2950, 'astair': 2951, 'tag': 2952, 'assault': 2953, 'burst': 2954, 'terri': 2955, 'cardboard': 2956, 'smash': 2957, 'ian': 2958, 'outcom': 2959, 'easier': 2960, 'updat': 2961, 'useless': 2962, 'fond': 2963, 'smooth': 2964, 'cox': 2965, 'bakshi': 2966, 'coincid': 2967, 'exchang': 2968, 'samurai': 2969, 'vari': 2970, 'rex': 2971, 'vulner': 2972, 'qualifi': 2973, 'fist': 2974, 'increasingli': 2975, '2002': 2976, 'melodramat': 2977, 'sketch': 2978, 'resolv': 2979, 'divers': 2980, 'tame': 2981, 'insert': 2982, 'luckili': 2983, 'scratch': 2984, 'brillianc': 2985, 'blast': 2986, 'conveni': 2987, 'reynold': 2988, 'suspend': 2989, 'be': 2990, 'templ': 2991, 'ambiti': 2992, 'farm': 2993, 'hamilton': 2994, 'strictli': 2995, 'seventi': 2996, 'nuclear': 2997, 'gotta': 2998, 'coach': 2999, 'walker': 3000, 'soprano': 3001, 'matthew': 3002, 'meat': 3003, 'jami': 3004, 'pin': 3005, 'fisher': 3006, 'convolut': 3007, 'cave': 3008, 'clock': 3009, 'struck': 3010, 'butcher': 3011, 'spooki': 3012, 'grasp': 3013, 'timeless': 3014, 'monk': 3015, 'revers': 3016, 'worthless': 3017, 'eccentr': 3018, 'discoveri': 3019, 'ninja': 3020, 'brosnan': 3021, 'instantli': 3022, 'empir': 3023, 'kudo': 3024, 'joey': 3025, 'recreat': 3026, 'closet': 3027, 'wipe': 3028, 'inconsist': 3029, 'declar': 3030, 'cliff': 3031, 'evok': 3032, 'gray': 3033, 'communist': 3034, 'fifteen': 3035, 'sidekick': 3036, 'norman': 3037, 'importantli': 3038, 'mitchel': 3039, 'bleak': 3040, 'seller': 3041, 'clown': 3042, 'selfish': 3043, 'pal': 3044, 'partli': 3045, 'eighti': 3046, 'sloppi': 3047, 'miracl': 3048, 'seed': 3049, 'farc': 3050, 'enthusiast': 3051, 'piano': 3052, 'ho': 3053, 'psychiatrist': 3054, 'destin': 3055, 'aforement': 3056, 'flawless': 3057, 'australia': 3058, 'chew': 3059, 'lifestyl': 3060, 'websit': 3061, 'debat': 3062, '45': 3063, 'superbl': 3064, 'cheek': 3065, 'stoog': 3066, 'regardless': 3067, 'abc': 3068, 'soviet': 3069, 'dire': 3070, 'bash': 3071, 'kitchen': 3072, 'pressur': 3073, 'emili': 3074, 'drivel': 3075, 'directori': 3076, 'dash': 3077, 'slice': 3078, 'wick': 3079, 'splatter': 3080, 'wrestl': 3081, 'incompet': 3082, 'akshay': 3083, 'anni': 3084, 'glow': 3085, 'judi': 3086, 'artifici': 3087, 'increas': 3088, 'dave': 3089, 'boil': 3090, 'helicopt': 3091, 'jar': 3092, 'beaten': 3093, 'suppli': 3094, 'mann': 3095, 'cia': 3096, 'lou': 3097, 'flower': 3098, 'seduc': 3099, 'recov': 3100, 'pleasantli': 3101, 'cameron': 3102, 'prize': 3103, 'ken': 3104, 'curios': 3105, 'chapter': 3106, 'duo': 3107, 'blob': 3108, 'cagney': 3109, 'doo': 3110, 'distant': 3111, 'favour': 3112, 'panic': 3113, 'francisco': 3114, 'eleg': 3115, 'craven': 3116, 'goldberg': 3117, 'splendid': 3118, 'combat': 3119, 'psychot': 3120, 'craig': 3121, 'turner': 3122, 'perri': 3123, 'web': 3124, 'hop': 3125, 'ellen': 3126, 'laurel': 3127, 'drunken': 3128, 'ranger': 3129, 'glenn': 3130, 'graduat': 3131, 'alexand': 3132, 'philosophi': 3133, 'slightest': 3134, 'wizard': 3135, 'shortli': 3136, 'plausibl': 3137, 'ruth': 3138, '20th': 3139, 'flip': 3140, 'gentl': 3141, 'gandhi': 3142, 'hatr': 3143, 'fx': 3144, 'falk': 3145, 'min': 3146, 'rid': 3147, 'modesti': 3148, 'greek': 3149, 'ocean': 3150, 'jealou': 3151, 'we': 3152, 'preciou': 3153, 'lend': 3154, 'unpleas': 3155, 'knight': 3156, 'futurist': 3157, 'legal': 3158, 'dracula': 3159, 'manhattan': 3160, 'fund': 3161, 'holi': 3162, 'harm': 3163, 'tall': 3164, 'felix': 3165, 'reviv': 3166, 'mock': 3167, 'forbidden': 3168, 'tank': 3169, 'overdon': 3170, 'childish': 3171, 'scientif': 3172, 'bless': 3173, 'explicit': 3174, 'nod': 3175, 'digniti': 3176, 'giallo': 3177, 'thread': 3178, 'ami': 3179, 'unwatch': 3180, 'torment': 3181, 'broad': 3182, 'elderli': 3183, 'repeatedli': 3184, 'awe': 3185, 'nerv': 3186, 'thick': 3187, 'eve': 3188, '2004': 3189, 'yesterday': 3190, 'mel': 3191, 'fever': 3192, 'verhoeven': 3193, 'awaken': 3194, '99': 3195, 'margaret': 3196, 'pirat': 3197, 'lean': 3198, 'romero': 3199, 'ambit': 3200, 'publish': 3201, 'eas': 3202, 'bin': 3203, 'acclaim': 3204, 'roman': 3205, 'ah': 3206, 'politician': 3207, 'custom': 3208, 'launch': 3209, 'stiller': 3210, 'griffith': 3211, 'timothi': 3212, 'rivet': 3213, 'uniform': 3214, 'kay': 3215, 'automat': 3216, 'royal': 3217, 'absenc': 3218, 'antic': 3219, 'pulp': 3220, 'bathroom': 3221, 'warren': 3222, 'transport': 3223, 'wallac': 3224, 'darker': 3225, 'tomato': 3226, 'stinker': 3227, 'sunshin': 3228, 'purpl': 3229, 'pierc': 3230, 'homicid': 3231, 'foul': 3232, 'termin': 3233, 'phrase': 3234, 'gabriel': 3235, 'crook': 3236, 'evolv': 3237, 'packag': 3238, 'viciou': 3239, 'sixti': 3240, 'horrid': 3241, 'rambo': 3242, 'karen': 3243, 'hollow': 3244, 'eyr': 3245, 'coloni': 3246, 'awak': 3247, 'pray': 3248, 'album': 3249, 'li': 3250, 'revolutionari': 3251, 'q': 3252, 'contrari': 3253, 'brazil': 3254, 'prom': 3255, 'ought': 3256, 'kenneth': 3257, 'juvenil': 3258, '2003': 3259, 'choreographi': 3260, 'marin': 3261, 'saint': 3262, 'donna': 3263, 'boast': 3264, 'candid': 3265, 'option': 3266, 'beatti': 3267, 'twelv': 3268, 'ireland': 3269, 'blade': 3270, 'dose': 3271, 'defi': 3272, 'stole': 3273, 'nerd': 3274, 'mummi': 3275, 'ramon': 3276, 'mildr': 3277, 'overr': 3278, 'conserv': 3279, 'kapoor': 3280, 'collabor': 3281, 'trio': 3282, 'natali': 3283, 'global': 3284, 'astonish': 3285, 'detract': 3286, 'protest': 3287, 'confirm': 3288, 'funer': 3289, 'flame': 3290, 'kirk': 3291, 'jazz': 3292, 'altman': 3293, 'fulci': 3294, 'yellow': 3295, 'spit': 3296, 'whip': 3297, 'bottl': 3298, 'delici': 3299, 'blake': 3300, 'shade': 3301, 'tommi': 3302, 'nicholson': 3303, 'audio': 3304, 'leap': 3305, 'bull': 3306, 'mystic': 3307, 'racial': 3308, 'enterpris': 3309, 'destini': 3310, 'pseudo': 3311, 'reunit': 3312, 'swedish': 3313, 'visibl': 3314, 'altogeth': 3315, 'adolesc': 3316, 'fonda': 3317, 'popcorn': 3318, 'bedroom': 3319, 'meaningless': 3320, 'enchant': 3321, 'threw': 3322, 'harder': 3323, 'todd': 3324, 'merci': 3325, 'neo': 3326, 'vivid': 3327, 'staff': 3328, 'inherit': 3329, 'befriend': 3330, 'roommat': 3331, 'tip': 3332, 'reserv': 3333, 'ruthless': 3334, 'jew': 3335, 'atlanti': 3336, 'fanat': 3337, 'synopsi': 3338, 'respond': 3339, 'moodi': 3340, 'wire': 3341, 'edi': 3342, 'kennedi': 3343, 'decor': 3344, 'suspici': 3345, 'exhibit': 3346, 'lawrenc': 3347, 'uneven': 3348, 'crocodil': 3349, 'leonard': 3350, 'bust': 3351, 'await': 3352, 'voight': 3353, 'lemmon': 3354, 'madonna': 3355, 'audit': 3356, '2007': 3357, 'voyag': 3358, 'bargain': 3359, 'bradi': 3360, 'abysm': 3361, 'unsettl': 3362, 'chao': 3363, 'clumsi': 3364, 'garner': 3365, 'rural': 3366, 'centr': 3367, 'dimens': 3368, 'carl': 3369, 'ventur': 3370, 'clint': 3371, 'palma': 3372, 'incident': 3373, 'bold': 3374, 'holli': 3375, 'echo': 3376, 'elimin': 3377, 'acknowledg': 3378, 'humili': 3379, 'cari': 3380, 'mall': 3381, 'trail': 3382, 'nearbi': 3383, 'versu': 3384, 'immigr': 3385, 'imperson': 3386, 'hart': 3387, 'lit': 3388, 'wealth': 3389, 'daddi': 3390, 'troop': 3391, 'ant': 3392, 'cd': 3393, 'poetic': 3394, 'tiger': 3395, 'cuba': 3396, '2nd': 3397, 'neglect': 3398, 'timon': 3399, 'characterist': 3400, 'mistaken': 3401, 'solo': 3402, 'saga': 3403, 'paus': 3404, 'marshal': 3405, 'repuls': 3406, 'jeffrey': 3407, 'pun': 3408, 'infect': 3409, 'prejudic': 3410, 'collaps': 3411, 'domest': 3412, 'celluloid': 3413, 'homer': 3414, 'mickey': 3415, 'ginger': 3416, 'promin': 3417, 'leon': 3418, 'sore': 3419, 'inan': 3420, 'equip': 3421, 'tribe': 3422, 'hbo': 3423, 'harvey': 3424, '1996': 3425, 'chest': 3426, 'cake': 3427, 'inappropri': 3428, 'apolog': 3429, 'gear': 3430, 'interrupt': 3431, 'coffe': 3432, 'undoubtedli': 3433, 'olivi': 3434, 'assembl': 3435, 'coat': 3436, 'milk': 3437, 'pant': 3438, 'maggi': 3439, 'trace': 3440, 'exot': 3441, 'pot': 3442, 'colonel': 3443, 'vulgar': 3444, 'florida': 3445, 'institut': 3446, 'airplan': 3447, 'consum': 3448, 'colleagu': 3449, 'pen': 3450, 'primari': 3451, 'retain': 3452, 'aveng': 3453, 'highest': 3454, 'embrac': 3455, 'humbl': 3456, 'furthermor': 3457, 'brooklyn': 3458, 'devast': 3459, 'jenni': 3460, 'solut': 3461, 'instant': 3462, 'polanski': 3463, 'disabl': 3464, 'cope': 3465, 'ya': 3466, 'outer': 3467, 'gender': 3468, 'godzilla': 3469, 'sale': 3470, 'illog': 3471, 'poke': 3472, '1999': 3473, '3rd': 3474, 'linda': 3475, 'smaller': 3476, 'wive': 3477, 'strain': 3478, 'descend': 3479, 'seduct': 3480, 'dutch': 3481, 'bowl': 3482, 'dian': 3483, 'rick': 3484, 'principl': 3485, 'blatant': 3486, 'gundam': 3487, 'beneath': 3488, 'mixtur': 3489, 'primarili': 3490, 'dud': 3491, 'predecessor': 3492, 'secondli': 3493, 'vast': 3494, 'cue': 3495, 'bubbl': 3496, 'gloriou': 3497, 'dive': 3498, 'devoid': 3499, 'lol': 3500, 'yard': 3501, 'hal': 3502, 'scope': 3503, 'glamor': 3504, 'inferior': 3505, 'rabbit': 3506, 'shelf': 3507, 'museum': 3508, 'alfr': 3509, 'shirley': 3510, 'hideou': 3511, 'et': 3512, 'invas': 3513, 'talki': 3514, 'countrysid': 3515, 'z': 3516, 'streep': 3517, 'pearl': 3518, 'aggress': 3519, 'casual': 3520, 'breed': 3521, 'grinch': 3522, 'simplist': 3523, 'april': 3524, 'senseless': 3525, 'myer': 3526, 'arab': 3527, 'trademark': 3528, 'alert': 3529, 'disjoint': 3530, 'domino': 3531, 'garbo': 3532, 'maci': 3533, 'defens': 3534, 'stir': 3535, 'rendit': 3536, 'unhappi': 3537, 'robinson': 3538, 'hardcor': 3539, 'loyal': 3540, 'stack': 3541, 'vanish': 3542, 'oz': 3543, 'sh': 3544, 'acid': 3545, 'obtain': 3546, 'illeg': 3547, 'uwe': 3548, 'boom': 3549, 'slide': 3550, 'experiment': 3551, 'disgrac': 3552, 'robberi': 3553, 'mail': 3554, 'stellar': 3555, 'applaud': 3556, 'hopeless': 3557, 'khan': 3558, 'mayor': 3559, 'tempt': 3560, 'berlin': 3561, 'fri': 3562, 'diana': 3563, 'dismiss': 3564, 'spider': 3565, 'incomprehens': 3566, 'tenant': 3567, 'topless': 3568, 'blew': 3569, 'craze': 3570, 'soccer': 3571, 'grandfath': 3572, 'rifl': 3573, 'wont': 3574, 'span': 3575, 'declin': 3576, 'amanda': 3577, 'hartley': 3578, 'psychic': 3579, 'counter': 3580, 'dicken': 3581, 'scroog': 3582, 'recruit': 3583, 'emphasi': 3584, 'woo': 3585, 'wet': 3586, 'faster': 3587, 'sympath': 3588, 'revolt': 3589, 'niro': 3590, 'shed': 3591, 'parad': 3592, 'shaw': 3593, 'ethnic': 3594, 'justin': 3595, 'resurrect': 3596, 'sibl': 3597, 'goer': 3598, 'porno': 3599, 'ration': 3600, 'trashi': 3601, 'lumet': 3602, 'intim': 3603, 'bitch': 3604, 'riot': 3605, 'choru': 3606, 'partial': 3607, 'feminist': 3608, 'jonathan': 3609, 'wendi': 3610, 'steam': 3611, 'ensur': 3612, 'eager': 3613, 'mario': 3614, 'wheel': 3615, 'andr': 3616, 'dealer': 3617, 'nephew': 3618, 'immort': 3619, 'patriot': 3620, 'ballet': 3621, 'biographi': 3622, 'worm': 3623, '00': 3624, 'gap': 3625, 'farmer': 3626, 'lena': 3627, 'commend': 3628, 'region': 3629, 'unreal': 3630, 'honesti': 3631, 'weakest': 3632, 'slick': 3633, 'hesit': 3634, 'enlighten': 3635, 'rider': 3636, 'hopper': 3637, 'snap': 3638, 'util': 3639, 'vice': 3640, 'mutant': 3641, 'nostalg': 3642, 'wore': 3643, 'charlott': 3644, 'morri': 3645, 'prequel': 3646, 'psychopath': 3647, 'franco': 3648, 'safeti': 3649, 'sappi': 3650, 'owen': 3651, 'similarli': 3652, 'hung': 3653, 'skull': 3654, 'repress': 3655, 'confin': 3656, 'composit': 3657, 'victori': 3658, 'properti': 3659, 'kingdom': 3660, 'leo': 3661, 'blunt': 3662, 'sandra': 3663, 'macarthur': 3664, 'campbel': 3665, 'drain': 3666, 'strand': 3667, 'whoopi': 3668, 'nervou': 3669, 'exit': 3670, 'rambl': 3671, 'repli': 3672, 'dust': 3673, 'rocki': 3674, 'latin': 3675, 'cg': 3676, 'compens': 3677, 'valuabl': 3678, 'despair': 3679, '1972': 3680, 'drum': 3681, 'bow': 3682, 'recycl': 3683, 'del': 3684, 'rope': 3685, 'farrel': 3686, 'bonu': 3687, 'hyde': 3688, 'compass': 3689, 'emperor': 3690, 'dalton': 3691, 'bergman': 3692, 'thru': 3693, 'tail': 3694, 'miseri': 3695, 'snl': 3696, 'montana': 3697, 'tad': 3698, 'acquir': 3699, 'speci': 3700, 'heartbreak': 3701, 'bumbl': 3702, 'kyle': 3703, 'deed': 3704, 'pattern': 3705, 'pour': 3706, 'romp': 3707, '35': 3708, 'bleed': 3709, 'martian': 3710, 'gimmick': 3711, 'orson': 3712, 'tonight': 3713, 'contempl': 3714, 'downhil': 3715, 'mistress': 3716, 'chess': 3717, 'percept': 3718, 'carradin': 3719, 'gal': 3720, 'airport': 3721, 'wacki': 3722, 'radic': 3723, 'rapist': 3724, 'da': 3725, 'oppress': 3726, 'rotten': 3727, 'slug': 3728, 'roth': 3729, 'olli': 3730, 'champion': 3731, 'shelley': 3732, '1983': 3733, 'heal': 3734, 'arguabl': 3735, 'unpredict': 3736, 'mislead': 3737, 'edgar': 3738, 'tackl': 3739, 'belt': 3740, 'paltrow': 3741, 'banal': 3742, 'arc': 3743, 'pursuit': 3744, 'stilt': 3745, 'pervers': 3746, 'attorney': 3747, 'preach': 3748, 'dazzl': 3749, 'taught': 3750, 'melodi': 3751, 'programm': 3752, 'pervert': 3753, 'tooth': 3754, 'slash': 3755, 'uplift': 3756, 'plight': 3757, 'conneri': 3758, 'rubi': 3759, 'dixon': 3760, 'chicken': 3761, 'passeng': 3762, 'closest': 3763, 'employe': 3764, 'duval': 3765, 'mesmer': 3766, 'raymond': 3767, 'vocal': 3768, 'poem': 3769, 'bela': 3770, 'maid': 3771, 'tiresom': 3772, 'virginia': 3773, 'sensat': 3774, 'orang': 3775, 'gambl': 3776, 'vengeanc': 3777, 'graham': 3778, 'cleverli': 3779, 'marti': 3780, 'franki': 3781, 'calm': 3782, 'yawn': 3783, 'tube': 3784, 'giggl': 3785, 'clone': 3786, 'volum': 3787, 'scottish': 3788, 'suffic': 3789, 'pokemon': 3790, 'inject': 3791, 'swallow': 3792, 'numb': 3793, 'profan': 3794, 'paranoia': 3795, 'whine': 3796, 'outing': 3797, 'habit': 3798, 'abraham': 3799, 'engross': 3800, 'quarter': 3801, '1968': 3802, 'amitabh': 3803, 'bay': 3804, 'mute': 3805, 'crystal': 3806, 'climact': 3807, 'secretli': 3808, 'sirk': 3809, 'monologu': 3810, 'extens': 3811, 'gerard': 3812, 'iran': 3813, 'convincingli': 3814, 'lundgren': 3815, 'fed': 3816, 'earl': 3817, 'backward': 3818, 'nichola': 3819, 'franci': 3820, 'grotesqu': 3821, 'plod': 3822, 'chicago': 3823, 'lowest': 3824, 'frankenstein': 3825, 'meander': 3826, 'expand': 3827, 'junior': 3828, 'trend': 3829, 'dispos': 3830, 'profess': 3831, 'bend': 3832, 'abort': 3833, 'linger': 3834, 'ethan': 3835, 'im': 3836, 'austen': 3837, 'surpass': 3838, 'septemb': 3839, 'poetri': 3840, 'taxi': 3841, 'underst': 3842, 'spock': 3843, 'richardson': 3844, 'catchi': 3845, 'lure': 3846, 'descent': 3847, 'compliment': 3848, 'mundan': 3849, 'rubber': 3850, 'myth': 3851, 'instrument': 3852, 'dysfunct': 3853, 'nostalgia': 3854, 'sue': 3855, 'rant': 3856, 'spoke': 3857, 'simplic': 3858, 'muddl': 3859, 'greedi': 3860, 'cannon': 3861, 'household': 3862, 'waitress': 3863, 'literatur': 3864, 'tourist': 3865, 'eugen': 3866, 'econom': 3867, 'hum': 3868, 'stallon': 3869, 'der': 3870, 'molli': 3871, 'deaf': 3872, 'damon': 3873, 'mortal': 3874, 'equival': 3875, 'stale': 3876, 'phantom': 3877, 'flee': 3878, 'recognis': 3879, 'eaten': 3880, 'occupi': 3881, 'lang': 3882, 'dement': 3883, 'mankind': 3884, 'furi': 3885, 'irrelev': 3886, 'firstli': 3887, 'louis': 3888, 'crucial': 3889, 'omen': 3890, 'duck': 3891, 'coast': 3892, 'sissi': 3893, 'insur': 3894, 'alongsid': 3895, 'phoni': 3896, 'hello': 3897, 'carel': 3898, 'dictat': 3899, 'map': 3900, 'bacal': 3901, 'randi': 3902, 'june': 3903, 'recognit': 3904, 'cent': 3905, 'likewis': 3906, 'freez': 3907, 'rude': 3908, 'grayson': 3909, 'distinguish': 3910, 'cyborg': 3911, 'twilight': 3912, '1973': 3913, 'blackmail': 3914, 'rooney': 3915, 'loyalti': 3916, 'lengthi': 3917, 'heel': 3918, 'bike': 3919, 'drake': 3920, 'ashley': 3921, 'daisi': 3922, 'wisdom': 3923, 'reign': 3924, 'damm': 3925, 'onlin': 3926, 'newli': 3927, 'dreari': 3928, 'bump': 3929, 'biko': 3930, 'labor': 3931, 'buffalo': 3932, 'antwon': 3933, 'sailor': 3934, 'worn': 3935, 'exposur': 3936, 'pink': 3937, 'startl': 3938, 'provoc': 3939, 'baddi': 3940, 'prey': 3941, 'basketbal': 3942, 'analysi': 3943, 'keith': 3944, 'emphas': 3945, 'proce': 3946, 'ridden': 3947, 'unorigin': 3948, 'vein': 3949, 'boxer': 3950, 'attribut': 3951, 'tunnel': 3952, 'approv': 3953, 'nineti': 3954, 'incorpor': 3955, 'inher': 3956, 'chronicl': 3957, 'interior': 3958, 'butler': 3959, 'barrymor': 3960, 'fleet': 3961, 'substitut': 3962, 'undeni': 3963, 'drift': 3964, 'hypnot': 3965, 'meyer': 3966, 'indiffer': 3967, 'underli': 3968, 'degrad': 3969, 'mormon': 3970, 'stalker': 3971, 'barrel': 3972, 'er': 3973, 'improvis': 3974, 'othello': 3975, 'condemn': 3976, 'unrel': 3977, 'robbin': 3978, 'millionair': 3979, 'belushi': 3980, 'walsh': 3981, 'elm': 3982, 'simmon': 3983, 'julian': 3984, 'bunni': 3985, 'nicol': 3986, 'predat': 3987, 'meg': 3988, 'mighti': 3989, 'carla': 3990, 'greed': 3991, 'reid': 3992, 'exquisit': 3993, 'hay': 3994, 'shove': 3995, 'edgi': 3996, 'watson': 3997, 'palac': 3998, 'disord': 3999, 'alarm': 4000, 'enthusiasm': 4001, 'lampoon': 4002, 'vital': 4003, 'firm': 4004, 'mtv': 4005, 'roof': 4006, 'nyc': 4007, 'warmth': 4008, 'marion': 4009, '3d': 4010, 'unawar': 4011, 'alison': 4012, 'dolph': 4013, 'priceless': 4014, 'novak': 4015, 'rukh': 4016, 'errol': 4017, 'agenda': 4018, 'thompson': 4019, 'gestur': 4020, 'what': 4021, 'showdown': 4022, 'minimum': 4023, 'testament': 4024, 'peril': 4025, 'israel': 4026, 'spain': 4027, 'unleash': 4028, 'profit': 4029, 'angela': 4030, '13th': 4031, 'ponder': 4032, 'crown': 4033, 'campaign': 4034, 'drip': 4035, 'cassidi': 4036, 'coup': 4037, 'session': 4038, 'glanc': 4039, 'peck': 4040, 'randomli': 4041, 'sergeant': 4042, 'eastern': 4043, 'simultan': 4044, 'petti': 4045, 'iraq': 4046, 'orlean': 4047, 'nun': 4048, 'distort': 4049, 'beatl': 4050, 'championship': 4051, '1933': 4052, 'zizek': 4053, 'pamela': 4054, 'valentin': 4055, 'preserv': 4056, 'calib': 4057, 'wig': 4058, 'cream': 4059, 'crawl': 4060, 'exposit': 4061, 'empathi': 4062, 'valley': 4063, 'buster': 4064, 'perpetu': 4065, 'bro': 4066, 'regist': 4067, 'represent': 4068, 'rout': 4069, 'shootout': 4070, '1984': 4071, 'contradict': 4072, 'brenda': 4073, 'travesti': 4074, 'fido': 4075, 'unimagin': 4076, 'reson': 4077, 'jan': 4078, 'han': 4079, 'realm': 4080, 'restrain': 4081, 'stroke': 4082, 'quinn': 4083, 'crow': 4084, 'miyazaki': 4085, 'climat': 4086, 'stake': 4087, 'sabrina': 4088, 'cooki': 4089, 'kurosawa': 4090, 'scotland': 4091, 'mon': 4092, 'din': 4093, 'gentleman': 4094, 'traumat': 4095, 'geek': 4096, 'ustinov': 4097, 'passabl': 4098, 'soderbergh': 4099, 'femm': 4100, 'pole': 4101, '1997': 4102, 'absent': 4103, 'sammi': 4104, 'perceiv': 4105, 'ross': 4106, 'derang': 4107, 'shaki': 4108, 'monoton': 4109, 'demis': 4110, 'shoddi': 4111, 'unsatisfi': 4112, 'abomin': 4113, 'fuller': 4114, 'unseen': 4115, 'cloud': 4116, 'censor': 4117, 'compromis': 4118, 'baldwin': 4119, 'meryl': 4120, 'crawford': 4121, 'delic': 4122, 'josh': 4123, 'tacki': 4124, 'painter': 4125, 'mclaglen': 4126, 'warrant': 4127, 'sucker': 4128, 'spacey': 4129, 'darren': 4130, 'wax': 4131, 'pretens': 4132, 'businessman': 4133, '1987': 4134, 'distress': 4135, 'greg': 4136, 'dana': 4137, 'stargat': 4138, 'clash': 4139, 'verbal': 4140, 'anchor': 4141, 'reluct': 4142, 'dee': 4143, 'valid': 4144, 'furiou': 4145, 'seal': 4146, 'uncov': 4147, 'nathan': 4148, 'tech': 4149, 'unravel': 4150, 'expedit': 4151, 'polici': 4152, 'norm': 4153, 'judgment': 4154, 'tarantino': 4155, 'correctli': 4156, 'kumar': 4157, 'click': 4158, 'deceas': 4159, 'jewel': 4160, 'exclus': 4161, 'fog': 4162, 'fenc': 4163, 'austin': 4164, 'primit': 4165, 'accuraci': 4166, 'wholli': 4167, 'antonioni': 4168, '1993': 4169, 'deniro': 4170, 'sid': 4171, 'bake': 4172, 'seldom': 4173, 'roller': 4174, '1971': 4175, 'darn': 4176, 'unfair': 4177, 'ritual': 4178, '3000': 4179, 'trait': 4180, 'crippl': 4181, 'conduct': 4182, 'behold': 4183, 'debt': 4184, 'mode': 4185, 'temper': 4186, '2008': 4187, 'wretch': 4188, 'tax': 4189, 'patienc': 4190, 'sheet': 4191, 'clerk': 4192, 'shanghai': 4193, 'sunni': 4194, 'alec': 4195, 'fought': 4196, 'sand': 4197, 'wang': 4198, 'fart': 4199, 'joel': 4200, 'fabric': 4201, 'enforc': 4202, 'murray': 4203, '1995': 4204, 'dreck': 4205, 'sustain': 4206, 'slam': 4207, 'malon': 4208, 'hallucin': 4209, 'pocket': 4210, 'vanc': 4211, 'logan': 4212, 'nicola': 4213, 'clau': 4214, 'helpless': 4215, 'guitar': 4216, 'scriptwrit': 4217, 'critiqu': 4218, 'preposter': 4219, 'rita': 4220, 'technicolor': 4221, 'penni': 4222, 'legaci': 4223, 'shell': 4224, 'stuart': 4225, 'bias': 4226, 'canyon': 4227, 'fundament': 4228, 'grief': 4229, 'robber': 4230, 'phil': 4231, 'outlin': 4232, 'runner': 4233, 'isabel': 4234, 'stark': 4235, 'schedul': 4236, 'exhaust': 4237, 'despis': 4238, 'conscious': 4239, 'sweep': 4240, 'pete': 4241, 'tactic': 4242, 'soup': 4243, 'preston': 4244, 'squad': 4245, 'divid': 4246, 'bridget': 4247, 'propos': 4248, 'lacklust': 4249, 'sugar': 4250, 'culmin': 4251, 'kansa': 4252, 'downey': 4253, 'connor': 4254, 'invad': 4255, 'vomit': 4256, 'rehash': 4257, 'delv': 4258, 'jacket': 4259, 'boyl': 4260, 'palanc': 4261, 'bloom': 4262, 'newman': 4263, 'russia': 4264, 'implic': 4265, 'alley': 4266, 'jodi': 4267, 'inabl': 4268, 'passag': 4269, 'cigarett': 4270, 'unexpectedli': 4271, 'restrict': 4272, 'alicia': 4273, 'marc': 4274, 'consciou': 4275, 'agenc': 4276, 'gregori': 4277, 'drove': 4278, 'liberti': 4279, 'rear': 4280, 'sniper': 4281, 'flair': 4282, 'sentinel': 4283, '1936': 4284, 'karl': 4285, 'behaviour': 4286, 'chainsaw': 4287, 'wrench': 4288, 'ladder': 4289, 'awhil': 4290, 'yeti': 4291, 'rehears': 4292, 'cap': 4293, 'improb': 4294, 'arrow': 4295, 'aesthet': 4296, 'bacon': 4297, '22': 4298, 'tripe': 4299, 'delet': 4300, 'asylum': 4301, 'foxx': 4302, 'vet': 4303, 'rod': 4304, 'feat': 4305, 'rampag': 4306, 'tendenc': 4307, 'sharon': 4308, 'lush': 4309, 'horn': 4310, 'pale': 4311, 'kolchak': 4312, 'mccoy': 4313, 'globe': 4314, '1920': 4315, 'coaster': 4316, 'fright': 4317, 'wildli': 4318, 'underneath': 4319, 'thunderbird': 4320, 'tomorrow': 4321, 'elit': 4322, 'visitor': 4323, 'shortcom': 4324, 'lurk': 4325, 'scoop': 4326, 'hulk': 4327, 'tasteless': 4328, 'loneli': 4329, 'filler': 4330, 'el': 4331, 'suspicion': 4332, 'aristocrat': 4333, 'prank': 4334, 'basing': 4335, '1978': 4336, 'suffici': 4337, 'stream': 4338, 'newcom': 4339, 'rumor': 4340, 'paradis': 4341, 'sung': 4342, '1988': 4343, 'amazon': 4344, 'weav': 4345, 'rhythm': 4346, '19th': 4347, 'spice': 4348, 'conscienc': 4349, 'hungri': 4350, 'hackney': 4351, 'paramount': 4352, 'minu': 4353, 'financ': 4354, 'wagner': 4355, 'couch': 4356, 'heist': 4357, 'cancer': 4358, 'standout': 4359, '1939': 4360, 'leigh': 4361, 'counterpart': 4362, 'paxton': 4363, 'ingeni': 4364, 'beverli': 4365, 'dirt': 4366, '75': 4367, 'recogniz': 4368, 'teas': 4369, 'abrupt': 4370, 'worship': 4371, 'en': 4372, 'minist': 4373, 'brit': 4374, 'smell': 4375, 'grudg': 4376, 'rub': 4377, 'quietli': 4378, 'chavez': 4379, 'curli': 4380, 'bread': 4381, 'literari': 4382, 'penn': 4383, 'posey': 4384, 'impos': 4385, 'entranc': 4386, 'iv': 4387, 'choppi': 4388, 'secondari': 4389, 'inmat': 4390, 'atroc': 4391, 'immers': 4392, 'straightforward': 4393, 'hopkin': 4394, 'naughti': 4395, '1989': 4396, 'chamberlain': 4397, 'springer': 4398, 'lectur': 4399, 'wwe': 4400, 'ram': 4401, 'tierney': 4402, '1986': 4403, 'variat': 4404, 'enthral': 4405, 'laurenc': 4406, 'transcend': 4407, 'morbid': 4408, 'nemesi': 4409, 'entitl': 4410, 'policeman': 4411, 'cattl': 4412, 'watcher': 4413, 'esther': 4414, 'convert': 4415, 'attenborough': 4416, 'net': 4417, 'quaid': 4418, 'sublim': 4419, 'skeptic': 4420, 'moreov': 4421, 'sassi': 4422, 'ace': 4423, 'heartfelt': 4424, 'duel': 4425, 'clan': 4426, 'injuri': 4427, 'ratso': 4428, 'lindsay': 4429, 'misguid': 4430, 'missil': 4431, 'bernard': 4432, 'yearn': 4433, 'nolan': 4434, 'geni': 4435, 'cruelti': 4436, 'setup': 4437, 'kitti': 4438, 'tyler': 4439, 'hopelessli': 4440, 'moder': 4441, 'poe': 4442, 'diari': 4443, 'egg': 4444, 'spiral': 4445, 'uncut': 4446, 'reliabl': 4447, '1979': 4448, 'vader': 4449, 'brood': 4450, 'puppi': 4451, 'out': 4452, 'youngest': 4453, 'rosemari': 4454, 'buzz': 4455, 'grin': 4456, 'unexplain': 4457, 'bean': 4458, 'bye': 4459, 'mytholog': 4460, 'characteris': 4461, 'artsi': 4462, 'dont': 4463, 'obstacl': 4464, 'steadi': 4465, 'hk': 4466, 'enabl': 4467, 'facil': 4468, 'graini': 4469, 'kidman': 4470, 'carlito': 4471, 'underworld': 4472, 'decept': 4473, 'hammi': 4474, '1969': 4475, 'oblig': 4476, 'fuel': 4477, 'martha': 4478, 'gillian': 4479, 'bronson': 4480, 'bewar': 4481, 'bounc': 4482, 'niec': 4483, 'clueless': 4484, 'sweat': 4485, 'athlet': 4486, 'despic': 4487, 'christin': 4488, 'disastr': 4489, 'weather': 4490, 'acquaint': 4491, 'kline': 4492, 'effici': 4493, 'patricia': 4494, 'heap': 4495, 'spontan': 4496, 'gina': 4497, 'exterior': 4498, 'brendan': 4499, 'narrow': 4500, 'hain': 4501, 'baffl': 4502, 'preming': 4503, 'angst': 4504, 'virtu': 4505, 'mermaid': 4506, 'mayhem': 4507, 'rome': 4508, '19': 4509, 'uh': 4510, '73': 4511, 'candl': 4512, 'dilemma': 4513, 'outlaw': 4514, 'circu': 4515, 'headach': 4516, 'analyz': 4517, 'fontain': 4518, 'shatter': 4519, 'biker': 4520, 'astound': 4521, 'harmless': 4522, 'tick': 4523, 'insipid': 4524, 'sleepwalk': 4525, 'suprem': 4526, 'sooner': 4527, 'preachi': 4528, 'taboo': 4529, 'hepburn': 4530, 'enlist': 4531, 'goof': 4532, 'renaiss': 4533, 'housewif': 4534, 'loath': 4535, 'lester': 4536, 'trigger': 4537, 'injur': 4538, 'scar': 4539, 'dandi': 4540, 'loi': 4541, 'viewpoint': 4542, 'claustrophob': 4543, 'macho': 4544, 'tripl': 4545, 'foolish': 4546, 'steer': 4547, 'dish': 4548, 'redund': 4549, 'stimul': 4550, 'filth': 4551, 'oldest': 4552, 'surgeri': 4553, 'boston': 4554, 'sox': 4555, 'camcord': 4556, 'guin': 4557, 'idol': 4558, 'whore': 4559, 'stair': 4560, 'contempt': 4561, 'salt': 4562, 'ebert': 4563, 'slimi': 4564, 'amor': 4565, 'dismal': 4566, 'intric': 4567, 'phenomenon': 4568, 'glorifi': 4569, 'immatur': 4570, 'hostag': 4571, 'bent': 4572, 'cassavet': 4573, 'scorses': 4574, 'overlong': 4575, 'gere': 4576, 'zoom': 4577, 'hooker': 4578, 'hokey': 4579, 'fluff': 4580, 'spade': 4581, 'ariel': 4582, 'corbett': 4583, 'muscl': 4584, 'antagonist': 4585, 'remad': 4586, 'faint': 4587, 'radiat': 4588, 'flag': 4589, 'conquer': 4590, 'zane': 4591, 'harold': 4592, 'fascist': 4593, 'nolt': 4594, 'trivia': 4595, 'shield': 4596, 'widescreen': 4597, 'preced': 4598, 'cow': 4599, 'proport': 4600, 'perman': 4601, 'schlock': 4602, 'beard': 4603, 'assert': 4604, 'naschi': 4605, 'alvin': 4606, '1981': 4607, 'mutual': 4608, 'gasp': 4609, 'flirt': 4610, 'spinal': 4611, 'strongest': 4612, 'cush': 4613, 'cohen': 4614, 'margin': 4615, '1976': 4616, 'transplant': 4617, 'obligatori': 4618, 'spree': 4619, 'rhyme': 4620, 'corman': 4621, 'gabl': 4622, 'down': 4623, 'astronaut': 4624, 'flashi': 4625, 'shred': 4626, 'mount': 4627, 'messi': 4628, 'keen': 4629, 'dwarf': 4630, 'frantic': 4631, 'joker': 4632, '1945': 4633, 'persuad': 4634, 'archiv': 4635, 'inflict': 4636, 'wield': 4637, 'fishburn': 4638, 'strive': 4639, 'hara': 4640, '28': 4641, 'repris': 4642, '95': 4643, 'discern': 4644, 'deer': 4645, 'boob': 4646, 'flock': 4647, 'someday': 4648, 'bitten': 4649, 'instruct': 4650, 'www': 4651, 'barn': 4652, 'raj': 4653, 'carey': 4654, 'off': 4655, 'scandal': 4656, 'vaniti': 4657, 'neurot': 4658, 'triangl': 4659, 'divin': 4660, 'info': 4661, 'brush': 4662, 'danish': 4663, 'bachelor': 4664, 'claud': 4665, 'sensual': 4666, 'departur': 4667, 'aborigin': 4668, 'mobil': 4669, 'interestingli': 4670, 'ritchi': 4671, 'resum': 4672, 'mol': 4673, 'kathryn': 4674, 'pacif': 4675, 'proclaim': 4676, 'cycl': 4677, 'undermin': 4678, 'recit': 4679, 'heartwarm': 4680, 'hug': 4681, 'rot': 4682, 'cb': 4683, 'carlo': 4684, 'ish': 4685, 'artwork': 4686, 'biblic': 4687, 'mobster': 4688, 'pixar': 4689, 'axe': 4690, 'parson': 4691, 'dylan': 4692, 'hapless': 4693, 'colin': 4694, 'dame': 4695, 'hilar': 4696, 'fragil': 4697, 'clad': 4698, 'helm': 4699, 'bate': 4700, 'frontier': 4701, 'traffic': 4702, 'casino': 4703, 'miracul': 4704, 'submit': 4705, 'cliffhang': 4706, 'dim': 4707, 'harrison': 4708, 'senior': 4709, 'jade': 4710, 'anton': 4711, 'luka': 4712, 'banter': 4713, 'timberlak': 4714, 'melissa': 4715, 'prophet': 4716, 'cher': 4717, 'earnest': 4718, 'neill': 4719, 'vibrant': 4720, 'loretta': 4721, 'wendigo': 4722, 'pickford': 4723, 'europa': 4724, 'estrang': 4725, 'vanessa': 4726, 'holocaust': 4727, 'uma': 4728, 'orphan': 4729, 'mason': 4730, 'antholog': 4731, 'token': 4732, 'northern': 4733, 'blatantli': 4734, 'wardrob': 4735, 'nope': 4736, 'electron': 4737, 'jo': 4738, 'jordan': 4739, 'http': 4740, 'aris': 4741, 'redneck': 4742, 'misfortun': 4743, 'seedi': 4744, 'pc': 4745, 'lucil': 4746, 'bikini': 4747, 'illus': 4748, 'vile': 4749, 'alexandr': 4750, 'akin': 4751, 'static': 4752, 'articl': 4753, 'foil': 4754, 'marlon': 4755, 'shepherd': 4756, 'bondag': 4757, 'choke': 4758, 'feast': 4759, 'breakfast': 4760, 'razor': 4761, 'legitim': 4762, 'winchest': 4763, 'trier': 4764, 'cerebr': 4765, 'flavor': 4766, 'toronto': 4767, 'eli': 4768, 'venom': 4769, 'lui': 4770, 'milo': 4771, 'sicken': 4772, 'isra': 4773, 'rooki': 4774, 'mathieu': 4775, 'fifth': 4776, 'retriev': 4777, 'clinic': 4778, 'linear': 4779, 'oppon': 4780, 'boyer': 4781, 'charlton': 4782, 'glare': 4783, 'turd': 4784, 'howl': 4785, 'abund': 4786, 'huston': 4787, 'smack': 4788, 'styliz': 4789, 'ceremoni': 4790, 'peer': 4791, 'wrestler': 4792, 'ideolog': 4793, 'tack': 4794, 'dudley': 4795, 'gilbert': 4796, 'outdat': 4797, 'disregard': 4798, 'magician': 4799, 'comprehend': 4800, 'frog': 4801, 'deem': 4802, 'nightclub': 4803, 'shorter': 4804, 'cartoonish': 4805, 'leather': 4806, 'psych': 4807, 'highway': 4808, 'audrey': 4809, 'affleck': 4810, 'knightley': 4811, 'feminin': 4812, 'swept': 4813, 'gunga': 4814, 'snatch': 4815, 'summar': 4816, 'compris': 4817, 'lighter': 4818, 'corn': 4819, '4th': 4820, 'energet': 4821, 'deliver': 4822, 'sleaz': 4823, 'tara': 4824, 'plate': 4825, 'spawn': 4826, 'conrad': 4827, 'evolut': 4828, 'chip': 4829, 'greet': 4830, 'cuban': 4831, 'uniformli': 4832, 'client': 4833, '1994': 4834, 'collector': 4835, 'monument': 4836, 'cemeteri': 4837, 'bastard': 4838, 'whack': 4839, 'btw': 4840, 'lifeless': 4841, '1991': 4842, 'phenomen': 4843, 'toe': 4844, 'newer': 4845, 'durat': 4846, 'spine': 4847, 'mitch': 4848, 'boo': 4849, 'bogu': 4850, 'breakdown': 4851, 'potter': 4852, 'goldsworthi': 4853, 'senat': 4854, 'braveheart': 4855, 'salman': 4856, 'moe': 4857, 'lavish': 4858, 'einstein': 4859, 'randolph': 4860, 'ol': 4861, 'eleven': 4862, 'sorrow': 4863, '1974': 4864, 'armstrong': 4865, 'fluid': 4866, 'inaccuraci': 4867, 'bulk': 4868, 'pronounc': 4869, 'ie': 4870, 'bori': 4871, 'jam': 4872, 'embark': 4873, 'signal': 4874, 'wtf': 4875, 'lex': 4876, 'creek': 4877, 'constitut': 4878, 'outright': 4879, 'capot': 4880, 'neatli': 4881, 'undead': 4882, 'gilliam': 4883, 'liu': 4884, 'firmli': 4885, 'jedi': 4886, 'mcqueen': 4887, 'replay': 4888, 'appl': 4889, '1977': 4890, 'evelyn': 4891, 'luxuri': 4892, 'trauma': 4893, 'historian': 4894, 'healthi': 4895, 'belli': 4896, 'occup': 4897, 'jare': 4898, 'jule': 4899, 'judd': 4900, 'nina': 4901, 'spectacl': 4902, 'alleg': 4903, 'kent': 4904, 'clara': 4905, 'undertak': 4906, 'cecil': 4907, 'kazan': 4908, 'knee': 4909, 'cape': 4910, 'spray': 4911, 'pioneer': 4912, 'roar': 4913, 'tokyo': 4914, 'comb': 4915, 'kiddi': 4916, 'sacrif': 4917, 'miami': 4918, 'decapit': 4919, 'subtli': 4920, 'lanc': 4921, 'unsuspect': 4922, 'inclus': 4923, 'fruit': 4924, 'carmen': 4925, 'truman': 4926, 'vignett': 4927, 'ash': 4928, 'porter': 4929, 'conan': 4930, 'antonio': 4931, 'groan': 4932, 'propheci': 4933, 'forgiven': 4934, 'aussi': 4935, 'curtain': 4936, 'palm': 4937, 'inaccur': 4938, 'unattract': 4939, 'poker': 4940, 'comprehens': 4941, 'miniseri': 4942, 'vain': 4943, 'blur': 4944, 'relentless': 4945, 'mum': 4946, 'congratul': 4947, 'genet': 4948, 'goldblum': 4949, 'id': 4950, 'bait': 4951, 'meal': 4952, 'lauren': 4953, '1985': 4954, 'sidewalk': 4955, 'paula': 4956, 'galaxi': 4957, 'walt': 4958, 'abound': 4959, 'rosario': 4960, 'basket': 4961, 'bsg': 4962, 'pepper': 4963, 'optimist': 4964, 'assort': 4965, 'hostil': 4966, 'omin': 4967, 'jill': 4968, 'cypher': 4969, 'casper': 4970, 'scarfac': 4971, 'sophi': 4972, 'ingrid': 4973, 'epitom': 4974, 'incorrect': 4975, '21st': 4976, 'substanti': 4977, 'hackman': 4978, 'victorian': 4979, 'motorcycl': 4980, 'evan': 4981, 'ghetto': 4982, 'scariest': 4983, 'vastli': 4984, 'modest': 4985, 'reincarn': 4986, 'frontal': 4987, 'orchestr': 4988, 'weari': 4989, 'spill': 4990, 'rapidli': 4991, 'weaker': 4992, 'playboy': 4993, 'detach': 4994, 'masterson': 4995, 'sparkl': 4996, 'mice': 4997, 'dubiou': 4998, 'growth': 4999}\n",
      "4998\n"
     ]
    }
   ],
   "source": [
    "# TODO: Use this space to determine the five most frequently appearing words in the training set.\n",
    "print(word_dict)\n",
    "print(len(word_dict))"
   ]
  },
  {
   "cell_type": "markdown",
   "metadata": {},
   "source": [
    "### Save `word_dict`\n",
    "\n",
    "Later on when we construct an endpoint which processes a submitted review we will need to make use of the `word_dict` which we have created. As such, we will save it to a file now for future use."
   ]
  },
  {
   "cell_type": "code",
   "execution_count": 28,
   "metadata": {},
   "outputs": [],
   "source": [
    "data_dir = '../data/pytorch' # The folder we will use for storing data\n",
    "if not os.path.exists(data_dir): # Make sure that the folder exists\n",
    "    os.makedirs(data_dir)"
   ]
  },
  {
   "cell_type": "code",
   "execution_count": 29,
   "metadata": {},
   "outputs": [],
   "source": [
    "with open(os.path.join(data_dir, 'word_dict.pkl'), \"wb\") as f:\n",
    "    pickle.dump(word_dict, f)"
   ]
  },
  {
   "cell_type": "markdown",
   "metadata": {},
   "source": [
    "### Transform the reviews\n",
    "\n",
    "Now that we have our word dictionary which allows us to transform the words appearing in the reviews into integers, it is time to make use of it and convert our reviews to their integer sequence representation, making sure to pad or truncate to a fixed length, which in our case is `500`."
   ]
  },
  {
   "cell_type": "code",
   "execution_count": 30,
   "metadata": {},
   "outputs": [],
   "source": [
    "def convert_and_pad(word_dict, sentence, pad=500):\n",
    "    NOWORD = 0 # We will use 0 to represent the 'no word' category\n",
    "    INFREQ = 1 # and we use 1 to represent the infrequent words, i.e., words not appearing in word_dict\n",
    "    \n",
    "    working_sentence = [NOWORD] * pad\n",
    "    \n",
    "    for word_index, word in enumerate(sentence[:pad]):\n",
    "        if word in word_dict:\n",
    "            working_sentence[word_index] = word_dict[word]\n",
    "        else:\n",
    "            working_sentence[word_index] = INFREQ\n",
    "            \n",
    "    return working_sentence, min(len(sentence), pad)\n",
    "\n",
    "def convert_and_pad_data(word_dict, data, pad=500):\n",
    "    result = []\n",
    "    lengths = []\n",
    "    \n",
    "    for sentence in data:\n",
    "        converted, leng = convert_and_pad(word_dict, sentence, pad)\n",
    "        result.append(converted)\n",
    "        lengths.append(leng)\n",
    "        \n",
    "    return np.array(result), np.array(lengths)"
   ]
  },
  {
   "cell_type": "code",
   "execution_count": 31,
   "metadata": {},
   "outputs": [],
   "source": [
    "train_X, train_X_len = convert_and_pad_data(word_dict, train_X)\n",
    "test_X, test_X_len = convert_and_pad_data(word_dict, test_X)"
   ]
  },
  {
   "cell_type": "markdown",
   "metadata": {},
   "source": [
    "As a quick check to make sure that things are working as intended, check to see what one of the reviews in the training set looks like after having been processeed. Does this look reasonable? What is the length of a review in the training set?"
   ]
  },
  {
   "cell_type": "code",
   "execution_count": 74,
   "metadata": {},
   "outputs": [
    {
     "name": "stdout",
     "output_type": "stream",
     "text": [
      "25000 25000\n",
      "500\n",
      "[177  81  60 ...  77  60 132]\n"
     ]
    }
   ],
   "source": [
    "# Use this cell to examine one of the processed reviews to make sure everything is working as intended.\n",
    "print(len(train_X_len), len(test_X_len))\n",
    "print(len(train_X[100]))\n",
    "print(train_X_len)"
   ]
  },
  {
   "cell_type": "markdown",
   "metadata": {},
   "source": [
    "**Question:** In the cells above we use the `preprocess_data` and `convert_and_pad_data` methods to process both the training and testing set. Why or why not might this be a problem?"
   ]
  },
  {
   "cell_type": "markdown",
   "metadata": {},
   "source": [
    "**Answer:** While training our network, we process numbers not strings. Hence to be able to build our network we need to vectorize our words. Second, our work is to classify a review as positive or negative. There are certain words that are typical for postive reviews and certain words that are typical for negative reviews. Hence we are trying to build a dictionary of words used in reviews, tokenize them so that they could be represented by numbers"
   ]
  },
  {
   "cell_type": "markdown",
   "metadata": {},
   "source": [
    "## Step 3: Upload the data to S3\n",
    "\n",
    "As in the XGBoost notebook, we will need to upload the training dataset to S3 in order for our training code to access it. For now we will save it locally and we will upload to S3 later on.\n",
    "\n",
    "### Save the processed training dataset locally\n",
    "\n",
    "It is important to note the format of the data that we are saving as we will need to know it when we write the training code. In our case, each row of the dataset has the form `label`, `length`, `review[500]` where `review[500]` is a sequence of `500` integers representing the words in the review."
   ]
  },
  {
   "cell_type": "code",
   "execution_count": 34,
   "metadata": {},
   "outputs": [],
   "source": [
    "import pandas as pd\n",
    "    \n",
    "pd.concat([pd.DataFrame(train_y), pd.DataFrame(train_X_len), pd.DataFrame(train_X)], axis=1) \\\n",
    "        .to_csv(os.path.join(data_dir, 'train.csv'), header=False, index=False)"
   ]
  },
  {
   "cell_type": "markdown",
   "metadata": {},
   "source": [
    "### Uploading the training data\n",
    "\n",
    "\n",
    "Next, we need to upload the training data to the SageMaker default S3 bucket so that we can provide access to it while training our model."
   ]
  },
  {
   "cell_type": "code",
   "execution_count": 36,
   "metadata": {},
   "outputs": [],
   "source": [
    "import sagemaker\n",
    "\n",
    "sagemaker_session = sagemaker.Session()\n",
    "\n",
    "bucket = sagemaker_session.default_bucket()\n",
    "prefix = 'sagemaker/sentiment_rnn'\n",
    "\n",
    "role = sagemaker.get_execution_role()"
   ]
  },
  {
   "cell_type": "code",
   "execution_count": 37,
   "metadata": {},
   "outputs": [],
   "source": [
    "input_data = sagemaker_session.upload_data(path=data_dir, bucket=bucket, key_prefix=prefix)"
   ]
  },
  {
   "cell_type": "markdown",
   "metadata": {},
   "source": [
    "**NOTE:** The cell above uploads the entire contents of our data directory. This includes the `word_dict.pkl` file. This is fortunate as we will need this later on when we create an endpoint that accepts an arbitrary review. For now, we will just take note of the fact that it resides in the data directory (and so also in the S3 training bucket) and that we will need to make sure it gets saved in the model directory."
   ]
  },
  {
   "cell_type": "markdown",
   "metadata": {},
   "source": [
    "## Step 4: Build and Train the PyTorch Model\n",
    "\n",
    "In the XGBoost notebook we discussed what a model is in the SageMaker framework. In particular, a model comprises three objects\n",
    "\n",
    " - Model Artifacts,\n",
    " - Training Code, and\n",
    " - Inference Code,\n",
    " \n",
    "each of which interact with one another. In the XGBoost example we used training and inference code that was provided by Amazon. Here we will still be using containers provided by Amazon with the added benefit of being able to include our own custom code.\n",
    "\n",
    "We will start by implementing our own neural network in PyTorch along with a training script. For the purposes of this project we have provided the necessary model object in the `model.py` file, inside of the `train` folder. You can see the provided implementation by running the cell below."
   ]
  },
  {
   "cell_type": "code",
   "execution_count": 38,
   "metadata": {},
   "outputs": [
    {
     "name": "stdout",
     "output_type": "stream",
     "text": [
      "\u001b[34mimport\u001b[39;49;00m \u001b[04m\u001b[36mtorch.nn\u001b[39;49;00m \u001b[34mas\u001b[39;49;00m \u001b[04m\u001b[36mnn\u001b[39;49;00m\r\n",
      "\r\n",
      "\u001b[34mclass\u001b[39;49;00m \u001b[04m\u001b[32mLSTMClassifier\u001b[39;49;00m(nn.Module):\r\n",
      "    \u001b[33m\"\"\"\u001b[39;49;00m\r\n",
      "\u001b[33m    This is the simple RNN model we will be using to perform Sentiment Analysis.\u001b[39;49;00m\r\n",
      "\u001b[33m    \"\"\"\u001b[39;49;00m\r\n",
      "\r\n",
      "    \u001b[34mdef\u001b[39;49;00m \u001b[32m__init__\u001b[39;49;00m(\u001b[36mself\u001b[39;49;00m, embedding_dim, hidden_dim, vocab_size):\r\n",
      "        \u001b[33m\"\"\"\u001b[39;49;00m\r\n",
      "\u001b[33m        Initialize the model by settingg up the various layers.\u001b[39;49;00m\r\n",
      "\u001b[33m        \"\"\"\u001b[39;49;00m\r\n",
      "        \u001b[36msuper\u001b[39;49;00m(LSTMClassifier, \u001b[36mself\u001b[39;49;00m).\u001b[32m__init__\u001b[39;49;00m()\r\n",
      "\r\n",
      "        \u001b[36mself\u001b[39;49;00m.embedding = nn.Embedding(vocab_size, embedding_dim, padding_idx=\u001b[34m0\u001b[39;49;00m)\r\n",
      "        \u001b[36mself\u001b[39;49;00m.lstm = nn.LSTM(embedding_dim, hidden_dim)\r\n",
      "        \u001b[36mself\u001b[39;49;00m.dense = nn.Linear(in_features=hidden_dim, out_features=\u001b[34m1\u001b[39;49;00m)\r\n",
      "        \u001b[36mself\u001b[39;49;00m.sig = nn.Sigmoid()\r\n",
      "        \r\n",
      "        \u001b[36mself\u001b[39;49;00m.word_dict = \u001b[36mNone\u001b[39;49;00m\r\n",
      "\r\n",
      "    \u001b[34mdef\u001b[39;49;00m \u001b[32mforward\u001b[39;49;00m(\u001b[36mself\u001b[39;49;00m, x):\r\n",
      "        \u001b[33m\"\"\"\u001b[39;49;00m\r\n",
      "\u001b[33m        Perform a forward pass of our model on some input.\u001b[39;49;00m\r\n",
      "\u001b[33m        \"\"\"\u001b[39;49;00m\r\n",
      "        x = x.t()\r\n",
      "        lengths = x[\u001b[34m0\u001b[39;49;00m,:]\r\n",
      "        reviews = x[\u001b[34m1\u001b[39;49;00m:,:]\r\n",
      "        embeds = \u001b[36mself\u001b[39;49;00m.embedding(reviews)\r\n",
      "        lstm_out, _ = \u001b[36mself\u001b[39;49;00m.lstm(embeds)\r\n",
      "        out = \u001b[36mself\u001b[39;49;00m.dense(lstm_out)\r\n",
      "        out = out[lengths - \u001b[34m1\u001b[39;49;00m, \u001b[36mrange\u001b[39;49;00m(\u001b[36mlen\u001b[39;49;00m(lengths))]\r\n",
      "        \u001b[34mreturn\u001b[39;49;00m \u001b[36mself\u001b[39;49;00m.sig(out.squeeze())\r\n"
     ]
    }
   ],
   "source": [
    "!pygmentize train/model.py"
   ]
  },
  {
   "cell_type": "markdown",
   "metadata": {},
   "source": [
    "The important takeaway from the implementation provided is that there are three parameters that we may wish to tweak to improve the performance of our model. These are the embedding dimension, the hidden dimension and the size of the vocabulary. We will likely want to make these parameters configurable in the training script so that if we wish to modify them we do not need to modify the script itself. We will see how to do this later on. To start we will write some of the training code in the notebook so that we can more easily diagnose any issues that arise.\n",
    "\n",
    "First we will load a small portion of the training data set to use as a sample. It would be very time consuming to try and train the model completely in the notebook as we do not have access to a gpu and the compute instance that we are using is not particularly powerful. However, we can work on a small bit of the data to get a feel for how our training script is behaving."
   ]
  },
  {
   "cell_type": "code",
   "execution_count": 39,
   "metadata": {},
   "outputs": [],
   "source": [
    "import torch\n",
    "import torch.utils.data\n",
    "\n",
    "# Read in only the first 250 rows\n",
    "train_sample = pd.read_csv(os.path.join(data_dir, 'train.csv'), header=None, names=None, nrows=250)\n",
    "\n",
    "# Turn the input pandas dataframe into tensors\n",
    "train_sample_y = torch.from_numpy(train_sample[[0]].values).float().squeeze()\n",
    "train_sample_X = torch.from_numpy(train_sample.drop([0], axis=1).values).long()\n",
    "\n",
    "# Build the dataset\n",
    "train_sample_ds = torch.utils.data.TensorDataset(train_sample_X, train_sample_y)\n",
    "# Build the dataloader\n",
    "train_sample_dl = torch.utils.data.DataLoader(train_sample_ds, batch_size=50)"
   ]
  },
  {
   "cell_type": "markdown",
   "metadata": {},
   "source": [
    "### (TODO) Writing the training method\n",
    "\n",
    "Next we need to write the training code itself. This should be very similar to training methods that you have written before to train PyTorch models. We will leave any difficult aspects such as model saving / loading and parameter loading until a little later."
   ]
  },
  {
   "cell_type": "code",
   "execution_count": 42,
   "metadata": {},
   "outputs": [],
   "source": [
    "def train(model, train_loader, epochs, optimizer, loss_fn, device):\n",
    "    for epoch in range(1, epochs + 1):\n",
    "        model.train()\n",
    "        total_loss = 0\n",
    "        for batch in train_loader:         \n",
    "            batch_X, batch_y = batch\n",
    "            \n",
    "            batch_X = batch_X.to(device)\n",
    "            batch_y = batch_y.to(device)\n",
    "            \n",
    "            # TODO: Complete this train method to train the model provided.\n",
    "\n",
    "            # zero accumulated gradients\n",
    "            optimizer.zero_grad()\n",
    "\n",
    "            # get the output from the model\n",
    "            output = model(batch_X)\n",
    "\n",
    "            # calculate the loss and perform backprop\n",
    "            loss = loss_fn(output, batch_y)\n",
    "            loss.backward()\n",
    "            optimizer.step()\n",
    "            \n",
    "            total_loss += loss.data.item()\n",
    "        print(\"Epoch: {}, BCELoss: {}\".format(epoch, total_loss / len(train_loader)))"
   ]
  },
  {
   "cell_type": "markdown",
   "metadata": {},
   "source": [
    "Supposing we have the training method above, we will test that it is working by writing a bit of code in the notebook that executes our training method on the small sample training set that we loaded earlier. The reason for doing this in the notebook is so that we have an opportunity to fix any errors that arise early when they are easier to diagnose."
   ]
  },
  {
   "cell_type": "code",
   "execution_count": 43,
   "metadata": {},
   "outputs": [
    {
     "name": "stdout",
     "output_type": "stream",
     "text": [
      "Epoch: 1, BCELoss: 0.696431577205658\n",
      "Epoch: 2, BCELoss: 0.6874409914016724\n",
      "Epoch: 3, BCELoss: 0.6798796415328979\n",
      "Epoch: 4, BCELoss: 0.6716524720191955\n",
      "Epoch: 5, BCELoss: 0.6614676952362061\n"
     ]
    }
   ],
   "source": [
    "import torch.optim as optim\n",
    "from train.model import LSTMClassifier\n",
    "\n",
    "device = torch.device(\"cuda\" if torch.cuda.is_available() else \"cpu\")\n",
    "model = LSTMClassifier(32, 100, 5000).to(device)\n",
    "optimizer = optim.Adam(model.parameters())\n",
    "loss_fn = torch.nn.BCELoss()\n",
    "\n",
    "train(model, train_sample_dl, 5, optimizer, loss_fn, device)"
   ]
  },
  {
   "cell_type": "markdown",
   "metadata": {},
   "source": [
    "In order to construct a PyTorch model using SageMaker we must provide SageMaker with a training script. We may optionally include a directory which will be copied to the container and from which our training code will be run. When the training container is executed it will check the uploaded directory (if there is one) for a `requirements.txt` file and install any required Python libraries, after which the training script will be run."
   ]
  },
  {
   "cell_type": "markdown",
   "metadata": {},
   "source": [
    "### (TODO) Training the model\n",
    "\n",
    "When a PyTorch model is constructed in SageMaker, an entry point must be specified. This is the Python file which will be executed when the model is trained. Inside of the `train` directory is a file called `train.py` which has been provided and which contains most of the necessary code to train our model. The only thing that is missing is the implementation of the `train()` method which you wrote earlier in this notebook.\n",
    "\n",
    "**TODO**: Copy the `train()` method written above and paste it into the `train/train.py` file where required.\n",
    "\n",
    "The way that SageMaker passes hyperparameters to the training script is by way of arguments. These arguments can then be parsed and used in the training script. To see how this is done take a look at the provided `train/train.py` file."
   ]
  },
  {
   "cell_type": "code",
   "execution_count": 205,
   "metadata": {},
   "outputs": [],
   "source": [
    "from sagemaker.pytorch import PyTorch\n",
    "\n",
    "estimator = PyTorch(entry_point=\"train.py\",\n",
    "                    source_dir=\"train\",\n",
    "                    role=role,\n",
    "                    framework_version='0.4.0',\n",
    "                    train_instance_count=1,\n",
    "                    train_instance_type='ml.p2.xlarge',\n",
    "                    hyperparameters={\n",
    "                        'epochs': 30,\n",
    "                        'hidden_dim': 200,\n",
    "                    })"
   ]
  },
  {
   "cell_type": "code",
   "execution_count": 206,
   "metadata": {},
   "outputs": [
    {
     "name": "stdout",
     "output_type": "stream",
     "text": [
      "2019-10-26 01:51:28 Starting - Starting the training job...\n",
      "2019-10-26 01:51:29 Starting - Launching requested ML instances...\n",
      "2019-10-26 01:52:26 Starting - Preparing the instances for training.........\n",
      "2019-10-26 01:53:40 Downloading - Downloading input data...\n",
      "2019-10-26 01:54:22 Training - Downloading the training image...\n",
      "2019-10-26 01:54:48 Training - Training image download completed. Training in progress.\u001b[31mbash: cannot set terminal process group (-1): Inappropriate ioctl for device\u001b[0m\n",
      "\u001b[31mbash: no job control in this shell\u001b[0m\n",
      "\u001b[31m2019-10-26 01:54:49,195 sagemaker-containers INFO     Imported framework sagemaker_pytorch_container.training\u001b[0m\n",
      "\u001b[31m2019-10-26 01:54:49,221 sagemaker_pytorch_container.training INFO     Block until all host DNS lookups succeed.\u001b[0m\n",
      "\u001b[31m2019-10-26 01:54:52,236 sagemaker_pytorch_container.training INFO     Invoking user training script.\u001b[0m\n",
      "\u001b[31m2019-10-26 01:54:52,468 sagemaker-containers INFO     Module train does not provide a setup.py. \u001b[0m\n",
      "\u001b[31mGenerating setup.py\u001b[0m\n",
      "\u001b[31m2019-10-26 01:54:52,469 sagemaker-containers INFO     Generating setup.cfg\u001b[0m\n",
      "\u001b[31m2019-10-26 01:54:52,469 sagemaker-containers INFO     Generating MANIFEST.in\u001b[0m\n",
      "\u001b[31m2019-10-26 01:54:52,469 sagemaker-containers INFO     Installing module with the following command:\u001b[0m\n",
      "\u001b[31m/usr/bin/python -m pip install -U . -r requirements.txt\u001b[0m\n",
      "\u001b[31mProcessing /opt/ml/code\u001b[0m\n",
      "\u001b[31mCollecting pandas (from -r requirements.txt (line 1))\n",
      "  Downloading https://files.pythonhosted.org/packages/74/24/0cdbf8907e1e3bc5a8da03345c23cbed7044330bb8f73bb12e711a640a00/pandas-0.24.2-cp35-cp35m-manylinux1_x86_64.whl (10.0MB)\u001b[0m\n",
      "\u001b[31mCollecting numpy (from -r requirements.txt (line 2))\n",
      "  Downloading https://files.pythonhosted.org/packages/5e/f8/82a8a6ed446b58aa718b2744b265983783a2c84098a73db6d0b78a573e25/numpy-1.17.3-cp35-cp35m-manylinux1_x86_64.whl (19.8MB)\u001b[0m\n",
      "\u001b[31mCollecting nltk (from -r requirements.txt (line 3))\n",
      "  Downloading https://files.pythonhosted.org/packages/f6/1d/d925cfb4f324ede997f6d47bea4d9babba51b49e87a767c170b77005889d/nltk-3.4.5.zip (1.5MB)\u001b[0m\n",
      "\u001b[31mCollecting beautifulsoup4 (from -r requirements.txt (line 4))\u001b[0m\n",
      "\u001b[31m  Downloading https://files.pythonhosted.org/packages/3b/c8/a55eb6ea11cd7e5ac4bacdf92bac4693b90d3ba79268be16527555e186f0/beautifulsoup4-4.8.1-py3-none-any.whl (101kB)\u001b[0m\n",
      "\u001b[31mCollecting html5lib (from -r requirements.txt (line 5))\n",
      "  Downloading https://files.pythonhosted.org/packages/a5/62/bbd2be0e7943ec8504b517e62bab011b4946e1258842bc159e5dfde15b96/html5lib-1.0.1-py2.py3-none-any.whl (117kB)\u001b[0m\n",
      "\u001b[31mRequirement already satisfied, skipping upgrade: python-dateutil>=2.5.0 in /usr/local/lib/python3.5/dist-packages (from pandas->-r requirements.txt (line 1)) (2.7.5)\u001b[0m\n",
      "\u001b[31mCollecting pytz>=2011k (from pandas->-r requirements.txt (line 1))\n",
      "  Downloading https://files.pythonhosted.org/packages/e7/f9/f0b53f88060247251bf481fa6ea62cd0d25bf1b11a87888e53ce5b7c8ad2/pytz-2019.3-py2.py3-none-any.whl (509kB)\u001b[0m\n",
      "\u001b[31mRequirement already satisfied, skipping upgrade: six in /usr/local/lib/python3.5/dist-packages (from nltk->-r requirements.txt (line 3)) (1.11.0)\u001b[0m\n",
      "\u001b[31mCollecting soupsieve>=1.2 (from beautifulsoup4->-r requirements.txt (line 4))\n",
      "  Downloading https://files.pythonhosted.org/packages/5d/42/d821581cf568e9b7dfc5b415aa61952b0f5e3dede4f3cbd650e3a1082992/soupsieve-1.9.4-py2.py3-none-any.whl\u001b[0m\n",
      "\u001b[31mCollecting webencodings (from html5lib->-r requirements.txt (line 5))\n",
      "  Downloading https://files.pythonhosted.org/packages/f4/24/2a3e3df732393fed8b3ebf2ec078f05546de641fe1b667ee316ec1dcf3b7/webencodings-0.5.1-py2.py3-none-any.whl\u001b[0m\n",
      "\u001b[31mBuilding wheels for collected packages: nltk, train\n",
      "  Running setup.py bdist_wheel for nltk: started\u001b[0m\n",
      "\u001b[31m  Running setup.py bdist_wheel for nltk: finished with status 'done'\n",
      "  Stored in directory: /root/.cache/pip/wheels/96/86/f6/68ab24c23f207c0077381a5e3904b2815136b879538a24b483\n",
      "  Running setup.py bdist_wheel for train: started\u001b[0m\n",
      "\u001b[31m  Running setup.py bdist_wheel for train: finished with status 'done'\n",
      "  Stored in directory: /tmp/pip-ephem-wheel-cache-o6g2n02p/wheels/35/24/16/37574d11bf9bde50616c67372a334f94fa8356bc7164af8ca3\u001b[0m\n",
      "\u001b[31mSuccessfully built nltk train\u001b[0m\n",
      "\u001b[31mInstalling collected packages: numpy, pytz, pandas, nltk, soupsieve, beautifulsoup4, webencodings, html5lib, train\n",
      "  Found existing installation: numpy 1.15.4\n",
      "    Uninstalling numpy-1.15.4:\n",
      "      Successfully uninstalled numpy-1.15.4\u001b[0m\n",
      "\u001b[31mSuccessfully installed beautifulsoup4-4.8.1 html5lib-1.0.1 nltk-3.4.5 numpy-1.17.3 pandas-0.24.2 pytz-2019.3 soupsieve-1.9.4 train-1.0.0 webencodings-0.5.1\u001b[0m\n",
      "\u001b[31mYou are using pip version 18.1, however version 19.3.1 is available.\u001b[0m\n",
      "\u001b[31mYou should consider upgrading via the 'pip install --upgrade pip' command.\u001b[0m\n",
      "\u001b[31m2019-10-26 01:55:04,708 sagemaker-containers INFO     Invoking user script\n",
      "\u001b[0m\n",
      "\u001b[31mTraining Env:\n",
      "\u001b[0m\n",
      "\u001b[31m{\n",
      "    \"num_gpus\": 1,\n",
      "    \"network_interface_name\": \"eth0\",\n",
      "    \"output_intermediate_dir\": \"/opt/ml/output/intermediate\",\n",
      "    \"num_cpus\": 4,\n",
      "    \"job_name\": \"sagemaker-pytorch-2019-10-26-01-51-27-662\",\n",
      "    \"input_data_config\": {\n",
      "        \"training\": {\n",
      "            \"TrainingInputMode\": \"File\",\n",
      "            \"RecordWrapperType\": \"None\",\n",
      "            \"S3DistributionType\": \"FullyReplicated\"\n",
      "        }\n",
      "    },\n",
      "    \"module_name\": \"train\",\n",
      "    \"output_dir\": \"/opt/ml/output\",\n",
      "    \"hyperparameters\": {\n",
      "        \"hidden_dim\": 200,\n",
      "        \"epochs\": 30\n",
      "    },\n",
      "    \"current_host\": \"algo-1\",\n",
      "    \"input_config_dir\": \"/opt/ml/input/config\",\n",
      "    \"additional_framework_parameters\": {},\n",
      "    \"log_level\": 20,\n",
      "    \"user_entry_point\": \"train.py\",\n",
      "    \"output_data_dir\": \"/opt/ml/output/data\",\n",
      "    \"input_dir\": \"/opt/ml/input\",\n",
      "    \"hosts\": [\n",
      "        \"algo-1\"\n",
      "    ],\n",
      "    \"module_dir\": \"s3://sagemaker-us-east-2-753115167553/sagemaker-pytorch-2019-10-26-01-51-27-662/source/sourcedir.tar.gz\",\n",
      "    \"channel_input_dirs\": {\n",
      "        \"training\": \"/opt/ml/input/data/training\"\n",
      "    },\n",
      "    \"resource_config\": {\n",
      "        \"network_interface_name\": \"eth0\",\n",
      "        \"hosts\": [\n",
      "            \"algo-1\"\n",
      "        ],\n",
      "        \"current_host\": \"algo-1\"\n",
      "    },\n",
      "    \"model_dir\": \"/opt/ml/model\",\n",
      "    \"framework_module\": \"sagemaker_pytorch_container.training:main\"\u001b[0m\n",
      "\u001b[31m}\n",
      "\u001b[0m\n",
      "\u001b[31mEnvironment variables:\n",
      "\u001b[0m\n",
      "\u001b[31mSM_OUTPUT_DATA_DIR=/opt/ml/output/data\u001b[0m\n",
      "\u001b[31mSM_NUM_GPUS=1\u001b[0m\n",
      "\u001b[31mPYTHONPATH=/usr/local/bin:/usr/lib/python35.zip:/usr/lib/python3.5:/usr/lib/python3.5/plat-x86_64-linux-gnu:/usr/lib/python3.5/lib-dynload:/usr/local/lib/python3.5/dist-packages:/usr/lib/python3/dist-packages\u001b[0m\n",
      "\u001b[31mSM_MODULE_NAME=train\u001b[0m\n",
      "\u001b[31mSM_CHANNELS=[\"training\"]\u001b[0m\n",
      "\u001b[31mSM_USER_ENTRY_POINT=train.py\u001b[0m\n",
      "\u001b[31mSM_LOG_LEVEL=20\u001b[0m\n",
      "\u001b[31mSM_FRAMEWORK_PARAMS={}\u001b[0m\n",
      "\u001b[31mSM_HP_HIDDEN_DIM=200\u001b[0m\n",
      "\u001b[31mSM_HOSTS=[\"algo-1\"]\u001b[0m\n",
      "\u001b[31mSM_INPUT_CONFIG_DIR=/opt/ml/input/config\u001b[0m\n",
      "\u001b[31mSM_TRAINING_ENV={\"additional_framework_parameters\":{},\"channel_input_dirs\":{\"training\":\"/opt/ml/input/data/training\"},\"current_host\":\"algo-1\",\"framework_module\":\"sagemaker_pytorch_container.training:main\",\"hosts\":[\"algo-1\"],\"hyperparameters\":{\"epochs\":30,\"hidden_dim\":200},\"input_config_dir\":\"/opt/ml/input/config\",\"input_data_config\":{\"training\":{\"RecordWrapperType\":\"None\",\"S3DistributionType\":\"FullyReplicated\",\"TrainingInputMode\":\"File\"}},\"input_dir\":\"/opt/ml/input\",\"job_name\":\"sagemaker-pytorch-2019-10-26-01-51-27-662\",\"log_level\":20,\"model_dir\":\"/opt/ml/model\",\"module_dir\":\"s3://sagemaker-us-east-2-753115167553/sagemaker-pytorch-2019-10-26-01-51-27-662/source/sourcedir.tar.gz\",\"module_name\":\"train\",\"network_interface_name\":\"eth0\",\"num_cpus\":4,\"num_gpus\":1,\"output_data_dir\":\"/opt/ml/output/data\",\"output_dir\":\"/opt/ml/output\",\"output_intermediate_dir\":\"/opt/ml/output/intermediate\",\"resource_config\":{\"current_host\":\"algo-1\",\"hosts\":[\"algo-1\"],\"network_interface_name\":\"eth0\"},\"user_entry_point\":\"train.py\"}\u001b[0m\n",
      "\u001b[31mSM_INPUT_DATA_CONFIG={\"training\":{\"RecordWrapperType\":\"None\",\"S3DistributionType\":\"FullyReplicated\",\"TrainingInputMode\":\"File\"}}\u001b[0m\n",
      "\u001b[31mSM_INPUT_DIR=/opt/ml/input\u001b[0m\n",
      "\u001b[31mSM_MODULE_DIR=s3://sagemaker-us-east-2-753115167553/sagemaker-pytorch-2019-10-26-01-51-27-662/source/sourcedir.tar.gz\u001b[0m\n",
      "\u001b[31mSM_OUTPUT_DIR=/opt/ml/output\u001b[0m\n",
      "\u001b[31mSM_RESOURCE_CONFIG={\"current_host\":\"algo-1\",\"hosts\":[\"algo-1\"],\"network_interface_name\":\"eth0\"}\u001b[0m\n",
      "\u001b[31mSM_HP_EPOCHS=30\u001b[0m\n",
      "\u001b[31mSM_NETWORK_INTERFACE_NAME=eth0\u001b[0m\n",
      "\u001b[31mSM_FRAMEWORK_MODULE=sagemaker_pytorch_container.training:main\u001b[0m\n",
      "\u001b[31mSM_USER_ARGS=[\"--epochs\",\"30\",\"--hidden_dim\",\"200\"]\u001b[0m\n",
      "\u001b[31mSM_MODEL_DIR=/opt/ml/model\u001b[0m\n",
      "\u001b[31mSM_OUTPUT_INTERMEDIATE_DIR=/opt/ml/output/intermediate\u001b[0m\n",
      "\u001b[31mSM_HPS={\"epochs\":30,\"hidden_dim\":200}\u001b[0m\n",
      "\u001b[31mSM_CHANNEL_TRAINING=/opt/ml/input/data/training\u001b[0m\n",
      "\u001b[31mSM_CURRENT_HOST=algo-1\u001b[0m\n",
      "\u001b[31mSM_NUM_CPUS=4\n",
      "\u001b[0m\n",
      "\u001b[31mInvoking script with the following command:\n",
      "\u001b[0m\n",
      "\u001b[31m/usr/bin/python -m train --epochs 30 --hidden_dim 200\n",
      "\n",
      "\u001b[0m\n",
      "\u001b[31mUsing device cuda.\u001b[0m\n",
      "\u001b[31mGet train data loader.\u001b[0m\n",
      "\u001b[31mModel loaded with embedding_dim 32, hidden_dim 200, vocab_size 5000.\u001b[0m\n",
      "\u001b[31mEpoch: 1, BCELoss: 0.6725679563016308\u001b[0m\n",
      "\u001b[31mEpoch: 2, BCELoss: 0.5996690830405877\u001b[0m\n",
      "\u001b[31mEpoch: 3, BCELoss: 0.5080244717549305\u001b[0m\n",
      "\u001b[31mEpoch: 4, BCELoss: 0.43827419864888095\u001b[0m\n",
      "\u001b[31mEpoch: 5, BCELoss: 0.4055049328171477\u001b[0m\n",
      "\u001b[31mEpoch: 6, BCELoss: 0.3550526530158763\u001b[0m\n",
      "\u001b[31mEpoch: 7, BCELoss: 0.327475159143915\u001b[0m\n",
      "\u001b[31mEpoch: 8, BCELoss: 0.31472356343755914\u001b[0m\n",
      "\u001b[31mEpoch: 9, BCELoss: 0.2893594174968953\u001b[0m\n",
      "\u001b[31mEpoch: 10, BCELoss: 0.2699946076894293\u001b[0m\n",
      "\u001b[31mEpoch: 11, BCELoss: 0.27235290955524055\u001b[0m\n",
      "\u001b[31mEpoch: 12, BCELoss: 0.26517321564713303\u001b[0m\n",
      "\u001b[31mEpoch: 13, BCELoss: 0.2396524791814843\u001b[0m\n",
      "\u001b[31mEpoch: 14, BCELoss: 0.2304711320570537\u001b[0m\n",
      "\u001b[31mEpoch: 15, BCELoss: 0.21698901239706544\u001b[0m\n",
      "\u001b[31mEpoch: 16, BCELoss: 0.21076304419916503\u001b[0m\n",
      "\u001b[31mEpoch: 17, BCELoss: 0.2072584632099891\u001b[0m\n",
      "\u001b[31mEpoch: 18, BCELoss: 0.19298594064858496\u001b[0m\n",
      "\u001b[31mEpoch: 19, BCELoss: 0.19639522901603154\u001b[0m\n",
      "\u001b[31mEpoch: 20, BCELoss: 0.19341012577013095\u001b[0m\n",
      "\u001b[31mEpoch: 21, BCELoss: 0.17911112916712857\u001b[0m\n",
      "\u001b[31mEpoch: 22, BCELoss: 0.16178157165342447\u001b[0m\n",
      "\u001b[31mEpoch: 23, BCELoss: 0.15391757217596988\u001b[0m\n",
      "\u001b[31mEpoch: 24, BCELoss: 0.14957350112345755\u001b[0m\n",
      "\u001b[31mEpoch: 25, BCELoss: 0.14481187474970914\u001b[0m\n",
      "\u001b[31mEpoch: 26, BCELoss: 0.1753172085297351\u001b[0m\n",
      "\u001b[31mEpoch: 27, BCELoss: 0.14435017945206896\u001b[0m\n",
      "\u001b[31mEpoch: 28, BCELoss: 0.13277922236189552\u001b[0m\n",
      "\u001b[31mEpoch: 29, BCELoss: 0.11684658682467985\u001b[0m\n",
      "\u001b[31mEpoch: 30, BCELoss: 0.12649201495306833\u001b[0m\n",
      "\u001b[31m2019-10-26 02:03:44,913 sagemaker-containers INFO     Reporting training SUCCESS\u001b[0m\n",
      "\n",
      "2019-10-26 02:03:53 Uploading - Uploading generated training model\n",
      "2019-10-26 02:03:53 Completed - Training job completed\n",
      "Training seconds: 613\n",
      "Billable seconds: 613\n"
     ]
    }
   ],
   "source": [
    "estimator.fit({'training': input_data})"
   ]
  },
  {
   "cell_type": "markdown",
   "metadata": {},
   "source": [
    "## Step 5: Testing the model\n",
    "\n",
    "As mentioned at the top of this notebook, we will be testing this model by first deploying it and then sending the testing data to the deployed endpoint. We will do this so that we can make sure that the deployed model is working correctly.\n",
    "\n",
    "## Step 6: Deploy the model for testing\n",
    "\n",
    "Now that we have trained our model, we would like to test it to see how it performs. Currently our model takes input of the form `review_length, review[500]` where `review[500]` is a sequence of `500` integers which describe the words present in the review, encoded using `word_dict`. Fortunately for us, SageMaker provides built-in inference code for models with simple inputs such as this.\n",
    "\n",
    "There is one thing that we need to provide, however, and that is a function which loads the saved model. This function must be called `model_fn()` and takes as its only parameter a path to the directory where the model artifacts are stored. This function must also be present in the python file which we specified as the entry point. In our case the model loading function has been provided and so no changes need to be made.\n",
    "\n",
    "**NOTE**: When the built-in inference code is run it must import the `model_fn()` method from the `train.py` file. This is why the training code is wrapped in a main guard ( ie, `if __name__ == '__main__':` )\n",
    "\n",
    "Since we don't need to change anything in the code that was uploaded during training, we can simply deploy the current model as-is.\n",
    "\n",
    "**NOTE:** When deploying a model you are asking SageMaker to launch an compute instance that will wait for data to be sent to it. As a result, this compute instance will continue to run until *you* shut it down. This is important to know since the cost of a deployed endpoint depends on how long it has been running for.\n",
    "\n",
    "In other words **If you are no longer using a deployed endpoint, shut it down!**\n",
    "\n",
    "**TODO:** Deploy the trained model."
   ]
  },
  {
   "cell_type": "code",
   "execution_count": 207,
   "metadata": {},
   "outputs": [],
   "source": [
    "#function = !pygmentize train/model.py\n",
    "#model_path = 'train/model.py'"
   ]
  },
  {
   "cell_type": "code",
   "execution_count": 222,
   "metadata": {},
   "outputs": [
    {
     "name": "stderr",
     "output_type": "stream",
     "text": [
      "Using already existing model: sagemaker-pytorch-2019-10-26-01-51-27-662\n"
     ]
    },
    {
     "name": "stdout",
     "output_type": "stream",
     "text": [
      "-------------------------------------------------------------------------------------!"
     ]
    }
   ],
   "source": [
    "# TODO: Deploy the trained model\n",
    "predictor = estimator.deploy(initial_instance_count=1, instance_type='ml.m4.xlarge')"
   ]
  },
  {
   "cell_type": "markdown",
   "metadata": {},
   "source": [
    "## Step 7 - Use the model for testing\n",
    "\n",
    "Once deployed, we can read in the test data and send it off to our deployed model to get some results. Once we collect all of the results we can determine how accurate our model is."
   ]
  },
  {
   "cell_type": "code",
   "execution_count": 209,
   "metadata": {},
   "outputs": [],
   "source": [
    "test_X = pd.concat([pd.DataFrame(test_X_len), pd.DataFrame(test_X)], axis=1)"
   ]
  },
  {
   "cell_type": "code",
   "execution_count": 210,
   "metadata": {},
   "outputs": [],
   "source": [
    "# We split the data into chunks and send each chunk seperately, accumulating the results.\n",
    "\n",
    "def predict(data, rows=512):\n",
    "    split_array = np.array_split(data, int(data.shape[0] / float(rows) + 1))\n",
    "    predictions = np.array([])\n",
    "    for array in split_array:\n",
    "        predictions = np.append(predictions, predictor.predict(array))\n",
    "    \n",
    "    return predictions"
   ]
  },
  {
   "cell_type": "code",
   "execution_count": 211,
   "metadata": {},
   "outputs": [],
   "source": [
    "predictions = predict(test_X.values)\n",
    "predictions = [round(num) for num in predictions]"
   ]
  },
  {
   "cell_type": "code",
   "execution_count": 212,
   "metadata": {},
   "outputs": [
    {
     "data": {
      "text/plain": [
       "0.79668"
      ]
     },
     "execution_count": 212,
     "metadata": {},
     "output_type": "execute_result"
    }
   ],
   "source": [
    "from sklearn.metrics import accuracy_score\n",
    "accuracy_score(test_y, predictions)"
   ]
  },
  {
   "cell_type": "markdown",
   "metadata": {},
   "source": [
    "**Question:** How does this model compare to the XGBoost model you created earlier? Why might these two models perform differently on this dataset? Which do *you* think is better for sentiment analysis?"
   ]
  },
  {
   "cell_type": "markdown",
   "metadata": {},
   "source": [
    "**Answer:** Currently both seem to produce results to close proximity. In this case I ran the test four times with following results - 0.85,0.84,0.83 each with 10 epochs and 0.79 with 30 epochs. However, in general deep neural nets, in this case LSTM, are supposed to have better results than general machine learning classification models as in LSTM we also have memory about what values were processed in the past"
   ]
  },
  {
   "cell_type": "markdown",
   "metadata": {},
   "source": [
    "### (TODO) More testing\n",
    "\n",
    "We now have a trained model which has been deployed and which we can send processed reviews to and which returns the predicted sentiment. However, ultimately we would like to be able to send our model an unprocessed review. That is, we would like to send the review itself as a string. For example, suppose we wish to send the following review to our model."
   ]
  },
  {
   "cell_type": "code",
   "execution_count": 213,
   "metadata": {},
   "outputs": [],
   "source": [
    "#test_review = 'The simplest pleasures in life are the best, and this film is one of them. Combining a rather basic storyline of love and adventure this movie transcends the usual weekend fair with wit and unmitigated charm.'"
   ]
  },
  {
   "cell_type": "code",
   "execution_count": 223,
   "metadata": {},
   "outputs": [],
   "source": [
    "test_review = 'I just loved this movie. Great acting, wonderful script'"
   ]
  },
  {
   "cell_type": "markdown",
   "metadata": {},
   "source": [
    "The question we now need to answer is, how do we send this review to our model?\n",
    "\n",
    "Recall in the first section of this notebook we did a bunch of data processing to the IMDb dataset. In particular, we did two specific things to the provided reviews.\n",
    " - Removed any html tags and stemmed the input\n",
    " - Encoded the review as a sequence of integers using `word_dict`\n",
    " \n",
    "In order process the review we will need to repeat these two steps.\n",
    "\n",
    "**TODO**: Using the `review_to_words` and `convert_and_pad` methods from section one, convert `test_review` into a numpy array `test_data` suitable to send to our model. Remember that our model expects input of the form `review_length, review[500]`."
   ]
  },
  {
   "cell_type": "code",
   "execution_count": 224,
   "metadata": {},
   "outputs": [
    {
     "name": "stdout",
     "output_type": "stream",
     "text": [
      "tensor([[8, 1, 1,  ..., 0, 0, 0]])\n"
     ]
    }
   ],
   "source": [
    "# TODO: Convert test_review into a form usable by the model and save the results in test_data\n",
    "import numpy as np\n",
    "test_words = review_to_words(test_review)\n",
    "test_review_int, test_review_len = convert_and_pad(word_dict, test_words)\n",
    "data_pack_stack = np.hstack((test_review_len, test_review_int))\n",
    "test_data_stack = test_data_stack.reshape(1, -1)\n",
    "test_data = torch.from_numpy(test_data_stack)\n",
    "test_data = test_data.to(device)\n",
    "print(test_data)"
   ]
  },
  {
   "cell_type": "markdown",
   "metadata": {},
   "source": [
    "Now that we have processed the review, we can send the resulting array to our model to predict the sentiment of the review."
   ]
  },
  {
   "cell_type": "code",
   "execution_count": 225,
   "metadata": {},
   "outputs": [
    {
     "data": {
      "text/plain": [
       "array(0.28254405, dtype=float32)"
      ]
     },
     "execution_count": 225,
     "metadata": {},
     "output_type": "execute_result"
    }
   ],
   "source": [
    "predictor.predict(test_data)"
   ]
  },
  {
   "cell_type": "code",
   "execution_count": 227,
   "metadata": {},
   "outputs": [
    {
     "name": "stdout",
     "output_type": "stream",
     "text": [
      "cpu\n"
     ]
    }
   ],
   "source": [
    "print(device)"
   ]
  },
  {
   "cell_type": "markdown",
   "metadata": {},
   "source": [
    "Since the return value of our model is close to `1`, we can be certain that the review we submitted is positive."
   ]
  },
  {
   "cell_type": "markdown",
   "metadata": {},
   "source": [
    "### Delete the endpoint\n",
    "\n",
    "Of course, just like in the XGBoost notebook, once we've deployed an endpoint it continues to run until we tell it to shut down. Since we are done using our endpoint for now, we can delete it."
   ]
  },
  {
   "cell_type": "code",
   "execution_count": 228,
   "metadata": {},
   "outputs": [],
   "source": [
    "estimator.delete_endpoint()"
   ]
  },
  {
   "cell_type": "markdown",
   "metadata": {},
   "source": [
    "## Step 6 (again) - Deploy the model for the web app\n",
    "\n",
    "Now that we know that our model is working, it's time to create some custom inference code so that we can send the model a review which has not been processed and have it determine the sentiment of the review.\n",
    "\n",
    "As we saw above, by default the estimator which we created, when deployed, will use the entry script and directory which we provided when creating the model. However, since we now wish to accept a string as input and our model expects a processed review, we need to write some custom inference code.\n",
    "\n",
    "We will store the code that we write in the `serve` directory. Provided in this directory is the `model.py` file that we used to construct our model, a `utils.py` file which contains the `review_to_words` and `convert_and_pad` pre-processing functions which we used during the initial data processing, and `predict.py`, the file which will contain our custom inference code. Note also that `requirements.txt` is present which will tell SageMaker what Python libraries are required by our custom inference code.\n",
    "\n",
    "When deploying a PyTorch model in SageMaker, you are expected to provide four functions which the SageMaker inference container will use.\n",
    " - `model_fn`: This function is the same function that we used in the training script and it tells SageMaker how to load our model.\n",
    " - `input_fn`: This function receives the raw serialized input that has been sent to the model's endpoint and its job is to de-serialize and make the input available for the inference code.\n",
    " - `output_fn`: This function takes the output of the inference code and its job is to serialize this output and return it to the caller of the model's endpoint.\n",
    " - `predict_fn`: The heart of the inference script, this is where the actual prediction is done and is the function which you will need to complete.\n",
    "\n",
    "For the simple website that we are constructing during this project, the `input_fn` and `output_fn` methods are relatively straightforward. We only require being able to accept a string as input and we expect to return a single value as output. You might imagine though that in a more complex application the input or output may be image data or some other binary data which would require some effort to serialize.\n",
    "\n",
    "### (TODO) Writing inference code\n",
    "\n",
    "Before writing our custom inference code, we will begin by taking a look at the code which has been provided."
   ]
  },
  {
   "cell_type": "code",
   "execution_count": 229,
   "metadata": {},
   "outputs": [
    {
     "name": "stdout",
     "output_type": "stream",
     "text": [
      "\u001b[34mimport\u001b[39;49;00m \u001b[04m\u001b[36margparse\u001b[39;49;00m\r\n",
      "\u001b[34mimport\u001b[39;49;00m \u001b[04m\u001b[36mjson\u001b[39;49;00m\r\n",
      "\u001b[34mimport\u001b[39;49;00m \u001b[04m\u001b[36mos\u001b[39;49;00m\r\n",
      "\u001b[34mimport\u001b[39;49;00m \u001b[04m\u001b[36mpickle\u001b[39;49;00m\r\n",
      "\u001b[34mimport\u001b[39;49;00m \u001b[04m\u001b[36msys\u001b[39;49;00m\r\n",
      "\u001b[34mimport\u001b[39;49;00m \u001b[04m\u001b[36msagemaker_containers\u001b[39;49;00m\r\n",
      "\u001b[34mimport\u001b[39;49;00m \u001b[04m\u001b[36mpandas\u001b[39;49;00m \u001b[34mas\u001b[39;49;00m \u001b[04m\u001b[36mpd\u001b[39;49;00m\r\n",
      "\u001b[34mimport\u001b[39;49;00m \u001b[04m\u001b[36mnumpy\u001b[39;49;00m \u001b[34mas\u001b[39;49;00m \u001b[04m\u001b[36mnp\u001b[39;49;00m\r\n",
      "\u001b[34mimport\u001b[39;49;00m \u001b[04m\u001b[36mtorch\u001b[39;49;00m\r\n",
      "\u001b[34mimport\u001b[39;49;00m \u001b[04m\u001b[36mtorch.nn\u001b[39;49;00m \u001b[34mas\u001b[39;49;00m \u001b[04m\u001b[36mnn\u001b[39;49;00m\r\n",
      "\u001b[34mimport\u001b[39;49;00m \u001b[04m\u001b[36mtorch.optim\u001b[39;49;00m \u001b[34mas\u001b[39;49;00m \u001b[04m\u001b[36moptim\u001b[39;49;00m\r\n",
      "\u001b[34mimport\u001b[39;49;00m \u001b[04m\u001b[36mtorch.utils.data\u001b[39;49;00m\r\n",
      "\r\n",
      "\u001b[34mfrom\u001b[39;49;00m \u001b[04m\u001b[36mmodel\u001b[39;49;00m \u001b[34mimport\u001b[39;49;00m LSTMClassifier\r\n",
      "\r\n",
      "\u001b[34mfrom\u001b[39;49;00m \u001b[04m\u001b[36mutils\u001b[39;49;00m \u001b[34mimport\u001b[39;49;00m review_to_words, convert_and_pad\r\n",
      "\r\n",
      "\u001b[34mdef\u001b[39;49;00m \u001b[32mmodel_fn\u001b[39;49;00m(model_dir):\r\n",
      "    \u001b[33m\"\"\"Load the PyTorch model from the `model_dir` directory.\"\"\"\u001b[39;49;00m\r\n",
      "    \u001b[34mprint\u001b[39;49;00m(\u001b[33m\"\u001b[39;49;00m\u001b[33mLoading model.\u001b[39;49;00m\u001b[33m\"\u001b[39;49;00m)\r\n",
      "\r\n",
      "    \u001b[37m# First, load the parameters used to create the model.\u001b[39;49;00m\r\n",
      "    model_info = {}\r\n",
      "    model_info_path = os.path.join(model_dir, \u001b[33m'\u001b[39;49;00m\u001b[33mmodel_info.pth\u001b[39;49;00m\u001b[33m'\u001b[39;49;00m)\r\n",
      "    \u001b[34mwith\u001b[39;49;00m \u001b[36mopen\u001b[39;49;00m(model_info_path, \u001b[33m'\u001b[39;49;00m\u001b[33mrb\u001b[39;49;00m\u001b[33m'\u001b[39;49;00m) \u001b[34mas\u001b[39;49;00m f:\r\n",
      "        model_info = torch.load(f)\r\n",
      "\r\n",
      "    \u001b[34mprint\u001b[39;49;00m(\u001b[33m\"\u001b[39;49;00m\u001b[33mmodel_info: {}\u001b[39;49;00m\u001b[33m\"\u001b[39;49;00m.format(model_info))\r\n",
      "\r\n",
      "    \u001b[37m# Determine the device and construct the model.\u001b[39;49;00m\r\n",
      "    device = torch.device(\u001b[33m\"\u001b[39;49;00m\u001b[33mcuda\u001b[39;49;00m\u001b[33m\"\u001b[39;49;00m \u001b[34mif\u001b[39;49;00m torch.cuda.is_available() \u001b[34melse\u001b[39;49;00m \u001b[33m\"\u001b[39;49;00m\u001b[33mcpu\u001b[39;49;00m\u001b[33m\"\u001b[39;49;00m)\r\n",
      "    model = LSTMClassifier(model_info[\u001b[33m'\u001b[39;49;00m\u001b[33membedding_dim\u001b[39;49;00m\u001b[33m'\u001b[39;49;00m], model_info[\u001b[33m'\u001b[39;49;00m\u001b[33mhidden_dim\u001b[39;49;00m\u001b[33m'\u001b[39;49;00m], model_info[\u001b[33m'\u001b[39;49;00m\u001b[33mvocab_size\u001b[39;49;00m\u001b[33m'\u001b[39;49;00m])\r\n",
      "\r\n",
      "    \u001b[37m# Load the store model parameters.\u001b[39;49;00m\r\n",
      "    model_path = os.path.join(model_dir, \u001b[33m'\u001b[39;49;00m\u001b[33mmodel.pth\u001b[39;49;00m\u001b[33m'\u001b[39;49;00m)\r\n",
      "    \u001b[34mwith\u001b[39;49;00m \u001b[36mopen\u001b[39;49;00m(model_path, \u001b[33m'\u001b[39;49;00m\u001b[33mrb\u001b[39;49;00m\u001b[33m'\u001b[39;49;00m) \u001b[34mas\u001b[39;49;00m f:\r\n",
      "        model.load_state_dict(torch.load(f))\r\n",
      "\r\n",
      "    \u001b[37m# Load the saved word_dict.\u001b[39;49;00m\r\n",
      "    word_dict_path = os.path.join(model_dir, \u001b[33m'\u001b[39;49;00m\u001b[33mword_dict.pkl\u001b[39;49;00m\u001b[33m'\u001b[39;49;00m)\r\n",
      "    \u001b[34mwith\u001b[39;49;00m \u001b[36mopen\u001b[39;49;00m(word_dict_path, \u001b[33m'\u001b[39;49;00m\u001b[33mrb\u001b[39;49;00m\u001b[33m'\u001b[39;49;00m) \u001b[34mas\u001b[39;49;00m f:\r\n",
      "        model.word_dict = pickle.load(f)\r\n",
      "\r\n",
      "    model.to(device).eval()\r\n",
      "\r\n",
      "    \u001b[34mprint\u001b[39;49;00m(\u001b[33m\"\u001b[39;49;00m\u001b[33mDone loading model.\u001b[39;49;00m\u001b[33m\"\u001b[39;49;00m)\r\n",
      "    \u001b[34mreturn\u001b[39;49;00m model\r\n",
      "\r\n",
      "\u001b[34mdef\u001b[39;49;00m \u001b[32minput_fn\u001b[39;49;00m(serialized_input_data, content_type):\r\n",
      "    \u001b[34mprint\u001b[39;49;00m(\u001b[33m'\u001b[39;49;00m\u001b[33mDeserializing the input data.\u001b[39;49;00m\u001b[33m'\u001b[39;49;00m)\r\n",
      "    \u001b[34mif\u001b[39;49;00m content_type == \u001b[33m'\u001b[39;49;00m\u001b[33mtext/plain\u001b[39;49;00m\u001b[33m'\u001b[39;49;00m:\r\n",
      "        data = serialized_input_data.decode(\u001b[33m'\u001b[39;49;00m\u001b[33mutf-8\u001b[39;49;00m\u001b[33m'\u001b[39;49;00m)\r\n",
      "        \u001b[34mreturn\u001b[39;49;00m data\r\n",
      "    \u001b[34mraise\u001b[39;49;00m \u001b[36mException\u001b[39;49;00m(\u001b[33m'\u001b[39;49;00m\u001b[33mRequested unsupported ContentType in content_type: \u001b[39;49;00m\u001b[33m'\u001b[39;49;00m + content_type)\r\n",
      "\r\n",
      "\u001b[34mdef\u001b[39;49;00m \u001b[32moutput_fn\u001b[39;49;00m(prediction_output, accept):\r\n",
      "    \u001b[34mprint\u001b[39;49;00m(\u001b[33m'\u001b[39;49;00m\u001b[33mSerializing the generated output.\u001b[39;49;00m\u001b[33m'\u001b[39;49;00m)\r\n",
      "    \u001b[34mreturn\u001b[39;49;00m \u001b[36mstr\u001b[39;49;00m(prediction_output)\r\n",
      "\r\n",
      "\u001b[34mdef\u001b[39;49;00m \u001b[32mpredict_fn\u001b[39;49;00m(input_data, model):\r\n",
      "    \u001b[34mprint\u001b[39;49;00m(\u001b[33m'\u001b[39;49;00m\u001b[33mInferring sentiment of input data.\u001b[39;49;00m\u001b[33m'\u001b[39;49;00m)\r\n",
      "\r\n",
      "    device = torch.device(\u001b[33m\"\u001b[39;49;00m\u001b[33mcuda\u001b[39;49;00m\u001b[33m\"\u001b[39;49;00m \u001b[34mif\u001b[39;49;00m torch.cuda.is_available() \u001b[34melse\u001b[39;49;00m \u001b[33m\"\u001b[39;49;00m\u001b[33mcpu\u001b[39;49;00m\u001b[33m\"\u001b[39;49;00m)\r\n",
      "    \r\n",
      "    \u001b[34mif\u001b[39;49;00m model.word_dict \u001b[35mis\u001b[39;49;00m \u001b[36mNone\u001b[39;49;00m:\r\n",
      "        \u001b[34mraise\u001b[39;49;00m \u001b[36mException\u001b[39;49;00m(\u001b[33m'\u001b[39;49;00m\u001b[33mModel has not been loaded properly, no word_dict.\u001b[39;49;00m\u001b[33m'\u001b[39;49;00m)\r\n",
      "    \r\n",
      "    \u001b[37m# TODO: Process input_data so that it is ready to be sent to our model.\u001b[39;49;00m\r\n",
      "    \u001b[37m#       You should produce two variables:\u001b[39;49;00m\r\n",
      "    \u001b[37m#         data_X   - A sequence of length 500 which represents the converted review\u001b[39;49;00m\r\n",
      "    \u001b[37m#         data_len - The length of the review\u001b[39;49;00m\r\n",
      "    data_words = review_to_words(input_data)\r\n",
      "    data_int, data_len = convert_and_pad(model.word_dict, data_words)\r\n",
      "    data_X = data_int\r\n",
      "    data_len = data_len\r\n",
      "\r\n",
      "    \u001b[37m# Using data_X and data_len we construct an appropriate input tensor. Remember\u001b[39;49;00m\r\n",
      "    \u001b[37m# that our model expects input data of the form 'len, review[500]'.\u001b[39;49;00m\r\n",
      "    data_pack = np.hstack((data_len, data_X))\r\n",
      "    data_pack = data_pack.reshape(\u001b[34m1\u001b[39;49;00m, -\u001b[34m1\u001b[39;49;00m)\r\n",
      "    \r\n",
      "    data = torch.from_numpy(data_pack)\r\n",
      "    data = data.to(device)\r\n",
      "\r\n",
      "    \u001b[37m# Make sure to put the model into evaluation mode\u001b[39;49;00m\r\n",
      "    model.eval()\r\n",
      "\r\n",
      "    \u001b[37m# TODO: Compute the result of applying the model to the input data. The variable `result` should\u001b[39;49;00m\r\n",
      "    \u001b[37m#       be a numpy array which contains a single integer which is either 1 or 0\u001b[39;49;00m\r\n",
      "    \u001b[34mwith\u001b[39;49;00m torch.no_grad():\r\n",
      "        prediction = model(data)\r\n",
      "        \r\n",
      "    \u001b[37m#print(predictor.predict(review_input))\u001b[39;49;00m\r\n",
      "    result = np.round(prediction.numpy())\r\n",
      "\r\n",
      "    \u001b[34mreturn\u001b[39;49;00m result\r\n"
     ]
    }
   ],
   "source": [
    "!pygmentize serve/predict.py"
   ]
  },
  {
   "cell_type": "markdown",
   "metadata": {},
   "source": [
    "As mentioned earlier, the `model_fn` method is the same as the one provided in the training code and the `input_fn` and `output_fn` methods are very simple and your task will be to complete the `predict_fn` method. Make sure that you save the completed file as `predict.py` in the `serve` directory.\n",
    "\n",
    "**TODO**: Complete the `predict_fn()` method in the `serve/predict.py` file."
   ]
  },
  {
   "cell_type": "markdown",
   "metadata": {},
   "source": [
    "### Deploying the model\n",
    "\n",
    "Now that the custom inference code has been written, we will create and deploy our model. To begin with, we need to construct a new PyTorchModel object which points to the model artifacts created during training and also points to the inference code that we wish to use. Then we can call the deploy method to launch the deployment container.\n",
    "\n",
    "**NOTE**: The default behaviour for a deployed PyTorch model is to assume that any input passed to the predictor is a `numpy` array. In our case we want to send a string so we need to construct a simple wrapper around the `RealTimePredictor` class to accomodate simple strings. In a more complicated situation you may want to provide a serialization object, for example if you wanted to sent image data."
   ]
  },
  {
   "cell_type": "code",
   "execution_count": 230,
   "metadata": {},
   "outputs": [
    {
     "name": "stdout",
     "output_type": "stream",
     "text": [
      "-------------------------------------------------------------------------------------!"
     ]
    }
   ],
   "source": [
    "from sagemaker.predictor import RealTimePredictor\n",
    "from sagemaker.pytorch import PyTorchModel\n",
    "\n",
    "class StringPredictor(RealTimePredictor):\n",
    "    def __init__(self, endpoint_name, sagemaker_session):\n",
    "        super(StringPredictor, self).__init__(endpoint_name, sagemaker_session, content_type='text/plain')\n",
    "\n",
    "model = PyTorchModel(model_data=estimator.model_data,\n",
    "                     role = role,\n",
    "                     framework_version='0.4.0',\n",
    "                     entry_point='predict.py',\n",
    "                     source_dir='serve',\n",
    "                     predictor_cls=StringPredictor)\n",
    "predictor = model.deploy(initial_instance_count=1, instance_type='ml.m4.xlarge')"
   ]
  },
  {
   "cell_type": "markdown",
   "metadata": {},
   "source": [
    "### Testing the model\n",
    "\n",
    "Now that we have deployed our model with the custom inference code, we should test to see if everything is working. Here we test our model by loading the first `250` positive and negative reviews and send them to the endpoint, then collect the results. The reason for only sending some of the data is that the amount of time it takes for our model to process the input and then perform inference is quite long and so testing the entire data set would be prohibitive."
   ]
  },
  {
   "cell_type": "code",
   "execution_count": 246,
   "metadata": {},
   "outputs": [],
   "source": [
    "import glob\n",
    "\n",
    "def test_reviews(data_dir='../data/aclImdb', stop=250):\n",
    "    \n",
    "    results = []\n",
    "    ground = []\n",
    "    \n",
    "    # We make sure to test both positive and negative reviews    \n",
    "    for sentiment in ['pos', 'neg']:\n",
    "        \n",
    "        path = os.path.join(data_dir, 'test', sentiment, '*.txt')\n",
    "        files = glob.glob(path)\n",
    "        \n",
    "        files_read = 0\n",
    "        \n",
    "        print('Starting ', sentiment, ' files')\n",
    "        \n",
    "        # Iterate through the files and send them to the predictor\n",
    "        for f in files:\n",
    "            with open(f) as review:\n",
    "                # First, we store the ground truth (was the review positive or negative)\n",
    "                if sentiment == 'pos':\n",
    "                    ground.append(1)\n",
    "                else:\n",
    "                    ground.append(0)\n",
    "                # Read in the review and convert to 'utf-8' for transmission via HTTP\n",
    "                review_input = review.read().encode('utf-8')\n",
    "                #print(review_input)\n",
    "                #print(predictor.predict(review_input))\n",
    "                # Send the review to the predictor and store the results\n",
    "                results.append(int(float(predictor.predict(review_input).decode('utf-8'))))\n",
    "                \n",
    "            # Sending reviews to our endpoint one at a time takes a while so we\n",
    "            # only send a small number of reviews\n",
    "            files_read += 1\n",
    "            if files_read == stop:\n",
    "                break\n",
    "            \n",
    "    return ground, results"
   ]
  },
  {
   "cell_type": "code",
   "execution_count": 247,
   "metadata": {},
   "outputs": [
    {
     "name": "stdout",
     "output_type": "stream",
     "text": [
      "Starting  pos  files\n",
      "Starting  neg  files\n"
     ]
    }
   ],
   "source": [
    "ground, results = test_reviews()"
   ]
  },
  {
   "cell_type": "code",
   "execution_count": 248,
   "metadata": {},
   "outputs": [
    {
     "data": {
      "text/plain": [
       "0.81"
      ]
     },
     "execution_count": 248,
     "metadata": {},
     "output_type": "execute_result"
    }
   ],
   "source": [
    "from sklearn.metrics import accuracy_score\n",
    "accuracy_score(ground, results)"
   ]
  },
  {
   "cell_type": "markdown",
   "metadata": {},
   "source": [
    "As an additional test, we can try sending the `test_review` that we looked at earlier."
   ]
  },
  {
   "cell_type": "code",
   "execution_count": 250,
   "metadata": {},
   "outputs": [
    {
     "data": {
      "text/plain": [
       "1"
      ]
     },
     "execution_count": 250,
     "metadata": {},
     "output_type": "execute_result"
    }
   ],
   "source": [
    "int(float(predictor.predict(test_review).decode('utf-8')))"
   ]
  },
  {
   "cell_type": "markdown",
   "metadata": {},
   "source": [
    "Now that we know our endpoint is working as expected, we can set up the web page that will interact with it. If you don't have time to finish the project now, make sure to skip down to the end of this notebook and shut down your endpoint. You can deploy it again when you come back."
   ]
  },
  {
   "cell_type": "markdown",
   "metadata": {},
   "source": [
    "## Step 7 (again): Use the model for the web app\n",
    "\n",
    "> **TODO:** This entire section and the next contain tasks for you to complete, mostly using the AWS console.\n",
    "\n",
    "So far we have been accessing our model endpoint by constructing a predictor object which uses the endpoint and then just using the predictor object to perform inference. What if we wanted to create a web app which accessed our model? The way things are set up currently makes that not possible since in order to access a SageMaker endpoint the app would first have to authenticate with AWS using an IAM role which included access to SageMaker endpoints. However, there is an easier way! We just need to use some additional AWS services.\n",
    "\n",
    "<img src=\"Web App Diagram.svg\">\n",
    "\n",
    "The diagram above gives an overview of how the various services will work together. On the far right is the model which we trained above and which is deployed using SageMaker. On the far left is our web app that collects a user's movie review, sends it off and expects a positive or negative sentiment in return.\n",
    "\n",
    "In the middle is where some of the magic happens. We will construct a Lambda function, which you can think of as a straightforward Python function that can be executed whenever a specified event occurs. We will give this function permission to send and recieve data from a SageMaker endpoint.\n",
    "\n",
    "Lastly, the method we will use to execute the Lambda function is a new endpoint that we will create using API Gateway. This endpoint will be a url that listens for data to be sent to it. Once it gets some data it will pass that data on to the Lambda function and then return whatever the Lambda function returns. Essentially it will act as an interface that lets our web app communicate with the Lambda function.\n",
    "\n",
    "### Setting up a Lambda function\n",
    "\n",
    "The first thing we are going to do is set up a Lambda function. This Lambda function will be executed whenever our public API has data sent to it. When it is executed it will receive the data, perform any sort of processing that is required, send the data (the review) to the SageMaker endpoint we've created and then return the result.\n",
    "\n",
    "#### Part A: Create an IAM Role for the Lambda function\n",
    "\n",
    "Since we want the Lambda function to call a SageMaker endpoint, we need to make sure that it has permission to do so. To do this, we will construct a role that we can later give the Lambda function.\n",
    "\n",
    "Using the AWS Console, navigate to the **IAM** page and click on **Roles**. Then, click on **Create role**. Make sure that the **AWS service** is the type of trusted entity selected and choose **Lambda** as the service that will use this role, then click **Next: Permissions**.\n",
    "\n",
    "In the search box type `sagemaker` and select the check box next to the **AmazonSageMakerFullAccess** policy. Then, click on **Next: Review**.\n",
    "\n",
    "Lastly, give this role a name. Make sure you use a name that you will remember later on, for example `LambdaSageMakerRole`. Then, click on **Create role**.\n",
    "\n",
    "#### Part B: Create a Lambda function\n",
    "\n",
    "Now it is time to actually create the Lambda function.\n",
    "\n",
    "Using the AWS Console, navigate to the AWS Lambda page and click on **Create a function**. When you get to the next page, make sure that **Author from scratch** is selected. Now, name your Lambda function, using a name that you will remember later on, for example `sentiment_analysis_func`. Make sure that the **Python 3.6** runtime is selected and then choose the role that you created in the previous part. Then, click on **Create Function**.\n",
    "\n",
    "On the next page you will see some information about the Lambda function you've just created. If you scroll down you should see an editor in which you can write the code that will be executed when your Lambda function is triggered. In our example, we will use the code below. \n",
    "\n",
    "```python\n",
    "# We need to use the low-level library to interact with SageMaker since the SageMaker API\n",
    "# is not available natively through Lambda.\n",
    "import boto3\n",
    "\n",
    "def lambda_handler(event, context):\n",
    "\n",
    "    # The SageMaker runtime is what allows us to invoke the endpoint that we've created.\n",
    "    runtime = boto3.Session().client('sagemaker-runtime')\n",
    "\n",
    "    # Now we use the SageMaker runtime to invoke our endpoint, sending the review we were given\n",
    "    response = runtime.invoke_endpoint(EndpointName = '**ENDPOINT NAME HERE**',    # The name of the endpoint we created\n",
    "                                       ContentType = 'text/plain',                 # The data format that is expected\n",
    "                                       Body = event['body'])                       # The actual review\n",
    "\n",
    "    # The response is an HTTP response whose body contains the result of our inference\n",
    "    result = response['Body'].read().decode('utf-8')\n",
    "\n",
    "    return {\n",
    "        'statusCode' : 200,\n",
    "        'headers' : { 'Content-Type' : 'text/plain', 'Access-Control-Allow-Origin' : '*' },\n",
    "        'body' : result\n",
    "    }\n",
    "```\n",
    "\n",
    "Once you have copy and pasted the code above into the Lambda code editor, replace the `**ENDPOINT NAME HERE**` portion with the name of the endpoint that we deployed earlier. You can determine the name of the endpoint using the code cell below."
   ]
  },
  {
   "cell_type": "code",
   "execution_count": 252,
   "metadata": {},
   "outputs": [
    {
     "data": {
      "text/plain": [
       "'sagemaker-pytorch-2019-10-26-02-50-40-346'"
      ]
     },
     "execution_count": 252,
     "metadata": {},
     "output_type": "execute_result"
    }
   ],
   "source": [
    "predictor.endpoint"
   ]
  },
  {
   "cell_type": "markdown",
   "metadata": {},
   "source": [
    "Once you have added the endpoint name to the Lambda function, click on **Save**. Your Lambda function is now up and running. Next we need to create a way for our web app to execute the Lambda function.\n",
    "\n",
    "### Setting up API Gateway\n",
    "\n",
    "Now that our Lambda function is set up, it is time to create a new API using API Gateway that will trigger the Lambda function we have just created.\n",
    "\n",
    "Using AWS Console, navigate to **Amazon API Gateway** and then click on **Get started**.\n",
    "\n",
    "On the next page, make sure that **New API** is selected and give the new api a name, for example, `sentiment_analysis_api`. Then, click on **Create API**.\n",
    "\n",
    "Now we have created an API, however it doesn't currently do anything. What we want it to do is to trigger the Lambda function that we created earlier.\n",
    "\n",
    "Select the **Actions** dropdown menu and click **Create Method**. A new blank method will be created, select its dropdown menu and select **POST**, then click on the check mark beside it.\n",
    "\n",
    "For the integration point, make sure that **Lambda Function** is selected and click on the **Use Lambda Proxy integration**. This option makes sure that the data that is sent to the API is then sent directly to the Lambda function with no processing. It also means that the return value must be a proper response object as it will also not be processed by API Gateway.\n",
    "\n",
    "Type the name of the Lambda function you created earlier into the **Lambda Function** text entry box and then click on **Save**. Click on **OK** in the pop-up box that then appears, giving permission to API Gateway to invoke the Lambda function you created.\n",
    "\n",
    "The last step in creating the API Gateway is to select the **Actions** dropdown and click on **Deploy API**. You will need to create a new Deployment stage and name it anything you like, for example `prod`.\n",
    "\n",
    "You have now successfully set up a public API to access your SageMaker model. Make sure to copy or write down the URL provided to invoke your newly created public API as this will be needed in the next step. This URL can be found at the top of the page, highlighted in blue next to the text **Invoke URL**."
   ]
  },
  {
   "cell_type": "markdown",
   "metadata": {},
   "source": [
    "## Step 4: Deploying our web app\n",
    "\n",
    "Now that we have a publicly available API, we can start using it in a web app. For our purposes, we have provided a simple static html file which can make use of the public api you created earlier.\n",
    "\n",
    "In the `website` folder there should be a file called `index.html`. Download the file to your computer and open that file up in a text editor of your choice. There should be a line which contains **\\*\\*REPLACE WITH PUBLIC API URL\\*\\***. Replace this string with the url that you wrote down in the last step and then save the file.\n",
    "\n",
    "Now, if you open `index.html` on your local computer, your browser will behave as a local web server and you can use the provided site to interact with your SageMaker model.\n",
    "\n",
    "If you'd like to go further, you can host this html file anywhere you'd like, for example using github or hosting a static site on Amazon's S3. Once you have done this you can share the link with anyone you'd like and have them play with it too!\n",
    "\n",
    "> **Important Note** In order for the web app to communicate with the SageMaker endpoint, the endpoint has to actually be deployed and running. This means that you are paying for it. Make sure that the endpoint is running when you want to use the web app but that you shut it down when you don't need it, otherwise you will end up with a surprisingly large AWS bill.\n",
    "\n",
    "**TODO:** Make sure that you include the edited `index.html` file in your project submission."
   ]
  },
  {
   "cell_type": "markdown",
   "metadata": {},
   "source": [
    "Now that your web app is working, trying playing around with it and see how well it works.\n",
    "\n",
    "**Question**: Give an example of a review that you entered into your web app. What was the predicted sentiment of your example review?"
   ]
  },
  {
   "cell_type": "markdown",
   "metadata": {},
   "source": [
    "**Answer:** A simple one . \" I loved this movie. Simply pleasant experience\". Predicted postive."
   ]
  },
  {
   "cell_type": "markdown",
   "metadata": {},
   "source": [
    "### Delete the endpoint\n",
    "\n",
    "Remember to always shut down your endpoint if you are no longer using it. You are charged for the length of time that the endpoint is running so if you forget and leave it on you could end up with an unexpectedly large bill."
   ]
  },
  {
   "cell_type": "code",
   "execution_count": 253,
   "metadata": {},
   "outputs": [],
   "source": [
    "predictor.delete_endpoint()"
   ]
  },
  {
   "cell_type": "code",
   "execution_count": null,
   "metadata": {},
   "outputs": [],
   "source": []
  }
 ],
 "metadata": {
  "kernelspec": {
   "display_name": "conda_pytorch_p36",
   "language": "python",
   "name": "conda_pytorch_p36"
  },
  "language_info": {
   "codemirror_mode": {
    "name": "ipython",
    "version": 3
   },
   "file_extension": ".py",
   "mimetype": "text/x-python",
   "name": "python",
   "nbconvert_exporter": "python",
   "pygments_lexer": "ipython3",
   "version": "3.6.5"
  }
 },
 "nbformat": 4,
 "nbformat_minor": 2
}
